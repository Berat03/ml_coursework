{
 "cells": [
  {
   "cell_type": "code",
   "execution_count": 125,
   "outputs": [],
   "source": [
    "import pandas as pd\n",
    "import matplotlib.pyplot as plt\n",
    "from sklearn.linear_model import LogisticRegression\n",
    "from sklearn.model_selection import train_test_split\n",
    "from sklearn.metrics import confusion_matrix, precision_score, recall_score, roc_curve, roc_auc_score\n",
    "from sklearn.metrics import classification_report\n",
    "from sklearn.dummy import DummyClassifier\n",
    "from utils import standardize"
   ],
   "metadata": {
    "collapsed": false
   }
  },
  {
   "cell_type": "markdown",
   "source": [
    "Why logistic regression?\n",
    "    - Logistic regression is used for binary classification. This suits our project as we are classifying whether a tumour is malignant (M) or benign (B).\n",
    "\n",
    "How will we evaluate the model?\n",
    "   - Bias (how accurate the model is)\n",
    "   - Variance (how spread out the predictions are from the mean)\n",
    "\n",
    "(This shows us if our model is overfitting / underfitting)\n",
    "\n",
    "Since it's a classification algorithm, we evaluate it with:\n",
    "- Accuracy\n",
    "- Precision\n",
    "- Recall\n",
    "\n",
    "Confusion matrix to see the distribution of TP, FP, TN, FN\n",
    "\n",
    "IMPORTANT TODO:\n",
    "- Cost of FN is much higher than TP, FP, TN\n",
    "- IS MY MODEL OVERFITTING / UNDERFITTING? <- how can we check? (bias / variance tradeoff)\n",
    "- Make heatmap of confusion matrix\n",
    "\n",
    "Chi-squared tests to see which variables are useless?\n",
    "\n",
    "https://www.kaggle.com/code/prashant111/logistic-regression-classifier-tutorial"
   ],
   "metadata": {
    "collapsed": false
   }
  },
  {
   "cell_type": "code",
   "execution_count": 126,
   "outputs": [],
   "source": [
    "df = pd.read_csv('./Data Exploration/wdbc.csv')\n",
    "labels = df['B/M']\n",
    "features = df[['Radius', 'Texture', 'Perimeter', 'Area', 'Smoothness', 'Compactness', 'Concavity', 'ConcavePoints', 'Symmetry', 'FractalDimension']]"
   ],
   "metadata": {
    "collapsed": false
   }
  },
  {
   "cell_type": "code",
   "execution_count": 127,
   "outputs": [
    {
     "name": "stderr",
     "output_type": "stream",
     "text": [
      "/home/nicky/Documents/CS/ai/ai_coursework/utils.py:15: SettingWithCopyWarning: \n",
      "A value is trying to be set on a copy of a slice from a DataFrame.\n",
      "Try using .loc[row_indexer,col_indexer] = value instead\n",
      "\n",
      "See the caveats in the documentation: https://pandas.pydata.org/pandas-docs/stable/user_guide/indexing.html#returning-a-view-versus-a-copy\n",
      "  df[columns if columns else df.select_dtypes(['float64', 'int64']).columns.values] = ColumnTransformer([\n"
     ]
    }
   ],
   "source": [
    "# Standardize features\n",
    "features = standardize(features)"
   ],
   "metadata": {
    "collapsed": false
   }
  },
  {
   "cell_type": "markdown",
   "source": [
    "Distribution of B / M, we will use this result when comparing our model to a dummy model later"
   ],
   "metadata": {
    "collapsed": false
   }
  },
  {
   "cell_type": "code",
   "execution_count": 128,
   "outputs": [
    {
     "data": {
      "text/plain": "B    357\nM    212\nName: B/M, dtype: int64"
     },
     "execution_count": 128,
     "metadata": {},
     "output_type": "execute_result"
    }
   ],
   "source": [
    "labels.value_counts()"
   ],
   "metadata": {
    "collapsed": false
   }
  },
  {
   "cell_type": "code",
   "execution_count": 129,
   "outputs": [],
   "source": [
    "# 80% train, 20% test\n",
    "x_train, x_test, y_train, y_test = train_test_split(features, labels, test_size=0.2)"
   ],
   "metadata": {
    "collapsed": false
   }
  },
  {
   "cell_type": "code",
   "execution_count": 130,
   "outputs": [],
   "source": [
    "# Fit model to training data\n",
    "model = LogisticRegression().fit(x_train, y_train)\n",
    "y_pred = model.predict(x_test)\n",
    "# Accuracy\n",
    "accuracy = model.score(x_test, y_test)"
   ],
   "metadata": {
    "collapsed": false
   }
  },
  {
   "cell_type": "code",
   "execution_count": 131,
   "outputs": [
    {
     "data": {
      "text/plain": "array(['B', 'B', 'M', 'B', 'B', 'B', 'M', 'B', 'M', 'B', 'B', 'M', 'B',\n       'B', 'B', 'B', 'B', 'B', 'M', 'B', 'M', 'B', 'M', 'M', 'B', 'B',\n       'B', 'B', 'M', 'B', 'B', 'M', 'B', 'B', 'B', 'M', 'B', 'B', 'M',\n       'M', 'B', 'B', 'B', 'B', 'M', 'B', 'B', 'M', 'B', 'B', 'M', 'B',\n       'B', 'M', 'B', 'M', 'B', 'B', 'B', 'B', 'M', 'M', 'B', 'M', 'B',\n       'B', 'M', 'B', 'B', 'B', 'B', 'B', 'M', 'M', 'B', 'B', 'B', 'M',\n       'B', 'M', 'B', 'B', 'B', 'M', 'B', 'B', 'B', 'B', 'M', 'M', 'M',\n       'M', 'B', 'M', 'B', 'B', 'B', 'B', 'B', 'M', 'B', 'B', 'B', 'B',\n       'B', 'M', 'B', 'M', 'B', 'B', 'B', 'B', 'M', 'B'], dtype=object)"
     },
     "execution_count": 131,
     "metadata": {},
     "output_type": "execute_result"
    }
   ],
   "source": [
    "y_pred"
   ],
   "metadata": {
    "collapsed": false
   }
  },
  {
   "cell_type": "markdown",
   "source": [
    "Investigate classifications by our model:"
   ],
   "metadata": {
    "collapsed": false
   }
  },
  {
   "cell_type": "code",
   "execution_count": 132,
   "outputs": [
    {
     "name": "stdout",
     "output_type": "stream",
     "text": [
      "True negatives: 74\n",
      "False negatives: 4\n",
      "True positives: 31\n",
      "False positives: 5\n"
     ]
    }
   ],
   "source": [
    "c = confusion_matrix(y_test, y_pred)\n",
    "\n",
    "print(f'True negatives: {c[0][0]}')\n",
    "print(f'False negatives: {c[1][0]}')\n",
    "print(f'True positives: {c[1][1]}')\n",
    "print(f'False positives: {c[0][1]}')"
   ],
   "metadata": {
    "collapsed": false
   }
  },
  {
   "cell_type": "code",
   "execution_count": 133,
   "outputs": [
    {
     "name": "stdout",
     "output_type": "stream",
     "text": [
      "              precision    recall  f1-score   support\n",
      "\n",
      "           B       0.95      0.94      0.94        79\n",
      "           M       0.86      0.89      0.87        35\n",
      "\n",
      "    accuracy                           0.92       114\n",
      "   macro avg       0.90      0.91      0.91       114\n",
      "weighted avg       0.92      0.92      0.92       114\n",
      "\n"
     ]
    }
   ],
   "source": [
    "print(classification_report(y_test, y_pred))"
   ],
   "metadata": {
    "collapsed": false
   }
  },
  {
   "cell_type": "code",
   "execution_count": 134,
   "outputs": [
    {
     "name": "stdout",
     "output_type": "stream",
     "text": [
      "Accuracy: 0.9210526315789473\n",
      "Recall: 0.8857142857142857\n",
      "Precision: 0.8611111111111112\n"
     ]
    }
   ],
   "source": [
    "print(f'Accuracy: {accuracy}')\n",
    "print(f'Recall: {recall_score(y_test, y_pred, pos_label=\"M\")}')\n",
    "print(f'Precision: {precision_score(y_test, y_pred, pos_label=\"M\", zero_division=0)}')"
   ],
   "metadata": {
    "collapsed": false
   }
  },
  {
   "cell_type": "markdown",
   "source": [
    "Dummy classifier:\n",
    "Our dummy model will classify data with the label that occurs most often. Does our model beat the dummy model?"
   ],
   "metadata": {
    "collapsed": false
   }
  },
  {
   "cell_type": "code",
   "execution_count": 135,
   "outputs": [
    {
     "name": "stdout",
     "output_type": "stream",
     "text": [
      "Our model beats the dummy model\n"
     ]
    }
   ],
   "source": [
    "dm = DummyClassifier()\n",
    "dm.fit(x_train, y_train)\n",
    "dummy_score = dm.score(x_test, y_test)\n",
    "print(f'{\"Our model beats the dummy model\" if accuracy > dummy_score else \"Our model does not beat the dummy model.\"}')"
   ],
   "metadata": {
    "collapsed": false
   }
  },
  {
   "cell_type": "markdown",
   "source": [
    "# 3. Hyperparameter Tuning"
   ],
   "metadata": {
    "collapsed": false
   }
  },
  {
   "cell_type": "markdown",
   "source": [
    "# 3.1 ROC Curve\n",
    "Tuning the threshold p-value and seeing how this affects our classifications.\n",
    "\n",
    "ROC Curves shows us the True Positive rate (TP / (TP + FN)) against the False Positive Rate (FP / (FP + TN)) with different thresholds."
   ],
   "metadata": {
    "collapsed": false
   }
  },
  {
   "cell_type": "code",
   "execution_count": 136,
   "outputs": [
    {
     "data": {
      "text/plain": "<Figure size 640x480 with 1 Axes>",
      "image/png": "[encoded data removed]"
     },
     "metadata": {},
     "output_type": "display_data"
    }
   ],
   "source": [
    "# First col is the p that a sample is class B, second col is p that sample is class M\n",
    "y_pred_prob = model.predict_proba(x_test)\n",
    "fpr, tpr, thresholds = roc_curve(y_test, y_pred_prob[:, 1], pos_label = 'M')\n",
    "\n",
    "plt.plot(fpr, tpr)\n",
    "plt.title('ROC curve')\n",
    "plt.xlabel('False positive rate')\n",
    "plt.ylabel('True Positive Rate')\n",
    "# todo: add legend?\n",
    "plt.show()"
   ],
   "metadata": {
    "collapsed": false
   }
  },
  {
   "cell_type": "markdown",
   "source": [
    "We want to find the threshold which finds the balance between the TPR and the FPR.\n",
    "\n",
    "Since our model is being used to classify tumorous cells, it is important to maximise the TPR.\n",
    "\n",
    "NOTE: after changing the threshold, see if you are overfitting."
   ],
   "metadata": {
    "collapsed": false
   }
  },
  {
   "cell_type": "code",
   "execution_count": 137,
   "outputs": [
    {
     "name": "stdout",
     "output_type": "stream",
     "text": [
      "\n",
      "    TPR: 0.02857142857142857\n",
      "    FPR: 0.0\n",
      "    threshold: 0.9999999995363726\n",
      "\n",
      "    TPR: 0.7714285714285715\n",
      "    FPR: 0.0\n",
      "    threshold: 0.9156651554362577\n",
      "\n",
      "    TPR: 0.7714285714285715\n",
      "    FPR: 0.012658227848101266\n",
      "    threshold: 0.8627604773165092\n",
      "\n",
      "    TPR: 0.8285714285714286\n",
      "    FPR: 0.012658227848101266\n",
      "    threshold: 0.729425662535056\n",
      "\n",
      "    TPR: 0.8285714285714286\n",
      "    FPR: 0.02531645569620253\n",
      "    threshold: 0.6549785754919034\n",
      "\n",
      "    TPR: 0.8857142857142857\n",
      "    FPR: 0.02531645569620253\n",
      "    threshold: 0.5668617594271542\n",
      "\n",
      "    TPR: 0.8857142857142857\n",
      "    FPR: 0.06329113924050633\n",
      "    threshold: 0.5288858213605262\n",
      "\n",
      "    TPR: 0.9142857142857143\n",
      "    FPR: 0.06329113924050633\n",
      "    threshold: 0.3893921896632727\n",
      "\n",
      "    TPR: 0.9142857142857143\n",
      "    FPR: 0.0759493670886076\n",
      "    threshold: 0.3640917179319775\n",
      "\n",
      "    TPR: 0.9428571428571428\n",
      "    FPR: 0.0759493670886076\n",
      "    threshold: 0.3453205490815116\n",
      "\n",
      "    TPR: 0.9428571428571428\n",
      "    FPR: 0.10126582278481013\n",
      "    threshold: 0.2748898375032912\n",
      "\n",
      "    TPR: 1.0\n",
      "    FPR: 0.10126582278481013\n",
      "    threshold: 0.23136773263953528\n",
      "\n",
      "    TPR: 1.0\n",
      "    FPR: 1.0\n",
      "    threshold: 5.005580002581645e-05\n"
     ]
    }
   ],
   "source": [
    "for metric in list(zip(tpr, fpr, thresholds))[1::]:\n",
    "    tpr_, fpr_, threshold =  metric[0], metric[1], metric[2]\n",
    "    print(f'''\n",
    "    TPR: {tpr_}\n",
    "    FPR: {fpr_}\n",
    "    threshold: {threshold}''')"
   ],
   "metadata": {
    "collapsed": false
   }
  },
  {
   "cell_type": "markdown",
   "source": [
    "# Selecting a threshold\n",
    "\n",
    "A TPR of 1 means that there are no FNs (M cells classified as B). But as TPR increases, so does FPR. We must find the balance of maximising TPR while minimizing FPR as FPs have a cost:\n",
    "(e.g. patients having to go through intense chemotherapy as their benign tumour is treated as malignant)\n",
    "\n",
    "I think a reasonable balance is\n",
    "**TPR: 0.933...**\n",
    "**FPR: 0.0724...**\n",
    "**Threshold = 0.44972366367104066**\n",
    "*(which is slightly lower than the default 0.5)*"
   ],
   "metadata": {
    "collapsed": false
   }
  },
  {
   "cell_type": "markdown",
   "source": [
    "# AUC\n",
    "AUC is the area under the ROC graph. **We can use AUC to compare two classification models**."
   ],
   "metadata": {
    "collapsed": false
   }
  },
  {
   "cell_type": "code",
   "execution_count": 139,
   "outputs": [
    {
     "data": {
      "text/plain": "0.9880650994575045"
     },
     "execution_count": 139,
     "metadata": {},
     "output_type": "execute_result"
    }
   ],
   "source": [
    "roc_auc_score(y_true=y_test, y_score=y_pred_prob[:, 1])"
   ],
   "metadata": {
    "collapsed": false
   }
  },
  {
   "cell_type": "code",
   "execution_count": null,
   "outputs": [],
   "source": [],
   "metadata": {
    "collapsed": false
   }
  }
 ],
 "metadata": {
  "kernelspec": {
   "display_name": "Python 3",
   "language": "python",
   "name": "python3"
  },
  "language_info": {
   "codemirror_mode": {
    "name": "ipython",
    "version": 2
   },
   "file_extension": ".py",
   "mimetype": "text/x-python",
   "name": "python",
   "nbconvert_exporter": "python",
   "pygments_lexer": "ipython2",
   "version": "2.7.6"
  }
 },
 "nbformat": 4,
 "nbformat_minor": 0
}
