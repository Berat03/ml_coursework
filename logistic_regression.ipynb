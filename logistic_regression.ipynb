{
 "cells": [
  {
   "cell_type": "code",
   "execution_count": 1,
   "outputs": [],
   "source": [
    "import pandas as pd\n",
    "import matplotlib.pyplot as plt\n",
    "from sklearn.linear_model import LogisticRegression\n",
    "from sklearn.model_selection import train_test_split\n",
    "from sklearn.metrics import confusion_matrix, precision_score, recall_score, roc_curve, roc_auc_score, accuracy_score, classification_report\n",
    "from sklearn.dummy import DummyClassifier\n",
    "from sklearn.compose import ColumnTransformer\n",
    "from sklearn.preprocessing import StandardScaler"
   ],
   "metadata": {
    "collapsed": false
   }
  },
  {
   "cell_type": "markdown",
   "source": [
    "Why logistic regression?\n",
    "    - Logistic regression is used for binary classification. This suits our project as we are classifying whether a tumour is malignant (M) or benign (B).\n",
    "\n",
    "How will we evaluate the model?\n",
    "   - Bias (how accurate the model is)\n",
    "   - Variance (how spread out the predictions are from the mean)\n",
    "\n",
    "(This shows us if our model is overfitting / underfitting), make graphs\n",
    "\n",
    "Since it's a classification algorithm, we evaluate it with:\n",
    "- Accuracy\n",
    "- Precision\n",
    "- Recall\n",
    "\n",
    "Confusion matrix to see the distribution of TP, FP, TN, FN\n",
    "\n",
    "IMPORTANT TODO:\n",
    "- Cost of FN is much higher than TP, FP, TN\n",
    "- IS MY MODEL OVERFITTING / UNDERFITTING? <- how can we check? (bias / variance tradeoff)\n",
    "- Make heatmap of confusion matrix\n",
    "\n",
    "Chi-squared tests to see which variables are useless?\n",
    "\n",
    "https://www.kaggle.com/code/prashant111/logistic-regression-classifier-tutorial"
   ],
   "metadata": {
    "collapsed": false
   }
  },
  {
   "cell_type": "code",
   "execution_count": 2,
   "outputs": [],
   "source": [
    "df = pd.read_csv('./Data Exploration/wdbc.csv')\n",
    "labels = df['B/M']\n",
    "features = df[['Radius', 'Texture', 'Smoothness', 'Compactness', 'Concavity', 'ConcavePoints', 'Symmetry', 'FractalDimension']]"
   ],
   "metadata": {
    "collapsed": false
   }
  },
  {
   "cell_type": "code",
   "execution_count": 3,
   "outputs": [
    {
     "name": "stderr",
     "output_type": "stream",
     "text": [
      "/tmp/ipykernel_9169/4033405741.py:2: SettingWithCopyWarning: \n",
      "A value is trying to be set on a copy of a slice from a DataFrame.\n",
      "Try using .loc[row_indexer,col_indexer] = value instead\n",
      "\n",
      "See the caveats in the documentation: https://pandas.pydata.org/pandas-docs/stable/user_guide/indexing.html#returning-a-view-versus-a-copy\n",
      "  features[features.select_dtypes(['float64', 'int64']).columns.values] = ColumnTransformer([\n"
     ]
    }
   ],
   "source": [
    "# Standardize features\n",
    "features[features.select_dtypes(['float64', 'int64']).columns.values] = ColumnTransformer([\n",
    "        ('StandardScaler', StandardScaler(), features.columns.values)\n",
    "    ]).fit_transform(df)"
   ],
   "metadata": {
    "collapsed": false
   }
  },
  {
   "cell_type": "markdown",
   "source": [
    "Distribution of B / M, we will use this result when comparing our model to a dummy model later"
   ],
   "metadata": {
    "collapsed": false
   }
  },
  {
   "cell_type": "code",
   "execution_count": 4,
   "outputs": [
    {
     "data": {
      "text/plain": "B    357\nM    212\nName: B/M, dtype: int64"
     },
     "execution_count": 4,
     "metadata": {},
     "output_type": "execute_result"
    }
   ],
   "source": [
    "labels.value_counts()"
   ],
   "metadata": {
    "collapsed": false
   }
  },
  {
   "cell_type": "code",
   "execution_count": 5,
   "outputs": [],
   "source": [
    "# 80% train, 20% test\n",
    "# todo: stratified sample\n",
    "x_train, x_test, y_train, y_test = train_test_split(features, labels, test_size=0.25, random_state=0, stratify=labels)"
   ],
   "metadata": {
    "collapsed": false
   }
  },
  {
   "cell_type": "code",
   "execution_count": 6,
   "outputs": [],
   "source": [
    "# Fit model to training data\n",
    "model = LogisticRegression().fit(x_train, y_train)\n",
    "y_pred = model.predict(x_test)\n",
    "# Accuracy\n",
    "accuracy = model.score(x_test, y_test)"
   ],
   "metadata": {
    "collapsed": false
   }
  },
  {
   "cell_type": "code",
   "execution_count": 7,
   "outputs": [
    {
     "data": {
      "text/plain": "array(['M', 'B', 'B', 'B', 'M', 'B', 'B', 'B', 'B', 'M', 'B', 'B', 'B',\n       'M', 'B', 'M', 'B', 'B', 'B', 'B', 'M', 'M', 'B', 'M', 'B', 'M',\n       'M', 'B', 'M', 'B', 'M', 'M', 'M', 'B', 'B', 'M', 'B', 'B', 'B',\n       'M', 'B', 'B', 'B', 'B', 'M', 'B', 'M', 'B', 'B', 'M', 'B', 'B',\n       'M', 'B', 'M', 'M', 'B', 'B', 'B', 'M', 'M', 'M', 'M', 'B', 'B',\n       'B', 'B', 'M', 'B', 'B', 'M', 'M', 'B', 'M', 'B', 'B', 'M', 'M',\n       'B', 'B', 'B', 'B', 'B', 'B', 'B', 'M', 'M', 'M', 'B', 'M', 'B',\n       'B', 'B', 'B', 'B', 'B', 'B', 'B', 'B', 'B', 'B', 'M', 'B', 'M',\n       'M', 'B', 'B', 'B', 'M', 'M', 'M', 'B', 'M', 'B', 'B', 'M', 'M',\n       'M', 'B', 'M', 'B', 'B', 'M', 'M', 'B', 'B', 'B', 'B', 'M', 'B',\n       'B', 'B', 'M', 'M', 'M', 'B', 'B', 'M', 'M', 'B', 'B', 'M', 'B'],\n      dtype=object)"
     },
     "execution_count": 7,
     "metadata": {},
     "output_type": "execute_result"
    }
   ],
   "source": [
    "y_pred"
   ],
   "metadata": {
    "collapsed": false
   }
  },
  {
   "cell_type": "markdown",
   "source": [
    "Investigate classifications by our model:"
   ],
   "metadata": {
    "collapsed": false
   }
  },
  {
   "cell_type": "code",
   "execution_count": 8,
   "outputs": [
    {
     "name": "stdout",
     "output_type": "stream",
     "text": [
      "True negatives: 84\n",
      "False negatives: 3\n",
      "True positives: 50\n",
      "False positives: 6\n"
     ]
    }
   ],
   "source": [
    "c = confusion_matrix(y_test, y_pred)\n",
    "\n",
    "print(f'True negatives: {c[0][0]}')\n",
    "print(f'False negatives: {c[1][0]}')\n",
    "print(f'True positives: {c[1][1]}')\n",
    "print(f'False positives: {c[0][1]}')"
   ],
   "metadata": {
    "collapsed": false
   }
  },
  {
   "cell_type": "code",
   "execution_count": 9,
   "outputs": [
    {
     "name": "stdout",
     "output_type": "stream",
     "text": [
      "              precision    recall  f1-score   support\n",
      "\n",
      "           B       0.97      0.93      0.95        90\n",
      "           M       0.89      0.94      0.92        53\n",
      "\n",
      "    accuracy                           0.94       143\n",
      "   macro avg       0.93      0.94      0.93       143\n",
      "weighted avg       0.94      0.94      0.94       143\n",
      "\n"
     ]
    }
   ],
   "source": [
    "print(classification_report(y_test, y_pred))"
   ],
   "metadata": {
    "collapsed": false
   }
  },
  {
   "cell_type": "code",
   "execution_count": 10,
   "outputs": [
    {
     "name": "stdout",
     "output_type": "stream",
     "text": [
      "Accuracy: 0.9370629370629371\n",
      "Recall: 0.9433962264150944\n",
      "Precision: 0.8928571428571429\n"
     ]
    }
   ],
   "source": [
    "print(f'Accuracy: {accuracy}')\n",
    "print(f'Recall: {recall_score(y_test, y_pred, pos_label=\"M\")}')\n",
    "print(f'Precision: {precision_score(y_test, y_pred, pos_label=\"M\", zero_division=0)}')"
   ],
   "metadata": {
    "collapsed": false
   }
  },
  {
   "cell_type": "markdown",
   "source": [
    "Dummy classifier:\n",
    "Our dummy model will classify data with the label that occurs most often. Does our model beat the dummy model?"
   ],
   "metadata": {
    "collapsed": false
   }
  },
  {
   "cell_type": "code",
   "execution_count": 11,
   "outputs": [
    {
     "name": "stdout",
     "output_type": "stream",
     "text": [
      "Our model beats the dummy model\n"
     ]
    }
   ],
   "source": [
    "dm = DummyClassifier()\n",
    "dm.fit(x_train, y_train)\n",
    "dummy_score = dm.score(x_test, y_test)\n",
    "print(f'{\"Our model beats the dummy model\" if accuracy > dummy_score else \"Our model does not beat the dummy model.\"}')"
   ],
   "metadata": {
    "collapsed": false
   }
  },
  {
   "cell_type": "markdown",
   "source": [
    "# 3. Hyperparameter Tuning"
   ],
   "metadata": {
    "collapsed": false
   }
  },
  {
   "cell_type": "markdown",
   "source": [
    "# 3.1 ROC Curve\n",
    "Tuning the threshold p-value and seeing how this affects our classifications.\n",
    "\n",
    "ROC Curves shows us the True Positive rate (TP / (TP + FN)) against the False Positive Rate (FP / (FP + TN)) with different thresholds."
   ],
   "metadata": {
    "collapsed": false
   }
  },
  {
   "cell_type": "code",
   "execution_count": 12,
   "outputs": [
    {
     "data": {
      "text/plain": "<Figure size 640x480 with 1 Axes>",
      "image/png": "[encoded data removed]"
     },
     "metadata": {},
     "output_type": "display_data"
    }
   ],
   "source": [
    "# First col is the p that a sample is class B, second col is p that sample is class M\n",
    "y_pred_prob = model.predict_proba(x_test)\n",
    "fpr, tpr, thresholds = roc_curve(y_test, y_pred_prob[:, 1], pos_label = 'M')\n",
    "\n",
    "plt.plot(fpr, tpr)\n",
    "plt.title('ROC curve')\n",
    "plt.xlabel('False positive rate')\n",
    "plt.ylabel('True Positive Rate')\n",
    "# todo: add legend?\n",
    "plt.show()"
   ],
   "metadata": {
    "collapsed": false
   }
  },
  {
   "cell_type": "markdown",
   "source": [
    "We want to find the threshold which finds the balance between the TPR and the FPR.\n",
    "\n",
    "Since our model is being used to classify tumorous cells, it is important to maximise the TPR.\n",
    "\n",
    "NOTE: after changing the threshold, see if you are overfitting."
   ],
   "metadata": {
    "collapsed": false
   }
  },
  {
   "cell_type": "code",
   "execution_count": 13,
   "outputs": [
    {
     "name": "stdout",
     "output_type": "stream",
     "text": [
      "\n",
      "    TPR: 0.018867924528301886\n",
      "    FPR: 0.0\n",
      "    threshold: 0.9999999905999045\n",
      "    threshold_idx: 1\n",
      "    \n",
      "\n",
      "    TPR: 0.7547169811320755\n",
      "    FPR: 0.0\n",
      "    threshold: 0.975706270841473\n",
      "    threshold_idx: 2\n",
      "    \n",
      "\n",
      "    TPR: 0.7547169811320755\n",
      "    FPR: 0.011111111111111112\n",
      "    threshold: 0.9491343597519781\n",
      "    threshold_idx: 3\n",
      "    \n",
      "\n",
      "    TPR: 0.9056603773584906\n",
      "    FPR: 0.011111111111111112\n",
      "    threshold: 0.8334642274836616\n",
      "    threshold_idx: 4\n",
      "    \n",
      "\n",
      "    TPR: 0.9056603773584906\n",
      "    FPR: 0.022222222222222223\n",
      "    threshold: 0.8023928088091531\n",
      "    threshold_idx: 5\n",
      "    \n",
      "\n",
      "    TPR: 0.9245283018867925\n",
      "    FPR: 0.022222222222222223\n",
      "    threshold: 0.7686557732073038\n",
      "    threshold_idx: 6\n",
      "    \n",
      "\n",
      "    TPR: 0.9245283018867925\n",
      "    FPR: 0.05555555555555555\n",
      "    threshold: 0.5654104050319733\n",
      "    threshold_idx: 7\n",
      "    \n",
      "\n",
      "    TPR: 0.9433962264150944\n",
      "    FPR: 0.05555555555555555\n",
      "    threshold: 0.5394656932308006\n",
      "    threshold_idx: 8\n",
      "    \n",
      "\n",
      "    TPR: 0.9433962264150944\n",
      "    FPR: 0.12222222222222222\n",
      "    threshold: 0.364322353233032\n",
      "    threshold_idx: 9\n",
      "    \n",
      "\n",
      "    TPR: 0.9622641509433962\n",
      "    FPR: 0.12222222222222222\n",
      "    threshold: 0.34991633115457976\n",
      "    threshold_idx: 10\n",
      "    \n",
      "\n",
      "    TPR: 0.9622641509433962\n",
      "    FPR: 0.2111111111111111\n",
      "    threshold: 0.12268727210298247\n",
      "    threshold_idx: 11\n",
      "    \n",
      "\n",
      "    TPR: 0.9811320754716981\n",
      "    FPR: 0.2111111111111111\n",
      "    threshold: 0.10391680739146784\n",
      "    threshold_idx: 12\n",
      "    \n",
      "\n",
      "    TPR: 0.9811320754716981\n",
      "    FPR: 0.2777777777777778\n",
      "    threshold: 0.06318810001416134\n",
      "    threshold_idx: 13\n",
      "    \n",
      "\n",
      "    TPR: 1.0\n",
      "    FPR: 0.2777777777777778\n",
      "    threshold: 0.058208591949749824\n",
      "    threshold_idx: 14\n",
      "    \n",
      "\n",
      "    TPR: 1.0\n",
      "    FPR: 1.0\n",
      "    threshold: 5.034974106762554e-05\n",
      "    threshold_idx: 15\n",
      "    \n"
     ]
    }
   ],
   "source": [
    "for idx, metric in enumerate(list(zip(tpr, fpr, thresholds))[1::]):\n",
    "    tpr_, fpr_, threshold =  metric[0], metric[1], metric[2]\n",
    "    print(f'''\n",
    "    TPR: {tpr_}\n",
    "    FPR: {fpr_}\n",
    "    threshold: {threshold}\n",
    "    threshold_idx: {idx + 1}\n",
    "    ''')"
   ],
   "metadata": {
    "collapsed": false
   }
  },
  {
   "cell_type": "markdown",
   "source": [
    "# Selecting a threshold\n",
    "\n",
    "A TPR of 1 means that there are no FNs (M cells classified as B). But as TPR increases, so does FPR. We must find the balance of maximising TPR while minimizing FPR as FPs have a cost:\n",
    "(e.g. patients having to go through intense chemotherapy as their benign tumour is treated as malignant)\n",
    "\n",
    "I think a reasonable balance is given by threshold (with idx 8)"
   ],
   "metadata": {
    "collapsed": false
   }
  },
  {
   "cell_type": "markdown",
   "source": [
    "# AUC\n",
    "AUC is the area under the ROC graph. **We can use AUC to compare two classification models**."
   ],
   "metadata": {
    "collapsed": false
   }
  },
  {
   "cell_type": "code",
   "execution_count": 14,
   "outputs": [
    {
     "data": {
      "text/plain": "0.9853249475890985"
     },
     "execution_count": 14,
     "metadata": {},
     "output_type": "execute_result"
    }
   ],
   "source": [
    "roc_auc_score(y_true=y_test, y_score=y_pred_prob[:, 1])"
   ],
   "metadata": {
    "collapsed": false
   }
  },
  {
   "cell_type": "markdown",
   "source": [
    "# Conclusions\n",
    "- Make conclusions on AUC\n",
    "- Create model with new threshold value and evaluate"
   ],
   "metadata": {
    "collapsed": false
   }
  },
  {
   "cell_type": "markdown",
   "source": [
    "# Testing model with new threshold\n",
    "The new threshold has changed the TPR and FPR rates. How does this affect our models performance?\n",
    "\n",
    "- Create precision-recall curve"
   ],
   "metadata": {
    "collapsed": false
   }
  },
  {
   "cell_type": "code",
   "execution_count": 15,
   "outputs": [],
   "source": [
    "new_threshold = thresholds[8]\n",
    "new_predictions = []\n",
    "\n",
    "for p in y_pred_prob[:, 1]:\n",
    "    # Probability of M exceeds threshold, classify as M\n",
    "    if p >= new_threshold:\n",
    "        new_predictions.append('M')\n",
    "\n",
    "    else:\n",
    "        new_predictions.append('B')\n",
    "\n",
    "new_predictions = pd.Series(new_predictions)"
   ],
   "metadata": {
    "collapsed": false
   }
  },
  {
   "cell_type": "code",
   "execution_count": 16,
   "outputs": [
    {
     "name": "stdout",
     "output_type": "stream",
     "text": [
      "              precision    recall  f1-score   support\n",
      "\n",
      "           B       0.97      0.93      0.95        90\n",
      "           M       0.89      0.94      0.92        53\n",
      "\n",
      "    accuracy                           0.94       143\n",
      "   macro avg       0.93      0.94      0.93       143\n",
      "weighted avg       0.94      0.94      0.94       143\n",
      "\n"
     ]
    }
   ],
   "source": [
    "print(classification_report(y_test, y_pred))"
   ],
   "metadata": {
    "collapsed": false
   }
  },
  {
   "cell_type": "code",
   "execution_count": 17,
   "outputs": [
    {
     "name": "stdout",
     "output_type": "stream",
     "text": [
      "              precision    recall  f1-score   support\n",
      "\n",
      "           B       0.97      0.94      0.96        90\n",
      "           M       0.91      0.94      0.93        53\n",
      "\n",
      "    accuracy                           0.94       143\n",
      "   macro avg       0.94      0.94      0.94       143\n",
      "weighted avg       0.94      0.94      0.94       143\n",
      "\n"
     ]
    }
   ],
   "source": [
    "print(classification_report(y_test, new_predictions))"
   ],
   "metadata": {
    "collapsed": false
   }
  }
 ],
 "metadata": {
  "kernelspec": {
   "display_name": "Python 3",
   "language": "python",
   "name": "python3"
  },
  "language_info": {
   "codemirror_mode": {
    "name": "ipython",
    "version": 2
   },
   "file_extension": ".py",
   "mimetype": "text/x-python",
   "name": "python",
   "nbconvert_exporter": "python",
   "pygments_lexer": "ipython2",
   "version": "2.7.6"
  }
 },
 "nbformat": 4,
 "nbformat_minor": 0
}
