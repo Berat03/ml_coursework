{
 "cells": [
  {
   "cell_type": "code",
   "execution_count": 21,
   "outputs": [],
   "source": [
    "import seaborn as sns\n",
    "import pandas as pd\n",
    "import numpy as np\n",
    "from sklearn.linear_model import LogisticRegression\n",
    "from sklearn.model_selection import train_test_split\n",
    "from sklearn.metrics import confusion_matrix, precision_score, recall_score\n",
    "from sklearn.dummy import DummyClassifier\n",
    "from utils import standardize"
   ],
   "metadata": {
    "collapsed": false
   }
  },
  {
   "cell_type": "markdown",
   "source": [
    "Why logistic regression?\n",
    "    - Logistic regression is used for binary classification. This suits our project as we are classifying whether a tumour is malignant (M) or benign (B).\n",
    "\n",
    "How will we evaluate the model?\n",
    "   - Bias (how accurate the model is)\n",
    "   - Variance (how spread out the predictions are from the mean)\n",
    "\n",
    "(This shows us if our model is overfitting / underfitting)\n",
    "\n",
    "Since it's a classification algorithm, we evaluate it with:\n",
    "- Accuracy\n",
    "- Precision\n",
    "- Recall\n",
    "\n",
    "Confusion matrix to see the distribution of TP, FP, TN, FN\n",
    "\n",
    "IMPORTANT:\n",
    "- Cost of FN is much higher than TP, FP, TN\n",
    "- Develop dummy model\n",
    "\n",
    "Chi-squared tests to see which variables are useless?"
   ],
   "metadata": {
    "collapsed": false
   }
  },
  {
   "cell_type": "code",
   "execution_count": 22,
   "outputs": [],
   "source": [
    "df = pd.read_csv('./Data Exploration/wdbc.csv')\n",
    "labels = df['B/M']\n",
    "features = df[['Radius', 'Texture', 'Perimeter', 'Area', 'Smoothness', 'Compactness', 'Concavity', 'ConcavePoints', 'Symmetry', 'FractalDimension']]"
   ],
   "metadata": {
    "collapsed": false
   }
  },
  {
   "cell_type": "code",
   "execution_count": 23,
   "outputs": [
    {
     "name": "stderr",
     "output_type": "stream",
     "text": [
      "/home/nicky/Documents/CS/ai/ai_coursework/utils.py:15: SettingWithCopyWarning: \n",
      "A value is trying to be set on a copy of a slice from a DataFrame.\n",
      "Try using .loc[row_indexer,col_indexer] = value instead\n",
      "\n",
      "See the caveats in the documentation: https://pandas.pydata.org/pandas-docs/stable/user_guide/indexing.html#returning-a-view-versus-a-copy\n",
      "  df[columns if columns else df.select_dtypes(['float64', 'int64']).columns.values] = ColumnTransformer([\n"
     ]
    }
   ],
   "source": [
    "# Standardize features\n",
    "features = standardize(features)"
   ],
   "metadata": {
    "collapsed": false
   }
  },
  {
   "cell_type": "markdown",
   "source": [
    "Distribution of B / M, we will use this result when comparing our model to a dummy model later"
   ],
   "metadata": {
    "collapsed": false
   }
  },
  {
   "cell_type": "code",
   "execution_count": 24,
   "outputs": [
    {
     "data": {
      "text/plain": "B    357\nM    212\nName: B/M, dtype: int64"
     },
     "execution_count": 24,
     "metadata": {},
     "output_type": "execute_result"
    }
   ],
   "source": [
    "labels.value_counts()"
   ],
   "metadata": {
    "collapsed": false
   }
  },
  {
   "cell_type": "code",
   "execution_count": 25,
   "outputs": [],
   "source": [
    "# 80% train, 20% test\n",
    "x_train, x_test, y_train, y_test = train_test_split(features, labels, test_size=0.2)"
   ],
   "metadata": {
    "collapsed": false
   }
  },
  {
   "cell_type": "code",
   "execution_count": 26,
   "outputs": [
    {
     "data": {
      "text/plain": "0.9122807017543859"
     },
     "execution_count": 26,
     "metadata": {},
     "output_type": "execute_result"
    }
   ],
   "source": [
    "# Fit model to training data\n",
    "model = LogisticRegression().fit(x_train, y_train)\n",
    "y_pred = model.predict(x_test)\n",
    "# Accuracy\n",
    "model.score(x_test, y_test)"
   ],
   "metadata": {
    "collapsed": false
   }
  },
  {
   "cell_type": "code",
   "execution_count": 27,
   "outputs": [
    {
     "data": {
      "text/plain": "array(['M', 'B', 'B', 'B', 'B', 'B', 'B', 'B', 'M', 'B', 'M', 'M', 'B',\n       'M', 'M', 'B', 'M', 'B', 'M', 'B', 'M', 'B', 'M', 'M', 'B', 'M',\n       'B', 'M', 'B', 'B', 'B', 'B', 'M', 'B', 'B', 'B', 'B', 'M', 'M',\n       'B', 'M', 'M', 'B', 'B', 'B', 'B', 'B', 'M', 'B', 'M', 'B', 'B',\n       'B', 'B', 'B', 'M', 'M', 'B', 'B', 'B', 'M', 'M', 'B', 'B', 'M',\n       'B', 'B', 'B', 'M', 'B', 'B', 'B', 'M', 'M', 'M', 'M', 'B', 'M',\n       'B', 'M', 'B', 'B', 'B', 'B', 'M', 'M', 'B', 'B', 'M', 'B', 'M',\n       'B', 'B', 'B', 'B', 'B', 'B', 'B', 'B', 'B', 'B', 'B', 'B', 'M',\n       'M', 'B', 'B', 'B', 'B', 'B', 'M', 'B', 'B', 'M'], dtype=object)"
     },
     "execution_count": 27,
     "metadata": {},
     "output_type": "execute_result"
    }
   ],
   "source": [
    "y_pred"
   ],
   "metadata": {
    "collapsed": false
   }
  },
  {
   "cell_type": "markdown",
   "source": [
    "We're getting an accuracy of approx. 65%. Let's investigate the types of errors that we're getting (TP, FP, TN, FN) with a confusion matrix:"
   ],
   "metadata": {
    "collapsed": false
   }
  },
  {
   "cell_type": "code",
   "execution_count": 28,
   "outputs": [
    {
     "name": "stdout",
     "output_type": "stream",
     "text": [
      "True negatives: 65\n",
      "False negatives: 9\n",
      "True positives: 39\n",
      "False positives: 1\n"
     ]
    }
   ],
   "source": [
    "c = confusion_matrix(y_test, y_pred)\n",
    "\n",
    "print(f'True negatives: {c[0][0]}')\n",
    "print(f'False negatives: {c[1][0]}')\n",
    "print(f'True positives: {c[1][1]}')\n",
    "print(f'False positives: {c[0][1]}')"
   ],
   "metadata": {
    "collapsed": false
   }
  },
  {
   "cell_type": "markdown",
   "source": [
    "We are getting 0 true positives. Our model is only predicting B's (no M's)."
   ],
   "metadata": {
    "collapsed": false
   }
  },
  {
   "cell_type": "code",
   "execution_count": 29,
   "outputs": [
    {
     "name": "stdout",
     "output_type": "stream",
     "text": [
      "Recall: 0.8125\n",
      "Precision: 0.975\n"
     ]
    }
   ],
   "source": [
    "print(f'Recall: {recall_score(y_test, y_pred, pos_label=\"M\")}')\n",
    "print(f'Precision: {precision_score(y_test, y_pred, pos_label=\"M\", zero_division=0)}')"
   ],
   "metadata": {
    "collapsed": false
   }
  },
  {
   "cell_type": "markdown",
   "source": [
    "Dummy classifier:\n",
    "Our dummy model will classify data with the label that occurs most often. Does our model beat the dummy model?"
   ],
   "metadata": {
    "collapsed": false
   }
  },
  {
   "cell_type": "code",
   "execution_count": 30,
   "outputs": [
    {
     "data": {
      "text/plain": "0.5789473684210527"
     },
     "execution_count": 30,
     "metadata": {},
     "output_type": "execute_result"
    }
   ],
   "source": [
    "dm = DummyClassifier()\n",
    "dm.fit(x_train, y_train)\n",
    "dm.score(x_test, y_test)"
   ],
   "metadata": {
    "collapsed": false
   }
  }
 ],
 "metadata": {
  "kernelspec": {
   "display_name": "Python 3",
   "language": "python",
   "name": "python3"
  },
  "language_info": {
   "codemirror_mode": {
    "name": "ipython",
    "version": 2
   },
   "file_extension": ".py",
   "mimetype": "text/x-python",
   "name": "python",
   "nbconvert_exporter": "python",
   "pygments_lexer": "ipython2",
   "version": "2.7.6"
  }
 },
 "nbformat": 4,
 "nbformat_minor": 0
}
