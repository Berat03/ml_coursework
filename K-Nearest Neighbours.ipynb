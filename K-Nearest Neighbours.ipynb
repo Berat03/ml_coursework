{
 "cells": [
  {
   "cell_type": "markdown",
   "id": "59701b2d",
   "metadata": {},
   "source": [
    "# K-nearest neighbours model 😮"
   ]
  },
  {
   "cell_type": "markdown",
   "id": "8f3eab54",
   "metadata": {},
   "source": [
    "## /////////////////////////////////////////////"
   ]
  },
  {
   "cell_type": "markdown",
   "id": "226fa2f8",
   "metadata": {},
   "source": [
    "### Issues With Last Time\n",
    "-Code was incredibly ugly and unelegant <br />\n",
    "-There was also experimental code in file (Made it hard to read) <br />\n",
    "-No stratified sampling <br />\n",
    "-A bit too good of a model (Seemed suspicious)"
   ]
  },
  {
   "cell_type": "code",
   "execution_count": 83,
   "id": "b806589c",
   "metadata": {},
   "outputs": [],
   "source": [
    "import pandas as pd\n",
    "from sklearn.model_selection import train_test_split\n",
    "from sklearn import preprocessing\n",
    "from sklearn.neighbors import KNeighborsClassifier\n",
    "from sklearn import metrics\n",
    "from sklearn.metrics import confusion_matrix, precision_score, recall_score\n",
    "from sklearn.preprocessing import StandardScaler\n",
    "import warnings\n",
    "warnings.filterwarnings(\"ignore\")"
   ]
  },
  {
   "cell_type": "markdown",
   "id": "860bcf92",
   "metadata": {},
   "source": [
    "<br />"
   ]
  },
  {
   "cell_type": "markdown",
   "id": "231993ec",
   "metadata": {},
   "source": [
    "\n",
    "\n",
    "## <span style=\"color: red;\"> STEP 1) Insert the data and split into features and labels and encode</span>"
   ]
  },
  {
   "cell_type": "code",
   "execution_count": 85,
   "id": "2b700172",
   "metadata": {},
   "outputs": [],
   "source": [
    "dfWDBC = pd.read_csv(\"wdbc/wdbc.data\", header = None)\n",
    "#add columns\n",
    "colHead = [\"ID\", \"B/M\", \"Radius\",\"Texture\",\n",
    "           \"Perimeter\",\"Area\",\"Smoothness\",\"Compactness\",\"Concavity\",\"ConcavePoints\",\"Symmetry\",\"FractalDimension\",\n",
    "          \"RadiusSE\",\"TextureSE\",\"PerimeterSE\",\"AreaSE\",\"SmoothnessSE\",\"CompactnessSE\",\"ConcavitySE\",\n",
    "           \"ConcavePointsSE\",\"SymmetrySE\",\"FractalDimensionSE\",\"RadiusWorst\",\"TextureWorst\",\n",
    "           \"PerimeterWorst\",\"AreaWorst\",\"SmoothnessWorst\",\"CompactnessWorst\",\"ConcavityWorst\",\n",
    "           \"ConcavePointsWorst\",\"SymmetryWorst\",\"FractalDimensionWorst\"]\n",
    "dfWDBC.columns = colHead\n",
    "\n",
    "\n",
    "#split into test and features\n",
    "features = dfWDBC[[\"Texture\",\"Symmetry\"]]\n",
    "label = dfWDBC[\"B/M\"]\n",
    "\n",
    "#Need to encode B/M before proceeding\n",
    "le = preprocessing.LabelEncoder()\n",
    "label = le.fit_transform(label)\n",
    "label = pd.DataFrame(data = label, columns = [\"B/M\"])\n",
    "\n",
    "\n",
    "#Need to encode the features\n",
    "ss = StandardScaler()\n",
    "features = ss.fit_transform(features)"
   ]
  },
  {
   "cell_type": "markdown",
   "id": "4eadb813",
   "metadata": {},
   "source": [
    "<br />"
   ]
  },
  {
   "cell_type": "markdown",
   "id": "d09cc995",
   "metadata": {},
   "source": [
    "\n",
    "##  <span style=\"color: red;\"> STEP 2) split the features and labels into appropriate test and training data using stratified sampling </span>"
   ]
  },
  {
   "cell_type": "code",
   "execution_count": 86,
   "id": "375e2ad7",
   "metadata": {},
   "outputs": [],
   "source": [
    "#All nice and stratified :)\n",
    "x_train, x_test, y_train, y_test = train_test_split(features, label, test_size=0.2, stratify = label[\"B/M\"].values, random_state= 1)\n",
    "#Simples"
   ]
  },
  {
   "cell_type": "markdown",
   "id": "35013cd7",
   "metadata": {},
   "source": [
    "</br>"
   ]
  },
  {
   "cell_type": "markdown",
   "id": "3086f578",
   "metadata": {},
   "source": [
    "##  <span style=\"color: red;\"> STEP 3) Produce a k-nearest neighbours model and test the accuracy </span>"
   ]
  },
  {
   "cell_type": "code",
   "execution_count": 87,
   "id": "495c1d16",
   "metadata": {},
   "outputs": [
    {
     "name": "stdout",
     "output_type": "stream",
     "text": [
      "Test Size = 114\n",
      "Accuracy Score = 0.7368421052631579\n",
      "True negatives: 62\n",
      "False negatives: 20\n",
      "True positives: 22\n",
      "False positives: 10\n"
     ]
    }
   ],
   "source": [
    "k = 10\n",
    "model = KNeighborsClassifier(n_neighbors=k)\n",
    "model.fit(x_train,y_train)\n",
    "\n",
    "print(\"Test Size = \" + str(len(y_test)))\n",
    "#Testing Accuracy\n",
    "y_pred = model.predict(x_test)\n",
    "print(\"Accuracy Score = \" + str(metrics.accuracy_score(y_test,y_pred)))\n",
    "\n",
    "#Testing errors using accuracy matrix (Thanks Nicky)\n",
    "c = confusion_matrix(y_test, y_pred)\n",
    "print(f'True negatives: {c[0][0]}')\n",
    "print(f'False negatives: {c[1][0]}')\n",
    "print(f'True positives: {c[1][1]}')\n",
    "print(f'False positives: {c[0][1]}')"
   ]
  },
  {
   "cell_type": "markdown",
   "id": "13359d79",
   "metadata": {},
   "source": [
    "////// Left out pretty graph i made last time because its a pain to make and not neccessary rn ////////"
   ]
  },
  {
   "cell_type": "markdown",
   "id": "9eb4a7aa",
   "metadata": {},
   "source": [
    "# <span style=\"color: purple;\"> My Dilema 😮 </span>"
   ]
  },
  {
   "cell_type": "markdown",
   "id": "bad7a285",
   "metadata": {},
   "source": [
    "So when i run the k nearest neighbours model with the 2 features being radius and texture it comes up with a bonkers accuracy of around 90%. If you look at the graph though the classification looks so simple that you could probably get a similar result using pen and paper. is this a good thing or should we use the k nearest neighbours for a more complex classification task 🤨"
   ]
  },
  {
   "cell_type": "markdown",
   "id": "623610de",
   "metadata": {},
   "source": [
    "<img src = \"https://64.media.tumblr.com/7f8b2bcc968b6662755baf7c3508cf73/tumblr_nshp2dKcyr1utmzuco1_500.gifv\">"
   ]
  },
  {
   "cell_type": "markdown",
   "id": "2c683474",
   "metadata": {},
   "source": [
    "## Your opinions guys???? 🤔"
   ]
  },
  {
   "cell_type": "markdown",
   "id": "60e16196",
   "metadata": {},
   "source": [
    "# Testing Git lol"
   ]
  },
  {
   "cell_type": "code",
   "execution_count": null,
   "id": "41aff59a",
   "metadata": {},
   "outputs": [],
   "source": []
  }
 ],
 "metadata": {
  "kernelspec": {
   "display_name": "Python 3 (ipykernel)",
   "language": "python",
   "name": "python3"
  },
  "language_info": {
   "codemirror_mode": {
    "name": "ipython",
    "version": 3
   },
   "file_extension": ".py",
   "mimetype": "text/x-python",
   "name": "python",
   "nbconvert_exporter": "python",
   "pygments_lexer": "ipython3",
   "version": "3.9.12"
  }
 },
 "nbformat": 4,
 "nbformat_minor": 5
}
