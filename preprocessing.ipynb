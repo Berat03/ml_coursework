{
 "cells": [
  {
   "cell_type": "markdown",
   "source": [
    "This doc describes the general preprocessing we should do for each of our projects. Feel free to add on."
   ],
   "metadata": {
    "collapsed": false
   }
  },
  {
   "cell_type": "code",
   "execution_count": 25,
   "outputs": [],
   "source": [
    "import pandas as pd\n",
    "from utils import standardize"
   ],
   "metadata": {
    "collapsed": false
   }
  },
  {
   "cell_type": "code",
   "execution_count": 26,
   "outputs": [],
   "source": [
    "df = pd.read_csv('./Data Exploration/wdbc.csv')"
   ],
   "metadata": {
    "collapsed": false
   }
  },
  {
   "cell_type": "markdown",
   "source": [
    "Remove ID column and all SE columns.\n",
    "\n",
    "TODO: What to do with _Worst  columns?"
   ],
   "metadata": {
    "collapsed": false
   }
  },
  {
   "cell_type": "code",
   "execution_count": 27,
   "outputs": [
    {
     "name": "stdout",
     "output_type": "stream",
     "text": [
      "<class 'pandas.core.frame.DataFrame'>\n",
      "RangeIndex: 569 entries, 0 to 568\n",
      "Data columns (total 32 columns):\n",
      " #   Column                 Non-Null Count  Dtype  \n",
      "---  ------                 --------------  -----  \n",
      " 0   ID                     569 non-null    int64  \n",
      " 1   B/M                    569 non-null    object \n",
      " 2   Radius                 569 non-null    float64\n",
      " 3   Texture                569 non-null    float64\n",
      " 4   Perimeter              569 non-null    float64\n",
      " 5   Area                   569 non-null    float64\n",
      " 6   Smoothness             569 non-null    float64\n",
      " 7   Compactness            569 non-null    float64\n",
      " 8   Concavity              569 non-null    float64\n",
      " 9   ConcavePoints          569 non-null    float64\n",
      " 10  Symmetry               569 non-null    float64\n",
      " 11  FractalDimension       569 non-null    float64\n",
      " 12  RadiusSE               569 non-null    float64\n",
      " 13  TextureSE              569 non-null    float64\n",
      " 14  PerimeterSE            569 non-null    float64\n",
      " 15  AreaSE                 569 non-null    float64\n",
      " 16  SmoothnessSE           569 non-null    float64\n",
      " 17  CompactnessSE          569 non-null    float64\n",
      " 18  ConcavitySE            569 non-null    float64\n",
      " 19  ConcavePointsSE        569 non-null    float64\n",
      " 20  SymmetrySE             569 non-null    float64\n",
      " 21  FractalDimensionSE     569 non-null    float64\n",
      " 22  RadiusWorst            569 non-null    float64\n",
      " 23  TextureWorst           569 non-null    float64\n",
      " 24  PerimeterWorst         569 non-null    float64\n",
      " 25  AreaWorst              569 non-null    float64\n",
      " 26  SmoothnessWorst        569 non-null    float64\n",
      " 27  CompactnessWorst       569 non-null    float64\n",
      " 28  ConcavityWorst         569 non-null    float64\n",
      " 29  ConcavePointsWorst     569 non-null    float64\n",
      " 30  SymmetryWorst          569 non-null    float64\n",
      " 31  FractalDimensionWorst  569 non-null    float64\n",
      "dtypes: float64(30), int64(1), object(1)\n",
      "memory usage: 142.4+ KB\n"
     ]
    }
   ],
   "source": [
    "df.info()\n",
    "df.drop('ID', axis=1, inplace=True)"
   ],
   "metadata": {
    "collapsed": false
   }
  },
  {
   "cell_type": "code",
   "execution_count": 28,
   "outputs": [
    {
     "data": {
      "text/plain": "           Radius     Texture   Perimeter         Area  Smoothness  \\\ncount  569.000000  569.000000  569.000000   569.000000  569.000000   \nmean    14.127292   19.289649   91.969033   654.889104    0.096360   \nstd      3.524049    4.301036   24.298981   351.914129    0.014064   \nmin      6.981000    9.710000   43.790000   143.500000    0.052630   \n25%     11.700000   16.170000   75.170000   420.300000    0.086370   \n50%     13.370000   18.840000   86.240000   551.100000    0.095870   \n75%     15.780000   21.800000  104.100000   782.700000    0.105300   \nmax     28.110000   39.280000  188.500000  2501.000000    0.163400   \n\n       Compactness   Concavity  ConcavePoints    Symmetry  FractalDimension  \\\ncount   569.000000  569.000000     569.000000  569.000000        569.000000   \nmean      0.104341    0.088799       0.048919    0.181162          0.062798   \nstd       0.052813    0.079720       0.038803    0.027414          0.007060   \nmin       0.019380    0.000000       0.000000    0.106000          0.049960   \n25%       0.064920    0.029560       0.020310    0.161900          0.057700   \n50%       0.092630    0.061540       0.033500    0.179200          0.061540   \n75%       0.130400    0.130700       0.074000    0.195700          0.066120   \nmax       0.345400    0.426800       0.201200    0.304000          0.097440   \n\n       ...  RadiusWorst  TextureWorst  PerimeterWorst    AreaWorst  \\\ncount  ...   569.000000    569.000000      569.000000   569.000000   \nmean   ...    16.269190     25.677223      107.261213   880.583128   \nstd    ...     4.833242      6.146258       33.602542   569.356993   \nmin    ...     7.930000     12.020000       50.410000   185.200000   \n25%    ...    13.010000     21.080000       84.110000   515.300000   \n50%    ...    14.970000     25.410000       97.660000   686.500000   \n75%    ...    18.790000     29.720000      125.400000  1084.000000   \nmax    ...    36.040000     49.540000      251.200000  4254.000000   \n\n       SmoothnessWorst  CompactnessWorst  ConcavityWorst  ConcavePointsWorst  \\\ncount       569.000000        569.000000      569.000000          569.000000   \nmean          0.132369          0.254265        0.272188            0.114606   \nstd           0.022832          0.157336        0.208624            0.065732   \nmin           0.071170          0.027290        0.000000            0.000000   \n25%           0.116600          0.147200        0.114500            0.064930   \n50%           0.131300          0.211900        0.226700            0.099930   \n75%           0.146000          0.339100        0.382900            0.161400   \nmax           0.222600          1.058000        1.252000            0.291000   \n\n       SymmetryWorst  FractalDimensionWorst  \ncount     569.000000             569.000000  \nmean        0.290076               0.083946  \nstd         0.061867               0.018061  \nmin         0.156500               0.055040  \n25%         0.250400               0.071460  \n50%         0.282200               0.080040  \n75%         0.317900               0.092080  \nmax         0.663800               0.207500  \n\n[8 rows x 30 columns]",
      "text/html": "<div>\n<style scoped>\n    .dataframe tbody tr th:only-of-type {\n        vertical-align: middle;\n    }\n\n    .dataframe tbody tr th {\n        vertical-align: top;\n    }\n\n    .dataframe thead th {\n        text-align: right;\n    }\n</style>\n<table border=\"1\" class=\"dataframe\">\n  <thead>\n    <tr style=\"text-align: right;\">\n      <th></th>\n      <th>Radius</th>\n      <th>Texture</th>\n      <th>Perimeter</th>\n      <th>Area</th>\n      <th>Smoothness</th>\n      <th>Compactness</th>\n      <th>Concavity</th>\n      <th>ConcavePoints</th>\n      <th>Symmetry</th>\n      <th>FractalDimension</th>\n      <th>...</th>\n      <th>RadiusWorst</th>\n      <th>TextureWorst</th>\n      <th>PerimeterWorst</th>\n      <th>AreaWorst</th>\n      <th>SmoothnessWorst</th>\n      <th>CompactnessWorst</th>\n      <th>ConcavityWorst</th>\n      <th>ConcavePointsWorst</th>\n      <th>SymmetryWorst</th>\n      <th>FractalDimensionWorst</th>\n    </tr>\n  </thead>\n  <tbody>\n    <tr>\n      <th>count</th>\n      <td>569.000000</td>\n      <td>569.000000</td>\n      <td>569.000000</td>\n      <td>569.000000</td>\n      <td>569.000000</td>\n      <td>569.000000</td>\n      <td>569.000000</td>\n      <td>569.000000</td>\n      <td>569.000000</td>\n      <td>569.000000</td>\n      <td>...</td>\n      <td>569.000000</td>\n      <td>569.000000</td>\n      <td>569.000000</td>\n      <td>569.000000</td>\n      <td>569.000000</td>\n      <td>569.000000</td>\n      <td>569.000000</td>\n      <td>569.000000</td>\n      <td>569.000000</td>\n      <td>569.000000</td>\n    </tr>\n    <tr>\n      <th>mean</th>\n      <td>14.127292</td>\n      <td>19.289649</td>\n      <td>91.969033</td>\n      <td>654.889104</td>\n      <td>0.096360</td>\n      <td>0.104341</td>\n      <td>0.088799</td>\n      <td>0.048919</td>\n      <td>0.181162</td>\n      <td>0.062798</td>\n      <td>...</td>\n      <td>16.269190</td>\n      <td>25.677223</td>\n      <td>107.261213</td>\n      <td>880.583128</td>\n      <td>0.132369</td>\n      <td>0.254265</td>\n      <td>0.272188</td>\n      <td>0.114606</td>\n      <td>0.290076</td>\n      <td>0.083946</td>\n    </tr>\n    <tr>\n      <th>std</th>\n      <td>3.524049</td>\n      <td>4.301036</td>\n      <td>24.298981</td>\n      <td>351.914129</td>\n      <td>0.014064</td>\n      <td>0.052813</td>\n      <td>0.079720</td>\n      <td>0.038803</td>\n      <td>0.027414</td>\n      <td>0.007060</td>\n      <td>...</td>\n      <td>4.833242</td>\n      <td>6.146258</td>\n      <td>33.602542</td>\n      <td>569.356993</td>\n      <td>0.022832</td>\n      <td>0.157336</td>\n      <td>0.208624</td>\n      <td>0.065732</td>\n      <td>0.061867</td>\n      <td>0.018061</td>\n    </tr>\n    <tr>\n      <th>min</th>\n      <td>6.981000</td>\n      <td>9.710000</td>\n      <td>43.790000</td>\n      <td>143.500000</td>\n      <td>0.052630</td>\n      <td>0.019380</td>\n      <td>0.000000</td>\n      <td>0.000000</td>\n      <td>0.106000</td>\n      <td>0.049960</td>\n      <td>...</td>\n      <td>7.930000</td>\n      <td>12.020000</td>\n      <td>50.410000</td>\n      <td>185.200000</td>\n      <td>0.071170</td>\n      <td>0.027290</td>\n      <td>0.000000</td>\n      <td>0.000000</td>\n      <td>0.156500</td>\n      <td>0.055040</td>\n    </tr>\n    <tr>\n      <th>25%</th>\n      <td>11.700000</td>\n      <td>16.170000</td>\n      <td>75.170000</td>\n      <td>420.300000</td>\n      <td>0.086370</td>\n      <td>0.064920</td>\n      <td>0.029560</td>\n      <td>0.020310</td>\n      <td>0.161900</td>\n      <td>0.057700</td>\n      <td>...</td>\n      <td>13.010000</td>\n      <td>21.080000</td>\n      <td>84.110000</td>\n      <td>515.300000</td>\n      <td>0.116600</td>\n      <td>0.147200</td>\n      <td>0.114500</td>\n      <td>0.064930</td>\n      <td>0.250400</td>\n      <td>0.071460</td>\n    </tr>\n    <tr>\n      <th>50%</th>\n      <td>13.370000</td>\n      <td>18.840000</td>\n      <td>86.240000</td>\n      <td>551.100000</td>\n      <td>0.095870</td>\n      <td>0.092630</td>\n      <td>0.061540</td>\n      <td>0.033500</td>\n      <td>0.179200</td>\n      <td>0.061540</td>\n      <td>...</td>\n      <td>14.970000</td>\n      <td>25.410000</td>\n      <td>97.660000</td>\n      <td>686.500000</td>\n      <td>0.131300</td>\n      <td>0.211900</td>\n      <td>0.226700</td>\n      <td>0.099930</td>\n      <td>0.282200</td>\n      <td>0.080040</td>\n    </tr>\n    <tr>\n      <th>75%</th>\n      <td>15.780000</td>\n      <td>21.800000</td>\n      <td>104.100000</td>\n      <td>782.700000</td>\n      <td>0.105300</td>\n      <td>0.130400</td>\n      <td>0.130700</td>\n      <td>0.074000</td>\n      <td>0.195700</td>\n      <td>0.066120</td>\n      <td>...</td>\n      <td>18.790000</td>\n      <td>29.720000</td>\n      <td>125.400000</td>\n      <td>1084.000000</td>\n      <td>0.146000</td>\n      <td>0.339100</td>\n      <td>0.382900</td>\n      <td>0.161400</td>\n      <td>0.317900</td>\n      <td>0.092080</td>\n    </tr>\n    <tr>\n      <th>max</th>\n      <td>28.110000</td>\n      <td>39.280000</td>\n      <td>188.500000</td>\n      <td>2501.000000</td>\n      <td>0.163400</td>\n      <td>0.345400</td>\n      <td>0.426800</td>\n      <td>0.201200</td>\n      <td>0.304000</td>\n      <td>0.097440</td>\n      <td>...</td>\n      <td>36.040000</td>\n      <td>49.540000</td>\n      <td>251.200000</td>\n      <td>4254.000000</td>\n      <td>0.222600</td>\n      <td>1.058000</td>\n      <td>1.252000</td>\n      <td>0.291000</td>\n      <td>0.663800</td>\n      <td>0.207500</td>\n    </tr>\n  </tbody>\n</table>\n<p>8 rows × 30 columns</p>\n</div>"
     },
     "execution_count": 28,
     "metadata": {},
     "output_type": "execute_result"
    }
   ],
   "source": [
    "df.describe()"
   ],
   "metadata": {
    "collapsed": false
   }
  },
  {
   "cell_type": "code",
   "execution_count": 29,
   "outputs": [],
   "source": [
    "# Extract labels and features\n",
    "labels = df['B/M']\n",
    "features = df[['Radius', 'Texture', 'Perimeter', 'Area', 'Smoothness', 'Compactness', 'Concavity', 'ConcavePoints', 'Symmetry', 'FractalDimension']]"
   ],
   "metadata": {
    "collapsed": false
   }
  },
  {
   "cell_type": "markdown",
   "source": [
    "Standardize numerical features"
   ],
   "metadata": {
    "collapsed": false
   }
  },
  {
   "cell_type": "code",
   "execution_count": 32,
   "outputs": [
    {
     "name": "stderr",
     "output_type": "stream",
     "text": [
      "/home/nicky/Documents/CS/ai/ai_coursework/utils.py:16: SettingWithCopyWarning: \n",
      "A value is trying to be set on a copy of a slice from a DataFrame.\n",
      "Try using .loc[row_indexer,col_indexer] = value instead\n",
      "\n",
      "See the caveats in the documentation: https://pandas.pydata.org/pandas-docs/stable/user_guide/indexing.html#returning-a-view-versus-a-copy\n",
      "  df[columns if columns else df.select_dtypes(['float64', 'int64']).columns.values] = ColumnTransformer([\n"
     ]
    },
    {
     "data": {
      "text/plain": "       Radius   Texture  Perimeter      Area  Smoothness  Compactness  \\\n0    1.097064 -2.073335   1.269934  0.984375    1.568466     3.283515   \n1    1.829821 -0.353632   1.685955  1.908708   -0.826962    -0.487072   \n2    1.579888  0.456187   1.566503  1.558884    0.942210     1.052926   \n3   -0.768909  0.253732  -0.592687 -0.764464    3.283553     3.402909   \n4    1.750297 -1.151816   1.776573  1.826229    0.280372     0.539340   \n..        ...       ...        ...       ...         ...          ...   \n564  2.110995  0.721473   2.060786  2.343856    1.041842     0.219060   \n565  1.704854  2.085134   1.615931  1.723842    0.102458    -0.017833   \n566  0.702284  2.045574   0.672676  0.577953   -0.840484    -0.038680   \n567  1.838341  2.336457   1.982524  1.735218    1.525767     3.272144   \n568 -1.808401  1.221792  -1.814389 -1.347789   -3.112085    -1.150752   \n\n     Concavity  ConcavePoints  Symmetry  FractalDimension  \n0     2.652874       2.532475  2.217515          2.255747  \n1    -0.023846       0.548144  0.001392         -0.868652  \n2     1.363478       2.037231  0.939685         -0.398008  \n3     1.915897       1.451707  2.867383          4.910919  \n4     1.371011       1.428493 -0.009560         -0.562450  \n..         ...            ...       ...               ...  \n564   1.947285       2.320965 -0.312589         -0.931027  \n565   0.693043       1.263669 -0.217664         -1.058611  \n566   0.046588       0.105777 -0.809117         -0.895587  \n567   3.296944       2.658866  2.137194          1.043695  \n568  -1.114873      -1.261820 -0.820070         -0.561032  \n\n[569 rows x 10 columns]",
      "text/html": "<div>\n<style scoped>\n    .dataframe tbody tr th:only-of-type {\n        vertical-align: middle;\n    }\n\n    .dataframe tbody tr th {\n        vertical-align: top;\n    }\n\n    .dataframe thead th {\n        text-align: right;\n    }\n</style>\n<table border=\"1\" class=\"dataframe\">\n  <thead>\n    <tr style=\"text-align: right;\">\n      <th></th>\n      <th>Radius</th>\n      <th>Texture</th>\n      <th>Perimeter</th>\n      <th>Area</th>\n      <th>Smoothness</th>\n      <th>Compactness</th>\n      <th>Concavity</th>\n      <th>ConcavePoints</th>\n      <th>Symmetry</th>\n      <th>FractalDimension</th>\n    </tr>\n  </thead>\n  <tbody>\n    <tr>\n      <th>0</th>\n      <td>1.097064</td>\n      <td>-2.073335</td>\n      <td>1.269934</td>\n      <td>0.984375</td>\n      <td>1.568466</td>\n      <td>3.283515</td>\n      <td>2.652874</td>\n      <td>2.532475</td>\n      <td>2.217515</td>\n      <td>2.255747</td>\n    </tr>\n    <tr>\n      <th>1</th>\n      <td>1.829821</td>\n      <td>-0.353632</td>\n      <td>1.685955</td>\n      <td>1.908708</td>\n      <td>-0.826962</td>\n      <td>-0.487072</td>\n      <td>-0.023846</td>\n      <td>0.548144</td>\n      <td>0.001392</td>\n      <td>-0.868652</td>\n    </tr>\n    <tr>\n      <th>2</th>\n      <td>1.579888</td>\n      <td>0.456187</td>\n      <td>1.566503</td>\n      <td>1.558884</td>\n      <td>0.942210</td>\n      <td>1.052926</td>\n      <td>1.363478</td>\n      <td>2.037231</td>\n      <td>0.939685</td>\n      <td>-0.398008</td>\n    </tr>\n    <tr>\n      <th>3</th>\n      <td>-0.768909</td>\n      <td>0.253732</td>\n      <td>-0.592687</td>\n      <td>-0.764464</td>\n      <td>3.283553</td>\n      <td>3.402909</td>\n      <td>1.915897</td>\n      <td>1.451707</td>\n      <td>2.867383</td>\n      <td>4.910919</td>\n    </tr>\n    <tr>\n      <th>4</th>\n      <td>1.750297</td>\n      <td>-1.151816</td>\n      <td>1.776573</td>\n      <td>1.826229</td>\n      <td>0.280372</td>\n      <td>0.539340</td>\n      <td>1.371011</td>\n      <td>1.428493</td>\n      <td>-0.009560</td>\n      <td>-0.562450</td>\n    </tr>\n    <tr>\n      <th>...</th>\n      <td>...</td>\n      <td>...</td>\n      <td>...</td>\n      <td>...</td>\n      <td>...</td>\n      <td>...</td>\n      <td>...</td>\n      <td>...</td>\n      <td>...</td>\n      <td>...</td>\n    </tr>\n    <tr>\n      <th>564</th>\n      <td>2.110995</td>\n      <td>0.721473</td>\n      <td>2.060786</td>\n      <td>2.343856</td>\n      <td>1.041842</td>\n      <td>0.219060</td>\n      <td>1.947285</td>\n      <td>2.320965</td>\n      <td>-0.312589</td>\n      <td>-0.931027</td>\n    </tr>\n    <tr>\n      <th>565</th>\n      <td>1.704854</td>\n      <td>2.085134</td>\n      <td>1.615931</td>\n      <td>1.723842</td>\n      <td>0.102458</td>\n      <td>-0.017833</td>\n      <td>0.693043</td>\n      <td>1.263669</td>\n      <td>-0.217664</td>\n      <td>-1.058611</td>\n    </tr>\n    <tr>\n      <th>566</th>\n      <td>0.702284</td>\n      <td>2.045574</td>\n      <td>0.672676</td>\n      <td>0.577953</td>\n      <td>-0.840484</td>\n      <td>-0.038680</td>\n      <td>0.046588</td>\n      <td>0.105777</td>\n      <td>-0.809117</td>\n      <td>-0.895587</td>\n    </tr>\n    <tr>\n      <th>567</th>\n      <td>1.838341</td>\n      <td>2.336457</td>\n      <td>1.982524</td>\n      <td>1.735218</td>\n      <td>1.525767</td>\n      <td>3.272144</td>\n      <td>3.296944</td>\n      <td>2.658866</td>\n      <td>2.137194</td>\n      <td>1.043695</td>\n    </tr>\n    <tr>\n      <th>568</th>\n      <td>-1.808401</td>\n      <td>1.221792</td>\n      <td>-1.814389</td>\n      <td>-1.347789</td>\n      <td>-3.112085</td>\n      <td>-1.150752</td>\n      <td>-1.114873</td>\n      <td>-1.261820</td>\n      <td>-0.820070</td>\n      <td>-0.561032</td>\n    </tr>\n  </tbody>\n</table>\n<p>569 rows × 10 columns</p>\n</div>"
     },
     "execution_count": 32,
     "metadata": {},
     "output_type": "execute_result"
    }
   ],
   "source": [
    "features = standardize(features)\n",
    "features"
   ],
   "metadata": {
    "collapsed": false
   }
  },
  {
   "cell_type": "markdown",
   "source": [
    "One-Hot-Encode label"
   ],
   "metadata": {
    "collapsed": false
   }
  },
  {
   "cell_type": "code",
   "execution_count": 31,
   "outputs": [],
   "source": [
    "# One-Hot-Encode B/M labels column\n",
    "pd.concat([df, pd.get_dummies(labels)])\n",
    "df.drop('B/M', axis=1, inplace=True)"
   ],
   "metadata": {
    "collapsed": false
   }
  }
 ],
 "metadata": {
  "kernelspec": {
   "display_name": "Python 3",
   "language": "python",
   "name": "python3"
  },
  "language_info": {
   "codemirror_mode": {
    "name": "ipython",
    "version": 2
   },
   "file_extension": ".py",
   "mimetype": "text/x-python",
   "name": "python",
   "nbconvert_exporter": "python",
   "pygments_lexer": "ipython2",
   "version": "2.7.6"
  }
 },
 "nbformat": 4,
 "nbformat_minor": 0
}
