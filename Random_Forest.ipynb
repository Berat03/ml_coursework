{
 "cells": [
  {
   "cell_type": "code",
   "execution_count": 231,
   "outputs": [],
   "source": [
    "import seaborn as sns\n",
    "import pandas as pd\n",
    "import matplotlib.pyplot as plt\n",
    "from sklearn.model_selection import train_test_split\n",
    "from sklearn.preprocessing import LabelEncoder, StandardScaler\n",
    "import warnings\n",
    "warnings.filterwarnings(\"ignore\")\n",
    "from sklearn import metrics\n",
    "from sklearn.model_selection import train_test_split, learning_curve\n",
    "from sklearn.ensemble import RandomForestClassifier\n",
    "from sklearn.metrics import confusion_matrix, classification_report, accuracy_score\n",
    "from sklearn.model_selection import RandomizedSearchCV\n",
    "import numpy as np\n"
   ],
   "metadata": {
    "collapsed": false
   }
  },
  {
   "cell_type": "markdown",
   "source": [
    "# Get Data"
   ],
   "metadata": {
    "collapsed": false
   }
  },
  {
   "cell_type": "code",
   "execution_count": 232,
   "outputs": [],
   "source": [
    "df = pd.read_csv('./Data Exploration/wdbc.csv')\n",
    "df = df.drop([\"Area\", \"AreaSE\", \"AreaWorst\", \"Perimeter\", \"PerimeterSE\", \"PerimeterWorst\"], axis = 1)\n",
    "# get higher scores if i use this, but shouldnt as too correlated\n",
    "encoder = LabelEncoder().fit(df[\"B/M\"])\n",
    "df['B/M'] = encoder.transform(df[\"B/M\"])\n",
    "not_data = [\"ID\", \"B/M\"]\n",
    "label = df[\"B/M\"]\n",
    "feature = df.drop(not_data, axis = 1)\n",
    "data = pd.concat([label, feature], axis=1)"
   ],
   "metadata": {
    "collapsed": false
   }
  },
  {
   "cell_type": "markdown",
   "source": [
    "No need to standardise as not sensitive to magnitude. So we can now split into test and train sets"
   ],
   "metadata": {
    "collapsed": false
   }
  },
  {
   "cell_type": "code",
   "execution_count": 233,
   "outputs": [],
   "source": [
    "x_train, x_test, y_train, y_test = train_test_split(feature, label, test_size=0.25, stratify=label)"
   ],
   "metadata": {
    "collapsed": false
   }
  },
  {
   "cell_type": "markdown",
   "source": [
    "# Create & Train Model"
   ],
   "metadata": {
    "collapsed": false
   }
  },
  {
   "cell_type": "code",
   "execution_count": 234,
   "outputs": [
    {
     "name": "stdout",
     "output_type": "stream",
     "text": [
      "              precision    recall  f1-score   support\n",
      "\n",
      "           0       0.98      0.98      0.98        90\n",
      "           1       0.96      0.96      0.96        53\n",
      "\n",
      "    accuracy                           0.97       143\n",
      "   macro avg       0.97      0.97      0.97       143\n",
      "weighted avg       0.97      0.97      0.97       143\n",
      "\n",
      "Confusion matrix\n",
      "\n",
      " [[88  2]\n",
      " [ 2 51]]\n",
      "0.972027972027972\n"
     ]
    }
   ],
   "source": [
    "rfc = RandomForestClassifier(random_state=0, n_estimators=10)\n",
    "rfc.fit(x_train, y_train)\n",
    "y_pred = rfc.predict(x_test)\n",
    "\n",
    "cm = confusion_matrix(y_test, y_pred)\n",
    "\n",
    "print(classification_report(y_test, y_pred))\n",
    "print('Confusion matrix\\n\\n', cm)\n",
    "\n",
    "print(accuracy_score(y_test, y_pred))\n"
   ],
   "metadata": {
    "collapsed": false
   }
  },
  {
   "cell_type": "markdown",
   "source": [
    "From the confusion matrix we can see only 4 incorrect guesses (2 FP and 2 FN)."
   ],
   "metadata": {
    "collapsed": false
   }
  },
  {
   "cell_type": "code",
   "execution_count": 235,
   "outputs": [
    {
     "name": "stdout",
     "output_type": "stream",
     "text": [
      "Concavity                0.289313\n",
      "RadiusWorst              0.283695\n",
      "ConcavePointsWorst       0.096420\n",
      "Compactness              0.086019\n",
      "ConcavePoints            0.045268\n",
      "RadiusSE                 0.020623\n",
      "ConcavityWorst           0.017307\n",
      "FractalDimensionSE       0.016999\n",
      "SymmetryWorst            0.015741\n",
      "CompactnessWorst         0.014930\n",
      "TextureWorst             0.013352\n",
      "FractalDimension         0.013140\n",
      "Texture                  0.011357\n",
      "Radius                   0.010004\n",
      "Smoothness               0.009924\n",
      "ConcavePointsSE          0.009587\n",
      "SymmetrySE               0.007856\n",
      "ConcavitySE              0.007425\n",
      "FractalDimensionWorst    0.007263\n",
      "SmoothnessSE             0.006901\n",
      "CompactnessSE            0.006299\n",
      "SmoothnessWorst          0.005619\n",
      "TextureSE                0.003019\n",
      "Symmetry                 0.001940\n",
      "dtype: float64\n"
     ]
    }
   ],
   "source": [
    "# We use this instead to determine the most important features\n",
    "feature_scores = pd.Series(rfc.feature_importances_, index=x_train.columns).sort_values(ascending=False)\n",
    "print(feature_scores)\n",
    "\n"
   ],
   "metadata": {
    "collapsed": false
   }
  },
  {
   "cell_type": "code",
   "execution_count": 236,
   "outputs": [
    {
     "name": "stdout",
     "output_type": "stream",
     "text": [
      "0.965034965034965\n",
      "[[88  2]\n",
      " [ 3 50]]\n"
     ]
    }
   ],
   "source": [
    "# trying it again with different columns\n",
    "rfc = RandomForestClassifier(random_state=0, n_estimators=100)\n",
    "rfc.fit(x_train, y_train)\n",
    "y_pred = rfc.predict(x_test)\n",
    "\n",
    "print(accuracy_score(y_test, y_pred))\n",
    "feature_scores = pd.Series(rfc.feature_importances_, index=x_train.columns).sort_values(ascending=False)\n",
    "print(confusion_matrix(y_test, y_pred))\n",
    "\n"
   ],
   "metadata": {
    "collapsed": false
   }
  },
  {
   "cell_type": "markdown",
   "source": [
    "# Hyperparameter Tuning"
   ],
   "metadata": {
    "collapsed": false
   }
  },
  {
   "cell_type": "code",
   "execution_count": 237,
   "outputs": [],
   "source": [
    "n_estimators = [int(x) for x in range(0,100,1)]\n",
    "max_depth = [int(x) for x in np.linspace(10, 150, num = 11)]\n",
    "max_depth.append(None)\n",
    "max_features = ['sqrt']\n",
    "min_samples_split = [2, 5, 10]\n",
    "min_samples_leaf = [1, 2, 4]\n",
    "bootstrap = [True, False]\n",
    "random_grid = {'n_estimators': n_estimators,\n",
    "               'max_features': max_features,\n",
    "               'max_depth': max_depth,\n",
    "               'min_samples_split': min_samples_split,\n",
    "               'min_samples_leaf': min_samples_leaf,\n",
    "               'bootstrap': bootstrap}"
   ],
   "metadata": {
    "collapsed": false
   }
  },
  {
   "cell_type": "code",
   "execution_count": 238,
   "outputs": [
    {
     "name": "stdout",
     "output_type": "stream",
     "text": [
      "Fitting 3 folds for each of 100 candidates, totalling 300 fits\n",
      "[CV] END bootstrap=True, max_depth=80, max_features=sqrt, min_samples_leaf=4, min_samples_split=10, n_estimators=90; total time=   0.1s\n",
      "[CV] END bootstrap=False, max_depth=10, max_features=sqrt, min_samples_leaf=2, min_samples_split=5, n_estimators=84; total time=   0.1s\n",
      "[CV] END bootstrap=False, max_depth=10, max_features=sqrt, min_samples_leaf=2, min_samples_split=10, n_estimators=63; total time=   0.1s\n",
      "[CV] END bootstrap=False, max_depth=10, max_features=sqrt, min_samples_leaf=2, min_samples_split=10, n_estimators=63; total time=   0.1s\n",
      "[CV] END bootstrap=True, max_depth=108, max_features=sqrt, min_samples_leaf=1, min_samples_split=5, n_estimators=20; total time=   0.0s\n",
      "[CV] END bootstrap=False, max_depth=108, max_features=sqrt, min_samples_leaf=2, min_samples_split=5, n_estimators=68; total time=   0.1s\n",
      "[CV] END bootstrap=False, max_depth=108, max_features=sqrt, min_samples_leaf=2, min_samples_split=5, n_estimators=68; total time=   0.2s\n",
      "[CV] END bootstrap=False, max_depth=108, max_features=sqrt, min_samples_leaf=2, min_samples_split=5, n_estimators=68; total time=   0.0s\n",
      "[CV] END bootstrap=True, max_depth=52, max_features=sqrt, min_samples_leaf=2, min_samples_split=2, n_estimators=5; total time=   0.0s\n",
      "[CV] END bootstrap=True, max_depth=52, max_features=sqrt, min_samples_leaf=2, min_samples_split=2, n_estimators=5; total time=   0.0s\n",
      "[CV] END bootstrap=False, max_depth=None, max_features=sqrt, min_samples_leaf=2, min_samples_split=2, n_estimators=42; total time=   0.0s\n",
      "[CV] END bootstrap=False, max_depth=None, max_features=sqrt, min_samples_leaf=2, min_samples_split=2, n_estimators=42; total time=   0.0s\n",
      "[CV] END bootstrap=True, max_depth=66, max_features=sqrt, min_samples_leaf=1, min_samples_split=10, n_estimators=90; total time=   0.1s\n",
      "[CV] END bootstrap=True, max_depth=66, max_features=sqrt, min_samples_leaf=1, min_samples_split=10, n_estimators=90; total time=   0.1s\n",
      "[CV] END bootstrap=True, max_depth=66, max_features=sqrt, min_samples_leaf=1, min_samples_split=10, n_estimators=90; total time=   0.1s\n",
      "[CV] END bootstrap=True, max_depth=136, max_features=sqrt, min_samples_leaf=4, min_samples_split=5, n_estimators=38; total time=   0.0s\n",
      "[CV] END bootstrap=True, max_depth=24, max_features=sqrt, min_samples_leaf=1, min_samples_split=5, n_estimators=21; total time=   0.0s\n",
      "[CV] END bootstrap=True, max_depth=24, max_features=sqrt, min_samples_leaf=1, min_samples_split=5, n_estimators=21; total time=   0.0s\n",
      "[CV] END bootstrap=True, max_depth=24, max_features=sqrt, min_samples_leaf=1, min_samples_split=5, n_estimators=21; total time=   0.0s\n",
      "[CV] END bootstrap=False, max_depth=10, max_features=sqrt, min_samples_leaf=4, min_samples_split=10, n_estimators=53; total time=   0.0s\n",
      "[CV] END bootstrap=False, max_depth=10, max_features=sqrt, min_samples_leaf=4, min_samples_split=10, n_estimators=53; total time=   0.1s\n",
      "[CV] END bootstrap=False, max_depth=10, max_features=sqrt, min_samples_leaf=4, min_samples_split=10, n_estimators=53; total time=   0.1s\n",
      "[CV] END bootstrap=False, max_depth=10, max_features=sqrt, min_samples_leaf=1, min_samples_split=2, n_estimators=5; total time=   0.0s\n",
      "[CV] END bootstrap=False, max_depth=10, max_features=sqrt, min_samples_leaf=1, min_samples_split=2, n_estimators=5; total time=   0.0s\n",
      "[CV] END bootstrap=False, max_depth=10, max_features=sqrt, min_samples_leaf=4, min_samples_split=5, n_estimators=34; total time=   0.0s\n",
      "[CV] END bootstrap=False, max_depth=10, max_features=sqrt, min_samples_leaf=4, min_samples_split=5, n_estimators=34; total time=   0.0s\n",
      "[CV] END bootstrap=True, max_depth=122, max_features=sqrt, min_samples_leaf=2, min_samples_split=5, n_estimators=29; total time=   0.0s\n",
      "[CV] END bootstrap=True, max_depth=122, max_features=sqrt, min_samples_leaf=2, min_samples_split=5, n_estimators=29; total time=   0.0s\n",
      "[CV] END bootstrap=True, max_depth=122, max_features=sqrt, min_samples_leaf=2, min_samples_split=5, n_estimators=29; total time=   0.0s\n",
      "[CV] END bootstrap=True, max_depth=24, max_features=sqrt, min_samples_leaf=1, min_samples_split=5, n_estimators=16; total time=   0.0s\n",
      "[CV] END bootstrap=True, max_depth=24, max_features=sqrt, min_samples_leaf=1, min_samples_split=5, n_estimators=16; total time=   0.0s\n",
      "[CV] END bootstrap=True, max_depth=24, max_features=sqrt, min_samples_leaf=1, min_samples_split=5, n_estimators=16; total time=   0.0s\n",
      "[CV] END bootstrap=True, max_depth=122, max_features=sqrt, min_samples_leaf=1, min_samples_split=2, n_estimators=8; total time=   0.0s\n",
      "[CV] END bootstrap=True, max_depth=122, max_features=sqrt, min_samples_leaf=1, min_samples_split=2, n_estimators=8; total time=   0.0s\n",
      "[CV] END bootstrap=True, max_depth=80, max_features=sqrt, min_samples_leaf=4, min_samples_split=5, n_estimators=76; total time=   0.1s\n",
      "[CV] END bootstrap=False, max_depth=122, max_features=sqrt, min_samples_leaf=2, min_samples_split=5, n_estimators=46; total time=   0.0s\n",
      "[CV] END bootstrap=False, max_depth=122, max_features=sqrt, min_samples_leaf=2, min_samples_split=5, n_estimators=46; total time=   0.0s\n",
      "[CV] END bootstrap=False, max_depth=94, max_features=sqrt, min_samples_leaf=1, min_samples_split=10, n_estimators=48; total time=   0.0s\n",
      "[CV] END bootstrap=False, max_depth=94, max_features=sqrt, min_samples_leaf=1, min_samples_split=2, n_estimators=16; total time=   0.0s\n",
      "[CV] END bootstrap=False, max_depth=94, max_features=sqrt, min_samples_leaf=1, min_samples_split=2, n_estimators=16; total time=   0.0s\n",
      "[CV] END bootstrap=True, max_depth=122, max_features=sqrt, min_samples_leaf=4, min_samples_split=10, n_estimators=6; total time=   0.0s\n",
      "[CV] END bootstrap=True, max_depth=38, max_features=sqrt, min_samples_leaf=4, min_samples_split=5, n_estimators=68; total time=   0.1s\n",
      "[CV] END bootstrap=False, max_depth=80, max_features=sqrt, min_samples_leaf=1, min_samples_split=5, n_estimators=22; total time=   0.0s\n",
      "[CV] END bootstrap=True, max_depth=80, max_features=sqrt, min_samples_leaf=4, min_samples_split=5, n_estimators=58; total time=   0.1s\n",
      "[CV] END bootstrap=False, max_depth=52, max_features=sqrt, min_samples_leaf=2, min_samples_split=5, n_estimators=86; total time=   0.1s\n",
      "[CV] END bootstrap=True, max_depth=94, max_features=sqrt, min_samples_leaf=2, min_samples_split=5, n_estimators=92; total time=   0.1s\n",
      "[CV] END bootstrap=False, max_depth=136, max_features=sqrt, min_samples_leaf=2, min_samples_split=10, n_estimators=83; total time=   0.1s\n",
      "[CV] END bootstrap=True, max_depth=10, max_features=sqrt, min_samples_leaf=4, min_samples_split=10, n_estimators=60; total time=   0.1s\n",
      "[CV] END bootstrap=False, max_depth=None, max_features=sqrt, min_samples_leaf=4, min_samples_split=10, n_estimators=75; total time=   0.1s\n",
      "[CV] END bootstrap=True, max_depth=66, max_features=sqrt, min_samples_leaf=4, min_samples_split=10, n_estimators=26; total time=   0.0s\n",
      "[CV] END bootstrap=True, max_depth=66, max_features=sqrt, min_samples_leaf=4, min_samples_split=10, n_estimators=26; total time=   0.0s\n",
      "[CV] END bootstrap=True, max_depth=136, max_features=sqrt, min_samples_leaf=1, min_samples_split=10, n_estimators=22; total time=   0.0s\n",
      "[CV] END bootstrap=True, max_depth=136, max_features=sqrt, min_samples_leaf=1, min_samples_split=10, n_estimators=22; total time=   0.0s\n",
      "[CV] END bootstrap=True, max_depth=24, max_features=sqrt, min_samples_leaf=4, min_samples_split=5, n_estimators=85; total time=   0.1s\n",
      "[CV] END bootstrap=True, max_depth=24, max_features=sqrt, min_samples_leaf=4, min_samples_split=5, n_estimators=85; total time=   0.1s\n",
      "[CV] END bootstrap=True, max_depth=52, max_features=sqrt, min_samples_leaf=1, min_samples_split=2, n_estimators=47; total time=   0.0s\n",
      "[CV] END bootstrap=True, max_depth=10, max_features=sqrt, min_samples_leaf=1, min_samples_split=5, n_estimators=89; total time=   0.1s\n",
      "[CV] END bootstrap=True, max_depth=10, max_features=sqrt, min_samples_leaf=1, min_samples_split=5, n_estimators=89; total time=   0.1s\n",
      "[CV] END bootstrap=True, max_depth=10, max_features=sqrt, min_samples_leaf=1, min_samples_split=5, n_estimators=89; total time=   0.1s\n",
      "[CV] END bootstrap=True, max_depth=136, max_features=sqrt, min_samples_leaf=4, min_samples_split=2, n_estimators=92; total time=   0.1s\n",
      "[CV] END bootstrap=True, max_depth=136, max_features=sqrt, min_samples_leaf=4, min_samples_split=2, n_estimators=92; total time=   0.1s\n",
      "[CV] END bootstrap=True, max_depth=136, max_features=sqrt, min_samples_leaf=4, min_samples_split=2, n_estimators=92; total time=   0.1s\n",
      "[CV] END bootstrap=True, max_depth=None, max_features=sqrt, min_samples_leaf=4, min_samples_split=2, n_estimators=55; total time=   0.0s\n",
      "[CV] END bootstrap=True, max_depth=None, max_features=sqrt, min_samples_leaf=4, min_samples_split=2, n_estimators=55; total time=   0.1s\n",
      "[CV] END bootstrap=True, max_depth=None, max_features=sqrt, min_samples_leaf=4, min_samples_split=2, n_estimators=55; total time=   0.1s\n",
      "[CV] END bootstrap=True, max_depth=None, max_features=sqrt, min_samples_leaf=2, min_samples_split=2, n_estimators=53; total time=   0.1s\n",
      "[CV] END bootstrap=True, max_depth=None, max_features=sqrt, min_samples_leaf=2, min_samples_split=2, n_estimators=53; total time=   0.1s\n",
      "[CV] END bootstrap=True, max_depth=150, max_features=sqrt, min_samples_leaf=1, min_samples_split=10, n_estimators=68; total time=   0.1s\n",
      "[CV] END bootstrap=False, max_depth=None, max_features=sqrt, min_samples_leaf=2, min_samples_split=10, n_estimators=71; total time=   0.1s\n",
      "[CV] END bootstrap=False, max_depth=None, max_features=sqrt, min_samples_leaf=2, min_samples_split=10, n_estimators=71; total time=   0.1s\n",
      "[CV] END bootstrap=False, max_depth=None, max_features=sqrt, min_samples_leaf=2, min_samples_split=10, n_estimators=71; total time=   0.1s\n",
      "[CV] END bootstrap=False, max_depth=24, max_features=sqrt, min_samples_leaf=2, min_samples_split=5, n_estimators=85; total time=   0.1s\n",
      "[CV] END bootstrap=False, max_depth=24, max_features=sqrt, min_samples_leaf=2, min_samples_split=5, n_estimators=85; total time=   0.1s\n",
      "[CV] END bootstrap=False, max_depth=24, max_features=sqrt, min_samples_leaf=2, min_samples_split=5, n_estimators=85; total time=   0.1s\n",
      "[CV] END bootstrap=False, max_depth=None, max_features=sqrt, min_samples_leaf=2, min_samples_split=10, n_estimators=43; total time=   0.0s\n",
      "[CV] END bootstrap=True, max_depth=10, max_features=sqrt, min_samples_leaf=2, min_samples_split=2, n_estimators=91; total time=   0.1s\n",
      "[CV] END bootstrap=True, max_depth=94, max_features=sqrt, min_samples_leaf=2, min_samples_split=5, n_estimators=92; total time=   0.1s\n",
      "[CV] END bootstrap=False, max_depth=136, max_features=sqrt, min_samples_leaf=2, min_samples_split=10, n_estimators=83; total time=   0.1s\n",
      "[CV] END bootstrap=True, max_depth=10, max_features=sqrt, min_samples_leaf=4, min_samples_split=10, n_estimators=60; total time=   0.1s\n",
      "[CV] END bootstrap=False, max_depth=None, max_features=sqrt, min_samples_leaf=4, min_samples_split=10, n_estimators=75; total time=   0.1s\n",
      "[CV] END bootstrap=True, max_depth=94, max_features=sqrt, min_samples_leaf=4, min_samples_split=10, n_estimators=65; total time=   0.1s\n",
      "[CV] END bootstrap=True, max_depth=94, max_features=sqrt, min_samples_leaf=4, min_samples_split=10, n_estimators=65; total time=   0.1s\n",
      "[CV] END bootstrap=True, max_depth=38, max_features=sqrt, min_samples_leaf=4, min_samples_split=2, n_estimators=33; total time=   0.0s\n",
      "[CV] END bootstrap=True, max_depth=38, max_features=sqrt, min_samples_leaf=4, min_samples_split=2, n_estimators=33; total time=   0.0s\n",
      "[CV] END bootstrap=False, max_depth=136, max_features=sqrt, min_samples_leaf=4, min_samples_split=10, n_estimators=69; total time=   0.1s\n",
      "[CV] END bootstrap=False, max_depth=136, max_features=sqrt, min_samples_leaf=4, min_samples_split=10, n_estimators=69; total time=   0.2s\n",
      "[CV] END bootstrap=True, max_depth=108, max_features=sqrt, min_samples_leaf=1, min_samples_split=2, n_estimators=96; total time=   0.1s\n",
      "[CV] END bootstrap=True, max_depth=108, max_features=sqrt, min_samples_leaf=1, min_samples_split=2, n_estimators=96; total time=   0.1s\n",
      "[CV] END bootstrap=True, max_depth=136, max_features=sqrt, min_samples_leaf=4, min_samples_split=5, n_estimators=38; total time=   0.0s\n",
      "[CV] END bootstrap=True, max_depth=136, max_features=sqrt, min_samples_leaf=4, min_samples_split=5, n_estimators=38; total time=   0.1s\n",
      "[CV] END bootstrap=False, max_depth=66, max_features=sqrt, min_samples_leaf=1, min_samples_split=5, n_estimators=2; total time=   0.0s\n",
      "[CV] END bootstrap=False, max_depth=66, max_features=sqrt, min_samples_leaf=1, min_samples_split=5, n_estimators=2; total time=   0.0s\n",
      "[CV] END bootstrap=True, max_depth=None, max_features=sqrt, min_samples_leaf=2, min_samples_split=2, n_estimators=53; total time=   0.1s\n",
      "[CV] END bootstrap=True, max_depth=136, max_features=sqrt, min_samples_leaf=2, min_samples_split=2, n_estimators=33; total time=   0.0s\n",
      "[CV] END bootstrap=True, max_depth=136, max_features=sqrt, min_samples_leaf=2, min_samples_split=2, n_estimators=33; total time=   0.0s\n",
      "[CV] END bootstrap=True, max_depth=136, max_features=sqrt, min_samples_leaf=2, min_samples_split=2, n_estimators=33; total time=   0.1s\n",
      "[CV] END bootstrap=True, max_depth=24, max_features=sqrt, min_samples_leaf=1, min_samples_split=5, n_estimators=21; total time=   0.0s\n",
      "[CV] END bootstrap=True, max_depth=24, max_features=sqrt, min_samples_leaf=1, min_samples_split=5, n_estimators=21; total time=   0.1s\n",
      "[CV] END bootstrap=True, max_depth=24, max_features=sqrt, min_samples_leaf=1, min_samples_split=5, n_estimators=21; total time=   0.0s\n",
      "[CV] END bootstrap=False, max_depth=10, max_features=sqrt, min_samples_leaf=4, min_samples_split=10, n_estimators=53; total time=   0.1s\n",
      "[CV] END bootstrap=True, max_depth=122, max_features=sqrt, min_samples_leaf=4, min_samples_split=5, n_estimators=89; total time=   0.1s\n",
      "[CV] END bootstrap=True, max_depth=122, max_features=sqrt, min_samples_leaf=4, min_samples_split=5, n_estimators=89; total time=   0.1s\n",
      "[CV] END bootstrap=True, max_depth=150, max_features=sqrt, min_samples_leaf=4, min_samples_split=2, n_estimators=92; total time=   0.1s\n",
      "[CV] END bootstrap=True, max_depth=150, max_features=sqrt, min_samples_leaf=4, min_samples_split=2, n_estimators=92; total time=   0.1s\n",
      "[CV] END bootstrap=True, max_depth=122, max_features=sqrt, min_samples_leaf=1, min_samples_split=2, n_estimators=8; total time=   0.0s\n",
      "[CV] END bootstrap=True, max_depth=122, max_features=sqrt, min_samples_leaf=1, min_samples_split=2, n_estimators=8; total time=   0.0s\n",
      "[CV] END bootstrap=True, max_depth=122, max_features=sqrt, min_samples_leaf=1, min_samples_split=2, n_estimators=8; total time=   0.0s\n",
      "[CV] END bootstrap=True, max_depth=80, max_features=sqrt, min_samples_leaf=4, min_samples_split=5, n_estimators=76; total time=   0.1s\n",
      "[CV] END bootstrap=False, max_depth=94, max_features=sqrt, min_samples_leaf=1, min_samples_split=2, n_estimators=16; total time=   0.0s\n",
      "[CV] END bootstrap=False, max_depth=94, max_features=sqrt, min_samples_leaf=1, min_samples_split=2, n_estimators=16; total time=   0.0s\n",
      "[CV] END bootstrap=False, max_depth=94, max_features=sqrt, min_samples_leaf=1, min_samples_split=2, n_estimators=16; total time=   0.0s\n",
      "[CV] END bootstrap=True, max_depth=122, max_features=sqrt, min_samples_leaf=4, min_samples_split=10, n_estimators=6; total time=   0.0s\n",
      "[CV] END bootstrap=True, max_depth=38, max_features=sqrt, min_samples_leaf=4, min_samples_split=10, n_estimators=95; total time=   0.1s\n",
      "[CV] END bootstrap=True, max_depth=38, max_features=sqrt, min_samples_leaf=4, min_samples_split=10, n_estimators=95; total time=   0.1s\n",
      "[CV] END bootstrap=True, max_depth=38, max_features=sqrt, min_samples_leaf=4, min_samples_split=10, n_estimators=95; total time=   0.1s\n",
      "[CV] END bootstrap=False, max_depth=80, max_features=sqrt, min_samples_leaf=1, min_samples_split=5, n_estimators=22; total time=   0.0s\n",
      "[CV] END bootstrap=False, max_depth=136, max_features=sqrt, min_samples_leaf=2, min_samples_split=10, n_estimators=83; total time=   0.1s\n",
      "[CV] END bootstrap=True, max_depth=10, max_features=sqrt, min_samples_leaf=4, min_samples_split=10, n_estimators=60; total time=   0.1s\n",
      "[CV] END bootstrap=False, max_depth=None, max_features=sqrt, min_samples_leaf=4, min_samples_split=10, n_estimators=75; total time=   0.1s\n",
      "[CV] END bootstrap=True, max_depth=94, max_features=sqrt, min_samples_leaf=4, min_samples_split=10, n_estimators=65; total time=   0.0s\n",
      "[CV] END bootstrap=True, max_depth=66, max_features=sqrt, min_samples_leaf=2, min_samples_split=2, n_estimators=43; total time=   0.1s\n",
      "[CV] END bootstrap=True, max_depth=66, max_features=sqrt, min_samples_leaf=2, min_samples_split=2, n_estimators=43; total time=   0.0s\n",
      "[CV] END bootstrap=True, max_depth=66, max_features=sqrt, min_samples_leaf=2, min_samples_split=2, n_estimators=43; total time=   0.0s\n",
      "[CV] END bootstrap=False, max_depth=136, max_features=sqrt, min_samples_leaf=2, min_samples_split=10, n_estimators=57; total time=   0.1s\n",
      "[CV] END bootstrap=False, max_depth=136, max_features=sqrt, min_samples_leaf=2, min_samples_split=10, n_estimators=57; total time=   0.1s\n",
      "[CV] END bootstrap=False, max_depth=136, max_features=sqrt, min_samples_leaf=2, min_samples_split=10, n_estimators=57; total time=   0.1s\n",
      "[CV] END bootstrap=True, max_depth=122, max_features=sqrt, min_samples_leaf=1, min_samples_split=2, n_estimators=8; total time=   0.0s\n",
      "[CV] END bootstrap=True, max_depth=80, max_features=sqrt, min_samples_leaf=4, min_samples_split=5, n_estimators=76; total time=   0.1s\n",
      "[CV] END bootstrap=True, max_depth=80, max_features=sqrt, min_samples_leaf=4, min_samples_split=5, n_estimators=76; total time=   0.1s\n",
      "[CV] END bootstrap=False, max_depth=122, max_features=sqrt, min_samples_leaf=2, min_samples_split=5, n_estimators=46; total time=   0.0s\n",
      "[CV] END bootstrap=False, max_depth=94, max_features=sqrt, min_samples_leaf=1, min_samples_split=10, n_estimators=48; total time=   0.1s\n",
      "[CV] END bootstrap=True, max_depth=122, max_features=sqrt, min_samples_leaf=4, min_samples_split=10, n_estimators=6; total time=   0.0s\n",
      "[CV] END bootstrap=True, max_depth=122, max_features=sqrt, min_samples_leaf=4, min_samples_split=10, n_estimators=6; total time=   0.0s\n",
      "[CV] END bootstrap=True, max_depth=38, max_features=sqrt, min_samples_leaf=1, min_samples_split=10, n_estimators=27; total time=   0.0s\n",
      "[CV] END bootstrap=True, max_depth=38, max_features=sqrt, min_samples_leaf=1, min_samples_split=10, n_estimators=27; total time=   0.0s\n",
      "[CV] END bootstrap=False, max_depth=80, max_features=sqrt, min_samples_leaf=1, min_samples_split=5, n_estimators=22; total time=   0.0s\n",
      "[CV] END bootstrap=False, max_depth=80, max_features=sqrt, min_samples_leaf=1, min_samples_split=5, n_estimators=22; total time=   0.0s\n",
      "[CV] END bootstrap=True, max_depth=80, max_features=sqrt, min_samples_leaf=4, min_samples_split=5, n_estimators=58; total time=   0.0s\n",
      "[CV] END bootstrap=True, max_depth=10, max_features=sqrt, min_samples_leaf=2, min_samples_split=2, n_estimators=91; total time=   0.1s\n",
      "[CV] END bootstrap=True, max_depth=94, max_features=sqrt, min_samples_leaf=2, min_samples_split=5, n_estimators=92; total time=   0.1s\n",
      "[CV] END bootstrap=True, max_depth=136, max_features=sqrt, min_samples_leaf=1, min_samples_split=10, n_estimators=92; total time=   0.1s\n",
      "[CV] END bootstrap=False, max_depth=80, max_features=sqrt, min_samples_leaf=2, min_samples_split=5, n_estimators=95; total time=   0.1s\n",
      "[CV] END bootstrap=False, max_depth=24, max_features=sqrt, min_samples_leaf=1, min_samples_split=10, n_estimators=64; total time=   0.1s\n",
      "[CV] END bootstrap=False, max_depth=94, max_features=sqrt, min_samples_leaf=4, min_samples_split=2, n_estimators=50; total time=   0.1s\n",
      "[CV] END bootstrap=False, max_depth=94, max_features=sqrt, min_samples_leaf=4, min_samples_split=2, n_estimators=50; total time=   0.1s\n",
      "[CV] END bootstrap=True, max_depth=80, max_features=sqrt, min_samples_leaf=2, min_samples_split=10, n_estimators=51; total time=   0.1s\n",
      "[CV] END bootstrap=True, max_depth=80, max_features=sqrt, min_samples_leaf=2, min_samples_split=10, n_estimators=51; total time=   0.1s\n",
      "[CV] END bootstrap=True, max_depth=108, max_features=sqrt, min_samples_leaf=1, min_samples_split=5, n_estimators=20; total time=   0.0s\n",
      "[CV] END bootstrap=True, max_depth=108, max_features=sqrt, min_samples_leaf=1, min_samples_split=5, n_estimators=20; total time=   0.0s\n",
      "[CV] END bootstrap=False, max_depth=136, max_features=sqrt, min_samples_leaf=1, min_samples_split=10, n_estimators=18; total time=   0.0s\n",
      "[CV] END bootstrap=False, max_depth=136, max_features=sqrt, min_samples_leaf=1, min_samples_split=10, n_estimators=18; total time=   0.0s\n",
      "[CV] END bootstrap=False, max_depth=136, max_features=sqrt, min_samples_leaf=1, min_samples_split=10, n_estimators=18; total time=   0.0s\n",
      "[CV] END bootstrap=True, max_depth=52, max_features=sqrt, min_samples_leaf=2, min_samples_split=2, n_estimators=5; total time=   0.0s\n",
      "[CV] END bootstrap=True, max_depth=52, max_features=sqrt, min_samples_leaf=2, min_samples_split=2, n_estimators=5; total time=   0.0s\n",
      "[CV] END bootstrap=True, max_depth=52, max_features=sqrt, min_samples_leaf=2, min_samples_split=2, n_estimators=5; total time=   0.0s\n",
      "[CV] END bootstrap=False, max_depth=None, max_features=sqrt, min_samples_leaf=2, min_samples_split=2, n_estimators=42; total time=   0.0s\n",
      "[CV] END bootstrap=False, max_depth=None, max_features=sqrt, min_samples_leaf=2, min_samples_split=2, n_estimators=42; total time=   0.0s\n",
      "[CV] END bootstrap=False, max_depth=108, max_features=sqrt, min_samples_leaf=4, min_samples_split=10, n_estimators=12; total time=   0.0s\n",
      "[CV] END bootstrap=False, max_depth=108, max_features=sqrt, min_samples_leaf=4, min_samples_split=10, n_estimators=12; total time=   0.0s\n",
      "[CV] END bootstrap=False, max_depth=10, max_features=sqrt, min_samples_leaf=2, min_samples_split=10, n_estimators=94; total time=   0.1s\n",
      "[CV] END bootstrap=False, max_depth=10, max_features=sqrt, min_samples_leaf=2, min_samples_split=10, n_estimators=94; total time=   0.1s\n",
      "[CV] END bootstrap=True, max_depth=None, max_features=sqrt, min_samples_leaf=2, min_samples_split=2, n_estimators=53; total time=   0.1s\n",
      "[CV] END bootstrap=True, max_depth=136, max_features=sqrt, min_samples_leaf=2, min_samples_split=2, n_estimators=33; total time=   0.0s\n",
      "[CV] END bootstrap=True, max_depth=136, max_features=sqrt, min_samples_leaf=2, min_samples_split=2, n_estimators=33; total time=   0.0s\n",
      "[CV] END bootstrap=True, max_depth=136, max_features=sqrt, min_samples_leaf=2, min_samples_split=2, n_estimators=33; total time=   0.0s\n",
      "[CV] END bootstrap=True, max_depth=None, max_features=sqrt, min_samples_leaf=2, min_samples_split=2, n_estimators=33; total time=   0.0s\n",
      "[CV] END bootstrap=True, max_depth=None, max_features=sqrt, min_samples_leaf=2, min_samples_split=2, n_estimators=33; total time=   0.0s\n",
      "[CV] END bootstrap=True, max_depth=None, max_features=sqrt, min_samples_leaf=2, min_samples_split=2, n_estimators=33; total time=   0.0s\n",
      "[CV] END bootstrap=False, max_depth=10, max_features=sqrt, min_samples_leaf=1, min_samples_split=10, n_estimators=16; total time=   0.0s\n",
      "[CV] END bootstrap=True, max_depth=122, max_features=sqrt, min_samples_leaf=4, min_samples_split=5, n_estimators=89; total time=   0.1s\n",
      "[CV] END bootstrap=True, max_depth=122, max_features=sqrt, min_samples_leaf=4, min_samples_split=5, n_estimators=89; total time=   0.1s\n",
      "[CV] END bootstrap=True, max_depth=150, max_features=sqrt, min_samples_leaf=4, min_samples_split=2, n_estimators=92; total time=   0.1s\n",
      "[CV] END bootstrap=True, max_depth=150, max_features=sqrt, min_samples_leaf=4, min_samples_split=2, n_estimators=92; total time=   0.1s\n",
      "[CV] END bootstrap=True, max_depth=150, max_features=sqrt, min_samples_leaf=4, min_samples_split=2, n_estimators=92; total time=   0.1s\n",
      "[CV] END bootstrap=False, max_depth=38, max_features=sqrt, min_samples_leaf=2, min_samples_split=2, n_estimators=90; total time=   0.1s\n",
      "[CV] END bootstrap=False, max_depth=38, max_features=sqrt, min_samples_leaf=2, min_samples_split=2, n_estimators=90; total time=   0.1s\n",
      "[CV] END bootstrap=False, max_depth=38, max_features=sqrt, min_samples_leaf=2, min_samples_split=2, n_estimators=90; total time=   0.1s\n",
      "[CV] END bootstrap=False, max_depth=80, max_features=sqrt, min_samples_leaf=1, min_samples_split=5, n_estimators=22; total time=   0.0s\n",
      "[CV] END bootstrap=False, max_depth=80, max_features=sqrt, min_samples_leaf=1, min_samples_split=5, n_estimators=22; total time=   0.0s\n",
      "[CV] END bootstrap=True, max_depth=80, max_features=sqrt, min_samples_leaf=4, min_samples_split=5, n_estimators=58; total time=   0.1s\n",
      "[CV] END bootstrap=True, max_depth=10, max_features=sqrt, min_samples_leaf=2, min_samples_split=2, n_estimators=91; total time=   0.1s\n",
      "[CV] END bootstrap=False, max_depth=38, max_features=sqrt, min_samples_leaf=1, min_samples_split=2, n_estimators=66; total time=   0.1s\n",
      "[CV] END bootstrap=True, max_depth=52, max_features=sqrt, min_samples_leaf=4, min_samples_split=10, n_estimators=61; total time=   0.1s\n",
      "[CV] END bootstrap=True, max_depth=136, max_features=sqrt, min_samples_leaf=1, min_samples_split=10, n_estimators=92; total time=   0.1s\n",
      "[CV] END bootstrap=True, max_depth=10, max_features=sqrt, min_samples_leaf=4, min_samples_split=10, n_estimators=60; total time=   0.1s\n",
      "[CV] END bootstrap=False, max_depth=24, max_features=sqrt, min_samples_leaf=1, min_samples_split=10, n_estimators=64; total time=   0.1s\n",
      "[CV] END bootstrap=True, max_depth=66, max_features=sqrt, min_samples_leaf=4, min_samples_split=10, n_estimators=26; total time=   0.0s\n",
      "[CV] END bootstrap=False, max_depth=66, max_features=sqrt, min_samples_leaf=1, min_samples_split=2, n_estimators=23; total time=   0.0s\n",
      "[CV] END bootstrap=True, max_depth=136, max_features=sqrt, min_samples_leaf=1, min_samples_split=10, n_estimators=22; total time=   0.0s\n",
      "[CV] END bootstrap=True, max_depth=136, max_features=sqrt, min_samples_leaf=1, min_samples_split=10, n_estimators=22; total time=   0.0s\n",
      "[CV] END bootstrap=True, max_depth=10, max_features=sqrt, min_samples_leaf=4, min_samples_split=5, n_estimators=69; total time=   0.1s\n",
      "[CV] END bootstrap=True, max_depth=38, max_features=sqrt, min_samples_leaf=4, min_samples_split=2, n_estimators=33; total time=   0.1s\n",
      "[CV] END bootstrap=True, max_depth=108, max_features=sqrt, min_samples_leaf=1, min_samples_split=2, n_estimators=96; total time=   0.1s\n",
      "[CV] END bootstrap=True, max_depth=136, max_features=sqrt, min_samples_leaf=2, min_samples_split=10, n_estimators=66; total time=   0.2s\n",
      "[CV] END bootstrap=True, max_depth=136, max_features=sqrt, min_samples_leaf=2, min_samples_split=10, n_estimators=66; total time=   0.1s\n",
      "[CV] END bootstrap=True, max_depth=136, max_features=sqrt, min_samples_leaf=2, min_samples_split=10, n_estimators=66; total time=   0.1s\n",
      "[CV] END bootstrap=False, max_depth=66, max_features=sqrt, min_samples_leaf=1, min_samples_split=5, n_estimators=2; total time=   0.0s\n",
      "[CV] END bootstrap=True, max_depth=None, max_features=sqrt, min_samples_leaf=4, min_samples_split=5, n_estimators=27; total time=   0.0s\n",
      "[CV] END bootstrap=True, max_depth=None, max_features=sqrt, min_samples_leaf=4, min_samples_split=5, n_estimators=27; total time=   0.0s\n",
      "[CV] END bootstrap=True, max_depth=None, max_features=sqrt, min_samples_leaf=4, min_samples_split=5, n_estimators=27; total time=   0.0s\n",
      "[CV] END bootstrap=True, max_depth=None, max_features=sqrt, min_samples_leaf=2, min_samples_split=2, n_estimators=33; total time=   0.0s\n",
      "[CV] END bootstrap=True, max_depth=None, max_features=sqrt, min_samples_leaf=2, min_samples_split=2, n_estimators=33; total time=   0.0s\n",
      "[CV] END bootstrap=True, max_depth=None, max_features=sqrt, min_samples_leaf=2, min_samples_split=2, n_estimators=33; total time=   0.0s\n",
      "[CV] END bootstrap=False, max_depth=10, max_features=sqrt, min_samples_leaf=1, min_samples_split=10, n_estimators=16; total time=   0.0s\n",
      "[CV] END bootstrap=True, max_depth=52, max_features=sqrt, min_samples_leaf=2, min_samples_split=5, n_estimators=52; total time=   0.1s\n",
      "[CV] END bootstrap=True, max_depth=52, max_features=sqrt, min_samples_leaf=2, min_samples_split=5, n_estimators=52; total time=   0.2s\n",
      "[CV] END bootstrap=True, max_depth=52, max_features=sqrt, min_samples_leaf=2, min_samples_split=5, n_estimators=52; total time=   0.0s\n",
      "[CV] END bootstrap=True, max_depth=24, max_features=sqrt, min_samples_leaf=4, min_samples_split=2, n_estimators=85; total time=   0.1s\n",
      "[CV] END bootstrap=False, max_depth=10, max_features=sqrt, min_samples_leaf=4, min_samples_split=5, n_estimators=34; total time=   0.0s\n",
      "[CV] END bootstrap=False, max_depth=10, max_features=sqrt, min_samples_leaf=4, min_samples_split=5, n_estimators=34; total time=   0.0s\n",
      "[CV] END bootstrap=True, max_depth=122, max_features=sqrt, min_samples_leaf=2, min_samples_split=5, n_estimators=29; total time=   0.0s\n",
      "[CV] END bootstrap=True, max_depth=122, max_features=sqrt, min_samples_leaf=2, min_samples_split=5, n_estimators=29; total time=   0.0s\n",
      "[CV] END bootstrap=False, max_depth=108, max_features=sqrt, min_samples_leaf=1, min_samples_split=5, n_estimators=62; total time=   0.1s\n",
      "[CV] END bootstrap=False, max_depth=108, max_features=sqrt, min_samples_leaf=1, min_samples_split=5, n_estimators=62; total time=   0.1s\n",
      "[CV] END bootstrap=True, max_depth=150, max_features=sqrt, min_samples_leaf=1, min_samples_split=10, n_estimators=68; total time=   0.1s\n",
      "[CV] END bootstrap=True, max_depth=150, max_features=sqrt, min_samples_leaf=1, min_samples_split=10, n_estimators=68; total time=   0.1s\n",
      "[CV] END bootstrap=True, max_depth=38, max_features=sqrt, min_samples_leaf=4, min_samples_split=5, n_estimators=68; total time=   0.1s\n",
      "[CV] END bootstrap=True, max_depth=38, max_features=sqrt, min_samples_leaf=1, min_samples_split=10, n_estimators=27; total time=   0.0s\n",
      "[CV] END bootstrap=True, max_depth=38, max_features=sqrt, min_samples_leaf=1, min_samples_split=10, n_estimators=27; total time=   0.0s\n",
      "[CV] END bootstrap=True, max_depth=38, max_features=sqrt, min_samples_leaf=1, min_samples_split=10, n_estimators=27; total time=   0.0s\n",
      "[CV] END bootstrap=True, max_depth=10, max_features=sqrt, min_samples_leaf=2, min_samples_split=2, n_estimators=91; total time=   0.1s\n",
      "[CV] END bootstrap=False, max_depth=38, max_features=sqrt, min_samples_leaf=1, min_samples_split=2, n_estimators=66; total time=   0.1s\n",
      "[CV] END bootstrap=True, max_depth=94, max_features=sqrt, min_samples_leaf=4, min_samples_split=5, n_estimators=84; total time=   0.1s\n",
      "[CV] END bootstrap=True, max_depth=10, max_features=sqrt, min_samples_leaf=4, min_samples_split=10, n_estimators=60; total time=   0.1s\n",
      "[CV] END bootstrap=True, max_depth=80, max_features=sqrt, min_samples_leaf=4, min_samples_split=10, n_estimators=90; total time=   0.1s\n",
      "[CV] END bootstrap=True, max_depth=94, max_features=sqrt, min_samples_leaf=4, min_samples_split=10, n_estimators=65; total time=   0.1s\n",
      "[CV] END bootstrap=False, max_depth=94, max_features=sqrt, min_samples_leaf=4, min_samples_split=2, n_estimators=50; total time=   0.0s\n",
      "[CV] END bootstrap=True, max_depth=136, max_features=sqrt, min_samples_leaf=1, min_samples_split=10, n_estimators=22; total time=   0.0s\n",
      "[CV] END bootstrap=True, max_depth=136, max_features=sqrt, min_samples_leaf=1, min_samples_split=10, n_estimators=22; total time=   0.0s\n",
      "[CV] END bootstrap=True, max_depth=38, max_features=sqrt, min_samples_leaf=4, min_samples_split=2, n_estimators=33; total time=   0.0s\n",
      "[CV] END bootstrap=True, max_depth=38, max_features=sqrt, min_samples_leaf=4, min_samples_split=2, n_estimators=33; total time=   0.0s\n",
      "[CV] END bootstrap=False, max_depth=None, max_features=sqrt, min_samples_leaf=1, min_samples_split=10, n_estimators=39; total time=   0.0s\n",
      "[CV] END bootstrap=False, max_depth=None, max_features=sqrt, min_samples_leaf=1, min_samples_split=10, n_estimators=39; total time=   0.0s\n",
      "[CV] END bootstrap=False, max_depth=None, max_features=sqrt, min_samples_leaf=1, min_samples_split=10, n_estimators=39; total time=   0.0s\n",
      "[CV] END bootstrap=False, max_depth=136, max_features=sqrt, min_samples_leaf=4, min_samples_split=10, n_estimators=69; total time=   0.0s\n",
      "[CV] END bootstrap=True, max_depth=52, max_features=sqrt, min_samples_leaf=2, min_samples_split=2, n_estimators=5; total time=   0.0s\n",
      "[CV] END bootstrap=True, max_depth=52, max_features=sqrt, min_samples_leaf=2, min_samples_split=2, n_estimators=5; total time=   0.0s\n",
      "[CV] END bootstrap=False, max_depth=None, max_features=sqrt, min_samples_leaf=2, min_samples_split=2, n_estimators=42; total time=   0.0s\n",
      "[CV] END bootstrap=False, max_depth=None, max_features=sqrt, min_samples_leaf=2, min_samples_split=2, n_estimators=42; total time=   0.0s\n",
      "[CV] END bootstrap=False, max_depth=10, max_features=sqrt, min_samples_leaf=2, min_samples_split=10, n_estimators=94; total time=   0.1s\n",
      "RandomForestClassifier(bootstrap=False, max_depth=108, min_samples_split=5,\n",
      "                       n_estimators=62, random_state=0)\n",
      "0.9370629370629371\n"
     ]
    }
   ],
   "source": [
    "rf_random = RandomizedSearchCV(estimator = rfc, param_distributions = random_grid, n_iter = 100, cv = 3, verbose=2, random_state=42, n_jobs = -1)\n",
    "rf_random.fit(x_train, y_train)\n",
    "best_random = rf_random.best_estimator_\n",
    "y_pred = best_random.predict(x_test)\n",
    "print(rf_random.best_estimator_)\n",
    "print(metrics.accuracy_score(y_test, y_pred))"
   ],
   "metadata": {
    "collapsed": false
   }
  },
  {
   "cell_type": "markdown",
   "source": [
    "# Test for over/ underfitting\n",
    "\n"
   ],
   "metadata": {
    "collapsed": false
   }
  },
  {
   "cell_type": "code",
   "execution_count": 239,
   "outputs": [
    {
     "data": {
      "text/plain": "<Figure size 1000x500 with 2 Axes>",
      "image/png": "[encoded data removed]"
     },
     "metadata": {},
     "output_type": "display_data"
    }
   ],
   "source": [
    "train_sizes_abs_accuracy, train_accuracy, test_accuracy = learning_curve(estimator=best_random, X=x_train, y=y_train, scoring='accuracy', cv=5)\n",
    "\n",
    "train_sizes_abs_error, train_error, test_error = learning_curve(estimator=best_random, X=x_train, y=LabelEncoder().fit_transform(y_train), scoring='recall', cv=5)\n",
    "\n",
    "fig, ax = plt.subplots(1, 2, figsize=(10, 5))\n",
    "# Array of tuples (train_size, train_score)\n",
    "train_avg_accuracy, test_avg_accuracy, train_avg_error, test_avg_error = [], [], [], []\n",
    "\n",
    "for i in range(len(train_sizes_abs_accuracy)):\n",
    "    train_avg_accuracy.append(np.average(train_accuracy[i]))\n",
    "    test_avg_accuracy.append(np.average(test_accuracy[i]))\n",
    "\n",
    "for i in range(len(train_sizes_abs_error)):\n",
    "    train_avg_error.append(np.average(train_error[i]))\n",
    "    test_avg_error.append(np.average(test_error[i]))\n",
    "\n",
    "# Accuracy learning curve\n",
    "ax[0].plot(train_sizes_abs_accuracy, train_avg_accuracy)\n",
    "ax[0].plot(train_sizes_abs_accuracy, test_avg_accuracy)\n",
    "ax[0].legend(['Train', 'Test'])\n",
    "ax[0].set_ylabel('Accuracy')\n",
    "ax[0].set_xlabel('Num. samples')\n",
    "\n",
    "# Error learning curve\n",
    "ax[1].plot(train_sizes_abs_error, train_avg_error)\n",
    "ax[1].plot(train_sizes_abs_error, test_avg_error)\n",
    "ax[1].legend(['Train', 'Test'])\n",
    "ax[1].set_xlabel('Num. of training samples')\n",
    "ax[1].set_ylabel('Recall')\n",
    "plt.show()"
   ],
   "metadata": {
    "collapsed": false
   }
  },
  {
   "cell_type": "markdown",
   "source": [
    "100% accuracy and not changing with the number of samples is clearly overfitting, so we will manually remove the least significant variables we calculated to simplify our model- so that we can make up for our lack of instances."
   ],
   "metadata": {
    "collapsed": false
   }
  }
 ],
 "metadata": {
  "kernelspec": {
   "display_name": "Python 3",
   "language": "python",
   "name": "python3"
  },
  "language_info": {
   "codemirror_mode": {
    "name": "ipython",
    "version": 2
   },
   "file_extension": ".py",
   "mimetype": "text/x-python",
   "name": "python",
   "nbconvert_exporter": "python",
   "pygments_lexer": "ipython2",
   "version": "2.7.6"
  }
 },
 "nbformat": 4,
 "nbformat_minor": 0
}
