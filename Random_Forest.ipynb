{
 "cells": [
  {
   "cell_type": "code",
   "execution_count": 115,
   "outputs": [],
   "source": [
    "import pandas as pd\n",
    "import matplotlib.pyplot as plt\n",
    "from sklearn.preprocessing import LabelEncoder, StandardScaler\n",
    "from sklearn.model_selection import train_test_split, learning_curve\n",
    "from sklearn.ensemble import RandomForestClassifier\n",
    "from sklearn.metrics import confusion_matrix, precision_score, recall_score, accuracy_score, classification_report, roc_curve\n",
    "from sklearn.model_selection import RandomizedSearchCV\n",
    "import numpy as np\n",
    "from sklearn.metrics import roc_auc_score\n",
    "import warnings\n",
    "warnings.filterwarnings(\"ignore\")"
   ],
   "metadata": {
    "collapsed": false
   }
  },
  {
   "cell_type": "markdown",
   "source": [
    "# Get data & split into train/test/validation sets"
   ],
   "metadata": {
    "collapsed": false
   }
  },
  {
   "cell_type": "code",
   "execution_count": 116,
   "outputs": [
    {
     "name": "stdout",
     "output_type": "stream",
     "text": [
      "[[ 1.09706398 -2.07333501  1.56846633 ...  2.29607613  2.75062224\n",
      "   1.93701461]\n",
      " [ 1.82982061 -0.35363241 -0.82696245 ...  1.0870843  -0.24388967\n",
      "   0.28118999]\n",
      " [ 1.57988811  0.45618695  0.94221044 ...  1.95500035  1.152255\n",
      "   0.20139121]\n",
      " ...\n",
      " [ 0.70228425  2.0455738  -0.84048388 ...  0.41406869 -1.10454895\n",
      "  -0.31840916]\n",
      " [ 1.83834103  2.33645719  1.52576706 ...  2.28998549  1.91908301\n",
      "   2.21963528]\n",
      " [-1.80840125  1.22179204 -3.11208479 ... -1.74506282 -0.04813821\n",
      "  -0.75120669]]\n"
     ]
    }
   ],
   "source": [
    "df = pd.read_csv('./Data Exploration/wdbc.csv')\n",
    "df = df.drop([\"Area\", \"AreaSE\", \"AreaWorst\", \"Perimeter\", \"PerimeterSE\", \"PerimeterWorst\"], axis = 1)\n",
    "encoder = LabelEncoder().fit(df[\"B/M\"])\n",
    "df['B/M'] = encoder.transform(df[\"B/M\"])\n",
    "not_data = [\"ID\", \"B/M\"]\n",
    "label = df[\"B/M\"]\n",
    "feature = df.drop(not_data, axis = 1)\n",
    "data = pd.concat([label, feature], axis=1)\n",
    "\n"
   ],
   "metadata": {
    "collapsed": false
   }
  },
  {
   "cell_type": "code",
   "execution_count": 117,
   "outputs": [],
   "source": [
    "x_train, x_test, y_train, y_test = train_test_split(feature, label, test_size=0.20, stratify=label)\n",
    "x_train, x_val, y_train, y_val = train_test_split(x_train, y_train, test_size=0.20, stratify=y_train)"
   ],
   "metadata": {
    "collapsed": false
   }
  },
  {
   "cell_type": "markdown",
   "source": [
    "# Create & Train Initial Model (no tuning)\n",
    "\n",
    "Our initial model that we train, before hyperparameter tuning. We want a higher Recall, as it accounts for false negatives - and gives us a lower proportion of them, which we desire. We get a very high accuracy and recall and precision - which makes me suspect of overfitting, especially because we have such a small sample size respective to the number of features."
   ],
   "metadata": {
    "collapsed": false
   }
  },
  {
   "cell_type": "code",
   "execution_count": 118,
   "outputs": [
    {
     "name": "stdout",
     "output_type": "stream",
     "text": [
      "              precision    recall  f1-score   support\n",
      "\n",
      "           0       0.95      0.96      0.95        72\n",
      "           1       0.93      0.90      0.92        42\n",
      "\n",
      "    accuracy                           0.94       114\n",
      "   macro avg       0.94      0.93      0.93       114\n",
      "weighted avg       0.94      0.94      0.94       114\n",
      "\n",
      "[[69  3]\n",
      " [ 4 38]]\n",
      "Accuracy: 0.9385964912280702\n",
      "Recall: 0.9047619047619048\n",
      "Precision: 0.926829268292683\n"
     ]
    }
   ],
   "source": [
    "rfc = RandomForestClassifier(random_state=0, n_estimators=10)\n",
    "rfc.fit(x_train, y_train)\n",
    "y_pred = rfc.predict(x_test)\n",
    "\n",
    "def bench_marks(y_test, y_pred):\n",
    "    print(classification_report(y_test, y_pred))\n",
    "    print(confusion_matrix(y_test, y_pred))\n",
    "    print(f'Accuracy: {accuracy_score(y_test, y_pred)}')\n",
    "    print(f'Recall: {recall_score(y_test, y_pred)}')\n",
    "    print(f'Precision: {precision_score(y_test, y_pred)}')\n",
    "bench_marks(y_test, y_pred)"
   ],
   "metadata": {
    "collapsed": false
   }
  },
  {
   "cell_type": "markdown",
   "source": [
    "# Feature Selection\n",
    "One 'feature' of Random Forest Classification is we can get the importance of each figure in the category - which can help us get rid of features with low utility and also make inferences from our results. We will remove our the lowest importance features using our importance series and recreate our train test sets."
   ],
   "metadata": {
    "collapsed": false
   }
  },
  {
   "cell_type": "code",
   "execution_count": 119,
   "outputs": [
    {
     "name": "stdout",
     "output_type": "stream",
     "text": [
      "Concavity                0.261018\n",
      "RadiusWorst              0.255495\n",
      "ConcavePointsWorst       0.143964\n",
      "Compactness              0.085238\n",
      "CompactnessWorst         0.039247\n",
      "Radius                   0.030152\n",
      "ConcavityWorst           0.027801\n",
      "CompactnessSE            0.019441\n",
      "TextureWorst             0.014944\n",
      "ConcavePoints            0.014416\n",
      "FractalDimensionSE       0.014207\n",
      "Smoothness               0.013656\n",
      "ConcavitySE              0.012902\n",
      "RadiusSE                 0.012169\n",
      "SmoothnessWorst          0.008913\n",
      "FractalDimension         0.008718\n",
      "Texture                  0.008165\n",
      "SymmetrySE               0.008085\n",
      "SmoothnessSE             0.007693\n",
      "TextureSE                0.004188\n",
      "ConcavePointsSE          0.003511\n",
      "FractalDimensionWorst    0.002617\n",
      "Symmetry                 0.002225\n",
      "SymmetryWorst            0.001233\n",
      "dtype: float64\n",
      "\n",
      "\n",
      "['Concavity', 'RadiusWorst', 'ConcavePointsWorst', 'Compactness', 'CompactnessWorst', 'Radius', 'ConcavityWorst', 'CompactnessSE', 'TextureWorst', 'ConcavePoints', 'FractalDimensionSE']\n"
     ]
    }
   ],
   "source": [
    "feature_scores = pd.Series(rfc.feature_importances_, index=x_train.columns).sort_values(ascending=False)\n",
    "print(feature_scores)\n",
    "feature_scores = feature_scores.index.tolist()\n",
    "important_features = feature_scores[:-13]\n",
    "feature = df[important_features]\n",
    "x_train, x_test, y_train, y_test = train_test_split(feature, label, test_size=0.20, stratify=label)\n",
    "x_train, x_val, y_train, y_val = train_test_split(x_train, y_train, test_size=0.20, stratify=y_train)\n",
    "print(\"\\n\")\n",
    "print(important_features)"
   ],
   "metadata": {
    "collapsed": false
   }
  },
  {
   "cell_type": "markdown",
   "source": [
    "We remove our features, and try our metrics again. We get a higher precision if we remove the least important features? Why is this happening? It also loses some accuracy. This makes me suspect of overfitting."
   ],
   "metadata": {
    "collapsed": false
   }
  },
  {
   "cell_type": "code",
   "execution_count": 120,
   "outputs": [
    {
     "name": "stdout",
     "output_type": "stream",
     "text": [
      "              precision    recall  f1-score   support\n",
      "\n",
      "           0       0.95      0.91      0.93        57\n",
      "           1       0.86      0.91      0.89        34\n",
      "\n",
      "    accuracy                           0.91        91\n",
      "   macro avg       0.90      0.91      0.91        91\n",
      "weighted avg       0.91      0.91      0.91        91\n",
      "\n",
      "[[52  5]\n",
      " [ 3 31]]\n",
      "Accuracy: 0.9120879120879121\n",
      "Recall: 0.9117647058823529\n",
      "Precision: 0.8611111111111112\n",
      "ConcavePoints         0.245996\n",
      "ConcavePointsWorst    0.223143\n",
      "RadiusWorst           0.194696\n",
      "Radius                0.119006\n",
      "ConcavityWorst        0.062448\n",
      "Concavity             0.059117\n",
      "TextureWorst          0.027783\n",
      "Compactness           0.027048\n",
      "CompactnessWorst      0.021035\n",
      "CompactnessSE         0.009948\n",
      "FractalDimensionSE    0.009779\n",
      "dtype: float64\n"
     ]
    }
   ],
   "source": [
    "# test will validation\n",
    "rfc = RandomForestClassifier(random_state=0, n_estimators=100)\n",
    "rfc.fit(x_train, y_train)\n",
    "y_pred = rfc.predict(x_val)\n",
    "bench_marks(y_val, y_pred)\n",
    "feature_scores = pd.Series(rfc.feature_importances_, index=x_train.columns).sort_values(ascending=False)\n",
    "print(feature_scores)\n"
   ],
   "metadata": {
    "collapsed": false
   }
  },
  {
   "cell_type": "markdown",
   "source": [
    "# Hyperparameter Tuning\n",
    "\n",
    "We will use a random grib with a randomized search to try different iterations of the trees and brute force our way to a optimal solution. We will repeat the code below, adjusting the parameters each iteration."
   ],
   "metadata": {
    "collapsed": false
   }
  },
  {
   "cell_type": "code",
   "execution_count": 121,
   "outputs": [],
   "source": [
    "n_estimators = [int(x) for x in range(10,100,1)]\n",
    "max_depth = [int(x) for x in np.linspace(20, 150, num = 5)]\n",
    "max_depth.append(None)\n",
    "max_features = ['sqrt']\n",
    "min_samples_split = [2, 3, 4, 5, 7, 10]\n",
    "min_samples_leaf = [1, 2, 3, 4]\n",
    "bootstrap = [True, False]\n",
    "random_grid = {'n_estimators': n_estimators,\n",
    "               'max_features': max_features,\n",
    "               'max_depth': max_depth,\n",
    "               'min_samples_split': min_samples_split,\n",
    "               'min_samples_leaf': min_samples_leaf,\n",
    "               'bootstrap': bootstrap}"
   ],
   "metadata": {
    "collapsed": false
   }
  },
  {
   "cell_type": "code",
   "execution_count": 122,
   "outputs": [
    {
     "name": "stdout",
     "output_type": "stream",
     "text": [
      "Fitting 5 folds for each of 100 candidates, totalling 500 fits\n",
      "[CV] END bootstrap=False, max_depth=117, max_features=sqrt, min_samples_leaf=3, min_samples_split=7, n_estimators=69; total time=   0.1s\n",
      "[CV] END bootstrap=False, max_depth=117, max_features=sqrt, min_samples_leaf=3, min_samples_split=7, n_estimators=69; total time=   0.1s\n",
      "[CV] END bootstrap=False, max_depth=None, max_features=sqrt, min_samples_leaf=1, min_samples_split=10, n_estimators=33; total time=   0.0s\n",
      "[CV] END bootstrap=False, max_depth=None, max_features=sqrt, min_samples_leaf=1, min_samples_split=10, n_estimators=33; total time=   0.0s\n",
      "[CV] END bootstrap=False, max_depth=None, max_features=sqrt, min_samples_leaf=1, min_samples_split=10, n_estimators=33; total time=   0.0s\n",
      "[CV] END bootstrap=False, max_depth=85, max_features=sqrt, min_samples_leaf=3, min_samples_split=2, n_estimators=81; total time=   0.1s\n",
      "[CV] END bootstrap=False, max_depth=117, max_features=sqrt, min_samples_leaf=3, min_samples_split=10, n_estimators=82; total time=   0.1s\n",
      "[CV] END bootstrap=False, max_depth=117, max_features=sqrt, min_samples_leaf=3, min_samples_split=10, n_estimators=82; total time=   0.1s\n",
      "[CV] END bootstrap=True, max_depth=20, max_features=sqrt, min_samples_leaf=4, min_samples_split=5, n_estimators=19; total time=   0.0s\n",
      "[CV] END bootstrap=True, max_depth=20, max_features=sqrt, min_samples_leaf=4, min_samples_split=5, n_estimators=19; total time=   0.0s\n",
      "[CV] END bootstrap=True, max_depth=150, max_features=sqrt, min_samples_leaf=4, min_samples_split=7, n_estimators=17; total time=   0.0s\n",
      "[CV] END bootstrap=True, max_depth=150, max_features=sqrt, min_samples_leaf=4, min_samples_split=7, n_estimators=17; total time=   0.0s\n",
      "[CV] END bootstrap=True, max_depth=150, max_features=sqrt, min_samples_leaf=4, min_samples_split=7, n_estimators=17; total time=   0.0s\n",
      "[CV] END bootstrap=True, max_depth=150, max_features=sqrt, min_samples_leaf=4, min_samples_split=7, n_estimators=17; total time=   0.0s\n",
      "[CV] END bootstrap=True, max_depth=150, max_features=sqrt, min_samples_leaf=4, min_samples_split=7, n_estimators=17; total time=   0.0s\n",
      "[CV] END bootstrap=True, max_depth=150, max_features=sqrt, min_samples_leaf=1, min_samples_split=3, n_estimators=72; total time=   0.1s\n",
      "[CV] END bootstrap=True, max_depth=150, max_features=sqrt, min_samples_leaf=1, min_samples_split=3, n_estimators=72; total time=   0.1s\n",
      "[CV] END bootstrap=True, max_depth=150, max_features=sqrt, min_samples_leaf=1, min_samples_split=3, n_estimators=72; total time=   0.2s\n",
      "[CV] END bootstrap=False, max_depth=52, max_features=sqrt, min_samples_leaf=4, min_samples_split=7, n_estimators=69; total time=   0.1s\n",
      "[CV] END bootstrap=False, max_depth=52, max_features=sqrt, min_samples_leaf=4, min_samples_split=7, n_estimators=69; total time=   0.1s\n",
      "[CV] END bootstrap=False, max_depth=52, max_features=sqrt, min_samples_leaf=4, min_samples_split=7, n_estimators=69; total time=   0.1s\n",
      "[CV] END bootstrap=True, max_depth=None, max_features=sqrt, min_samples_leaf=3, min_samples_split=5, n_estimators=66; total time=   0.1s\n",
      "[CV] END bootstrap=True, max_depth=None, max_features=sqrt, min_samples_leaf=3, min_samples_split=5, n_estimators=66; total time=   0.1s\n",
      "[CV] END bootstrap=True, max_depth=None, max_features=sqrt, min_samples_leaf=3, min_samples_split=5, n_estimators=66; total time=   0.0s\n",
      "[CV] END bootstrap=True, max_depth=None, max_features=sqrt, min_samples_leaf=3, min_samples_split=5, n_estimators=66; total time=   0.1s\n",
      "[CV] END bootstrap=True, max_depth=None, max_features=sqrt, min_samples_leaf=3, min_samples_split=5, n_estimators=66; total time=   0.1s\n",
      "[CV] END bootstrap=False, max_depth=20, max_features=sqrt, min_samples_leaf=1, min_samples_split=2, n_estimators=40; total time=   0.0s\n",
      "[CV] END bootstrap=False, max_depth=20, max_features=sqrt, min_samples_leaf=1, min_samples_split=2, n_estimators=40; total time=   0.0s\n",
      "[CV] END bootstrap=False, max_depth=20, max_features=sqrt, min_samples_leaf=1, min_samples_split=2, n_estimators=40; total time=   0.0s\n",
      "[CV] END bootstrap=True, max_depth=117, max_features=sqrt, min_samples_leaf=1, min_samples_split=7, n_estimators=43; total time=   0.1s\n",
      "[CV] END bootstrap=True, max_depth=117, max_features=sqrt, min_samples_leaf=1, min_samples_split=7, n_estimators=43; total time=   0.1s\n",
      "[CV] END bootstrap=True, max_depth=117, max_features=sqrt, min_samples_leaf=1, min_samples_split=7, n_estimators=43; total time=   0.0s\n",
      "[CV] END bootstrap=True, max_depth=117, max_features=sqrt, min_samples_leaf=1, min_samples_split=7, n_estimators=43; total time=   0.0s\n",
      "[CV] END bootstrap=True, max_depth=117, max_features=sqrt, min_samples_leaf=1, min_samples_split=7, n_estimators=43; total time=   0.0s\n",
      "[CV] END bootstrap=False, max_depth=None, max_features=sqrt, min_samples_leaf=1, min_samples_split=10, n_estimators=53; total time=   0.1s\n",
      "[CV] END bootstrap=False, max_depth=None, max_features=sqrt, min_samples_leaf=1, min_samples_split=10, n_estimators=53; total time=   0.1s\n",
      "[CV] END bootstrap=False, max_depth=None, max_features=sqrt, min_samples_leaf=1, min_samples_split=10, n_estimators=53; total time=   0.1s\n",
      "[CV] END bootstrap=False, max_depth=None, max_features=sqrt, min_samples_leaf=1, min_samples_split=10, n_estimators=53; total time=   0.1s\n",
      "[CV] END bootstrap=False, max_depth=None, max_features=sqrt, min_samples_leaf=1, min_samples_split=10, n_estimators=53; total time=   0.1s\n",
      "[CV] END bootstrap=False, max_depth=150, max_features=sqrt, min_samples_leaf=3, min_samples_split=3, n_estimators=63; total time=   0.1s\n",
      "[CV] END bootstrap=False, max_depth=150, max_features=sqrt, min_samples_leaf=3, min_samples_split=3, n_estimators=63; total time=   0.1s\n",
      "[CV] END bootstrap=False, max_depth=150, max_features=sqrt, min_samples_leaf=3, min_samples_split=3, n_estimators=63; total time=   0.1s\n",
      "[CV] END bootstrap=False, max_depth=150, max_features=sqrt, min_samples_leaf=4, min_samples_split=7, n_estimators=84; total time=   0.1s\n",
      "[CV] END bootstrap=False, max_depth=52, max_features=sqrt, min_samples_leaf=2, min_samples_split=3, n_estimators=55; total time=   0.0s\n",
      "[CV] END bootstrap=True, max_depth=85, max_features=sqrt, min_samples_leaf=2, min_samples_split=10, n_estimators=90; total time=   0.2s\n",
      "[CV] END bootstrap=True, max_depth=85, max_features=sqrt, min_samples_leaf=2, min_samples_split=10, n_estimators=90; total time=   0.1s\n",
      "[CV] END bootstrap=True, max_depth=None, max_features=sqrt, min_samples_leaf=1, min_samples_split=10, n_estimators=44; total time=   0.0s\n",
      "[CV] END bootstrap=False, max_depth=150, max_features=sqrt, min_samples_leaf=1, min_samples_split=10, n_estimators=78; total time=   0.1s\n",
      "[CV] END bootstrap=True, max_depth=85, max_features=sqrt, min_samples_leaf=1, min_samples_split=3, n_estimators=26; total time=   0.1s\n",
      "[CV] END bootstrap=False, max_depth=150, max_features=sqrt, min_samples_leaf=1, min_samples_split=7, n_estimators=12; total time=   0.0s\n",
      "[CV] END bootstrap=True, max_depth=None, max_features=sqrt, min_samples_leaf=2, min_samples_split=2, n_estimators=33; total time=   0.0s\n",
      "[CV] END bootstrap=True, max_depth=None, max_features=sqrt, min_samples_leaf=2, min_samples_split=2, n_estimators=33; total time=   0.1s\n",
      "[CV] END bootstrap=True, max_depth=20, max_features=sqrt, min_samples_leaf=2, min_samples_split=4, n_estimators=59; total time=   0.1s\n",
      "[CV] END bootstrap=True, max_depth=20, max_features=sqrt, min_samples_leaf=2, min_samples_split=4, n_estimators=59; total time=   0.1s\n",
      "[CV] END bootstrap=True, max_depth=85, max_features=sqrt, min_samples_leaf=2, min_samples_split=10, n_estimators=11; total time=   0.0s\n",
      "[CV] END bootstrap=True, max_depth=85, max_features=sqrt, min_samples_leaf=2, min_samples_split=10, n_estimators=11; total time=   0.0s\n",
      "[CV] END bootstrap=True, max_depth=85, max_features=sqrt, min_samples_leaf=4, min_samples_split=10, n_estimators=40; total time=   0.1s\n",
      "[CV] END bootstrap=False, max_depth=85, max_features=sqrt, min_samples_leaf=1, min_samples_split=5, n_estimators=28; total time=   0.0s\n",
      "[CV] END bootstrap=False, max_depth=117, max_features=sqrt, min_samples_leaf=1, min_samples_split=5, n_estimators=69; total time=   0.1s\n",
      "[CV] END bootstrap=False, max_depth=117, max_features=sqrt, min_samples_leaf=1, min_samples_split=5, n_estimators=69; total time=   0.1s\n",
      "[CV] END bootstrap=False, max_depth=85, max_features=sqrt, min_samples_leaf=3, min_samples_split=2, n_estimators=81; total time=   0.1s\n",
      "[CV] END bootstrap=False, max_depth=85, max_features=sqrt, min_samples_leaf=3, min_samples_split=2, n_estimators=81; total time=   0.1s\n",
      "[CV] END bootstrap=True, max_depth=52, max_features=sqrt, min_samples_leaf=2, min_samples_split=5, n_estimators=45; total time=   0.0s\n",
      "[CV] END bootstrap=False, max_depth=117, max_features=sqrt, min_samples_leaf=3, min_samples_split=10, n_estimators=82; total time=   0.1s\n",
      "[CV] END bootstrap=False, max_depth=117, max_features=sqrt, min_samples_leaf=3, min_samples_split=10, n_estimators=82; total time=   0.1s\n",
      "[CV] END bootstrap=False, max_depth=117, max_features=sqrt, min_samples_leaf=3, min_samples_split=10, n_estimators=82; total time=   0.1s\n",
      "[CV] END bootstrap=False, max_depth=150, max_features=sqrt, min_samples_leaf=1, min_samples_split=3, n_estimators=97; total time=   0.1s\n",
      "[CV] END bootstrap=False, max_depth=150, max_features=sqrt, min_samples_leaf=1, min_samples_split=3, n_estimators=97; total time=   0.1s\n",
      "[CV] END bootstrap=False, max_depth=150, max_features=sqrt, min_samples_leaf=1, min_samples_split=3, n_estimators=97; total time=   0.2s\n",
      "[CV] END bootstrap=False, max_depth=150, max_features=sqrt, min_samples_leaf=1, min_samples_split=3, n_estimators=97; total time=   0.1s\n",
      "[CV] END bootstrap=True, max_depth=117, max_features=sqrt, min_samples_leaf=4, min_samples_split=3, n_estimators=46; total time=   0.0s\n",
      "[CV] END bootstrap=False, max_depth=20, max_features=sqrt, min_samples_leaf=3, min_samples_split=10, n_estimators=61; total time=   0.1s\n",
      "[CV] END bootstrap=False, max_depth=20, max_features=sqrt, min_samples_leaf=3, min_samples_split=10, n_estimators=61; total time=   0.1s\n",
      "[CV] END bootstrap=False, max_depth=20, max_features=sqrt, min_samples_leaf=3, min_samples_split=10, n_estimators=61; total time=   0.1s\n",
      "[CV] END bootstrap=True, max_depth=20, max_features=sqrt, min_samples_leaf=2, min_samples_split=10, n_estimators=41; total time=   0.0s\n",
      "[CV] END bootstrap=True, max_depth=20, max_features=sqrt, min_samples_leaf=2, min_samples_split=10, n_estimators=41; total time=   0.0s\n",
      "[CV] END bootstrap=True, max_depth=20, max_features=sqrt, min_samples_leaf=2, min_samples_split=10, n_estimators=41; total time=   0.0s\n",
      "[CV] END bootstrap=True, max_depth=20, max_features=sqrt, min_samples_leaf=2, min_samples_split=10, n_estimators=41; total time=   0.0s\n",
      "[CV] END bootstrap=False, max_depth=20, max_features=sqrt, min_samples_leaf=1, min_samples_split=10, n_estimators=17; total time=   0.0s\n",
      "[CV] END bootstrap=False, max_depth=20, max_features=sqrt, min_samples_leaf=1, min_samples_split=10, n_estimators=17; total time=   0.0s\n",
      "[CV] END bootstrap=False, max_depth=20, max_features=sqrt, min_samples_leaf=1, min_samples_split=10, n_estimators=17; total time=   0.0s\n",
      "[CV] END bootstrap=False, max_depth=117, max_features=sqrt, min_samples_leaf=2, min_samples_split=4, n_estimators=77; total time=   0.1s\n",
      "[CV] END bootstrap=True, max_depth=117, max_features=sqrt, min_samples_leaf=1, min_samples_split=7, n_estimators=43; total time=   0.0s\n",
      "[CV] END bootstrap=True, max_depth=117, max_features=sqrt, min_samples_leaf=1, min_samples_split=7, n_estimators=43; total time=   0.1s\n",
      "[CV] END bootstrap=True, max_depth=117, max_features=sqrt, min_samples_leaf=1, min_samples_split=7, n_estimators=43; total time=   0.0s\n",
      "[CV] END bootstrap=True, max_depth=117, max_features=sqrt, min_samples_leaf=1, min_samples_split=7, n_estimators=43; total time=   0.1s\n",
      "[CV] END bootstrap=False, max_depth=None, max_features=sqrt, min_samples_leaf=4, min_samples_split=10, n_estimators=31; total time=   0.0s\n",
      "[CV] END bootstrap=False, max_depth=None, max_features=sqrt, min_samples_leaf=4, min_samples_split=10, n_estimators=31; total time=   0.0s\n",
      "[CV] END bootstrap=False, max_depth=None, max_features=sqrt, min_samples_leaf=4, min_samples_split=10, n_estimators=31; total time=   0.0s\n",
      "[CV] END bootstrap=True, max_depth=20, max_features=sqrt, min_samples_leaf=2, min_samples_split=10, n_estimators=36; total time=   0.0s\n",
      "[CV] END bootstrap=False, max_depth=None, max_features=sqrt, min_samples_leaf=1, min_samples_split=10, n_estimators=76; total time=   0.1s\n",
      "[CV] END bootstrap=False, max_depth=None, max_features=sqrt, min_samples_leaf=1, min_samples_split=10, n_estimators=76; total time=   0.1s\n",
      "[CV] END bootstrap=False, max_depth=None, max_features=sqrt, min_samples_leaf=1, min_samples_split=10, n_estimators=76; total time=   0.1s\n",
      "[CV] END bootstrap=False, max_depth=150, max_features=sqrt, min_samples_leaf=4, min_samples_split=2, n_estimators=37; total time=   0.0s\n",
      "[CV] END bootstrap=False, max_depth=117, max_features=sqrt, min_samples_leaf=4, min_samples_split=4, n_estimators=41; total time=   0.0s\n",
      "[CV] END bootstrap=True, max_depth=None, max_features=sqrt, min_samples_leaf=3, min_samples_split=5, n_estimators=45; total time=   0.0s\n",
      "[CV] END bootstrap=False, max_depth=117, max_features=sqrt, min_samples_leaf=4, min_samples_split=4, n_estimators=13; total time=   0.0s\n",
      "[CV] END bootstrap=True, max_depth=85, max_features=sqrt, min_samples_leaf=4, min_samples_split=7, n_estimators=41; total time=   0.0s\n",
      "[CV] END bootstrap=False, max_depth=150, max_features=sqrt, min_samples_leaf=4, min_samples_split=7, n_estimators=84; total time=   0.1s\n",
      "[CV] END bootstrap=False, max_depth=52, max_features=sqrt, min_samples_leaf=2, min_samples_split=3, n_estimators=55; total time=   0.1s\n",
      "[CV] END bootstrap=True, max_depth=85, max_features=sqrt, min_samples_leaf=2, min_samples_split=10, n_estimators=90; total time=   0.1s\n",
      "[CV] END bootstrap=True, max_depth=85, max_features=sqrt, min_samples_leaf=2, min_samples_split=10, n_estimators=90; total time=   0.1s\n",
      "[CV] END bootstrap=False, max_depth=150, max_features=sqrt, min_samples_leaf=1, min_samples_split=10, n_estimators=78; total time=   0.1s\n",
      "[CV] END bootstrap=False, max_depth=150, max_features=sqrt, min_samples_leaf=1, min_samples_split=10, n_estimators=78; total time=   0.2s\n",
      "[CV] END bootstrap=False, max_depth=20, max_features=sqrt, min_samples_leaf=3, min_samples_split=7, n_estimators=33; total time=   0.0s\n",
      "[CV] END bootstrap=False, max_depth=20, max_features=sqrt, min_samples_leaf=3, min_samples_split=7, n_estimators=33; total time=   0.0s\n",
      "[CV] END bootstrap=True, max_depth=20, max_features=sqrt, min_samples_leaf=4, min_samples_split=2, n_estimators=75; total time=   0.1s\n",
      "[CV] END bootstrap=True, max_depth=20, max_features=sqrt, min_samples_leaf=2, min_samples_split=4, n_estimators=59; total time=   0.1s\n",
      "[CV] END bootstrap=True, max_depth=85, max_features=sqrt, min_samples_leaf=4, min_samples_split=10, n_estimators=40; total time=   0.0s\n",
      "[CV] END bootstrap=True, max_depth=85, max_features=sqrt, min_samples_leaf=4, min_samples_split=10, n_estimators=40; total time=   0.0s\n",
      "[CV] END bootstrap=False, max_depth=None, max_features=sqrt, min_samples_leaf=4, min_samples_split=5, n_estimators=18; total time=   0.0s\n",
      "[CV] END bootstrap=False, max_depth=None, max_features=sqrt, min_samples_leaf=4, min_samples_split=5, n_estimators=18; total time=   0.0s\n",
      "[CV] END bootstrap=False, max_depth=None, max_features=sqrt, min_samples_leaf=4, min_samples_split=5, n_estimators=18; total time=   0.0s\n",
      "[CV] END bootstrap=False, max_depth=None, max_features=sqrt, min_samples_leaf=4, min_samples_split=5, n_estimators=18; total time=   0.0s\n",
      "[CV] END bootstrap=False, max_depth=85, max_features=sqrt, min_samples_leaf=4, min_samples_split=2, n_estimators=52; total time=   0.0s\n",
      "[CV] END bootstrap=False, max_depth=85, max_features=sqrt, min_samples_leaf=4, min_samples_split=2, n_estimators=52; total time=   0.0s\n",
      "[CV] END bootstrap=False, max_depth=None, max_features=sqrt, min_samples_leaf=1, min_samples_split=10, n_estimators=33; total time=   0.0s\n",
      "[CV] END bootstrap=False, max_depth=None, max_features=sqrt, min_samples_leaf=1, min_samples_split=10, n_estimators=33; total time=   0.0s\n",
      "[CV] END bootstrap=False, max_depth=None, max_features=sqrt, min_samples_leaf=1, min_samples_split=10, n_estimators=33; total time=   0.0s\n",
      "[CV] END bootstrap=False, max_depth=None, max_features=sqrt, min_samples_leaf=1, min_samples_split=10, n_estimators=33; total time=   0.0s\n",
      "[CV] END bootstrap=True, max_depth=52, max_features=sqrt, min_samples_leaf=2, min_samples_split=2, n_estimators=57; total time=   0.1s\n",
      "[CV] END bootstrap=False, max_depth=None, max_features=sqrt, min_samples_leaf=4, min_samples_split=3, n_estimators=91; total time=   0.1s\n",
      "[CV] END bootstrap=False, max_depth=None, max_features=sqrt, min_samples_leaf=4, min_samples_split=3, n_estimators=91; total time=   0.1s\n",
      "[CV] END bootstrap=False, max_depth=None, max_features=sqrt, min_samples_leaf=4, min_samples_split=3, n_estimators=91; total time=   0.1s\n",
      "[CV] END bootstrap=True, max_depth=None, max_features=sqrt, min_samples_leaf=2, min_samples_split=2, n_estimators=64; total time=   0.0s\n",
      "[CV] END bootstrap=True, max_depth=None, max_features=sqrt, min_samples_leaf=2, min_samples_split=2, n_estimators=64; total time=   0.0s\n",
      "[CV] END bootstrap=True, max_depth=None, max_features=sqrt, min_samples_leaf=2, min_samples_split=2, n_estimators=64; total time=   0.1s\n",
      "[CV] END bootstrap=True, max_depth=52, max_features=sqrt, min_samples_leaf=3, min_samples_split=5, n_estimators=56; total time=   0.1s\n",
      "[CV] END bootstrap=True, max_depth=150, max_features=sqrt, min_samples_leaf=4, min_samples_split=7, n_estimators=17; total time=   0.0s\n",
      "[CV] END bootstrap=True, max_depth=150, max_features=sqrt, min_samples_leaf=1, min_samples_split=3, n_estimators=72; total time=   0.0s\n",
      "[CV] END bootstrap=True, max_depth=150, max_features=sqrt, min_samples_leaf=1, min_samples_split=3, n_estimators=72; total time=   0.1s\n",
      "[CV] END bootstrap=True, max_depth=150, max_features=sqrt, min_samples_leaf=1, min_samples_split=3, n_estimators=72; total time=   0.1s\n",
      "[CV] END bootstrap=True, max_depth=None, max_features=sqrt, min_samples_leaf=1, min_samples_split=4, n_estimators=46; total time=   0.0s\n",
      "[CV] END bootstrap=True, max_depth=None, max_features=sqrt, min_samples_leaf=1, min_samples_split=4, n_estimators=46; total time=   0.0s\n",
      "[CV] END bootstrap=True, max_depth=None, max_features=sqrt, min_samples_leaf=1, min_samples_split=4, n_estimators=46; total time=   0.0s\n",
      "[CV] END bootstrap=False, max_depth=None, max_features=sqrt, min_samples_leaf=1, min_samples_split=3, n_estimators=57; total time=   0.1s\n",
      "[CV] END bootstrap=False, max_depth=150, max_features=sqrt, min_samples_leaf=2, min_samples_split=10, n_estimators=39; total time=   0.0s\n",
      "[CV] END bootstrap=False, max_depth=150, max_features=sqrt, min_samples_leaf=2, min_samples_split=10, n_estimators=39; total time=   0.1s\n",
      "[CV] END bootstrap=False, max_depth=150, max_features=sqrt, min_samples_leaf=2, min_samples_split=10, n_estimators=39; total time=   0.0s\n",
      "[CV] END bootstrap=False, max_depth=150, max_features=sqrt, min_samples_leaf=1, min_samples_split=5, n_estimators=10; total time=   0.0s\n",
      "[CV] END bootstrap=False, max_depth=20, max_features=sqrt, min_samples_leaf=3, min_samples_split=10, n_estimators=61; total time=   0.0s\n",
      "[CV] END bootstrap=False, max_depth=20, max_features=sqrt, min_samples_leaf=3, min_samples_split=10, n_estimators=61; total time=   0.0s\n",
      "[CV] END bootstrap=True, max_depth=52, max_features=sqrt, min_samples_leaf=2, min_samples_split=10, n_estimators=12; total time=   0.0s\n",
      "[CV] END bootstrap=True, max_depth=52, max_features=sqrt, min_samples_leaf=2, min_samples_split=10, n_estimators=12; total time=   0.0s\n",
      "[CV] END bootstrap=True, max_depth=20, max_features=sqrt, min_samples_leaf=3, min_samples_split=10, n_estimators=65; total time=   0.1s\n",
      "[CV] END bootstrap=True, max_depth=20, max_features=sqrt, min_samples_leaf=3, min_samples_split=10, n_estimators=65; total time=   0.1s\n",
      "[CV] END bootstrap=True, max_depth=20, max_features=sqrt, min_samples_leaf=3, min_samples_split=10, n_estimators=65; total time=   0.1s\n",
      "[CV] END bootstrap=True, max_depth=20, max_features=sqrt, min_samples_leaf=3, min_samples_split=10, n_estimators=65; total time=   0.1s\n",
      "[CV] END bootstrap=True, max_depth=117, max_features=sqrt, min_samples_leaf=3, min_samples_split=7, n_estimators=79; total time=   0.1s\n",
      "[CV] END bootstrap=True, max_depth=117, max_features=sqrt, min_samples_leaf=3, min_samples_split=7, n_estimators=79; total time=   0.1s\n",
      "[CV] END bootstrap=True, max_depth=117, max_features=sqrt, min_samples_leaf=3, min_samples_split=7, n_estimators=79; total time=   0.2s\n",
      "[CV] END bootstrap=True, max_depth=117, max_features=sqrt, min_samples_leaf=3, min_samples_split=7, n_estimators=79; total time=   0.1s\n",
      "[CV] END bootstrap=False, max_depth=None, max_features=sqrt, min_samples_leaf=1, min_samples_split=10, n_estimators=53; total time=   0.1s\n",
      "[CV] END bootstrap=False, max_depth=150, max_features=sqrt, min_samples_leaf=3, min_samples_split=3, n_estimators=63; total time=   0.1s\n",
      "[CV] END bootstrap=False, max_depth=150, max_features=sqrt, min_samples_leaf=3, min_samples_split=3, n_estimators=63; total time=   0.1s\n",
      "[CV] END bootstrap=False, max_depth=150, max_features=sqrt, min_samples_leaf=3, min_samples_split=3, n_estimators=63; total time=   0.1s\n",
      "[CV] END bootstrap=True, max_depth=None, max_features=sqrt, min_samples_leaf=3, min_samples_split=5, n_estimators=45; total time=   0.0s\n",
      "[CV] END bootstrap=False, max_depth=117, max_features=sqrt, min_samples_leaf=4, min_samples_split=4, n_estimators=13; total time=   0.0s\n",
      "[CV] END bootstrap=False, max_depth=117, max_features=sqrt, min_samples_leaf=4, min_samples_split=4, n_estimators=13; total time=   0.0s\n",
      "[CV] END bootstrap=True, max_depth=85, max_features=sqrt, min_samples_leaf=4, min_samples_split=7, n_estimators=41; total time=   0.1s\n",
      "[CV] END bootstrap=False, max_depth=150, max_features=sqrt, min_samples_leaf=4, min_samples_split=7, n_estimators=84; total time=   0.1s\n",
      "[CV] END bootstrap=True, max_depth=20, max_features=sqrt, min_samples_leaf=2, min_samples_split=5, n_estimators=60; total time=   0.1s\n",
      "[CV] END bootstrap=True, max_depth=None, max_features=sqrt, min_samples_leaf=3, min_samples_split=2, n_estimators=94; total time=   0.1s\n",
      "[CV] END bootstrap=True, max_depth=None, max_features=sqrt, min_samples_leaf=3, min_samples_split=2, n_estimators=94; total time=   0.1s\n",
      "[CV] END bootstrap=False, max_depth=52, max_features=sqrt, min_samples_leaf=4, min_samples_split=3, n_estimators=30; total time=   0.0s\n",
      "[CV] END bootstrap=False, max_depth=52, max_features=sqrt, min_samples_leaf=4, min_samples_split=3, n_estimators=30; total time=   0.0s\n",
      "[CV] END bootstrap=False, max_depth=150, max_features=sqrt, min_samples_leaf=1, min_samples_split=7, n_estimators=12; total time=   0.1s\n",
      "[CV] END bootstrap=False, max_depth=150, max_features=sqrt, min_samples_leaf=1, min_samples_split=7, n_estimators=12; total time=   0.1s\n",
      "[CV] END bootstrap=False, max_depth=20, max_features=sqrt, min_samples_leaf=3, min_samples_split=7, n_estimators=33; total time=   0.0s\n",
      "[CV] END bootstrap=True, max_depth=None, max_features=sqrt, min_samples_leaf=2, min_samples_split=2, n_estimators=33; total time=   0.0s\n",
      "[CV] END bootstrap=True, max_depth=20, max_features=sqrt, min_samples_leaf=2, min_samples_split=4, n_estimators=59; total time=   0.1s\n",
      "[CV] END bootstrap=True, max_depth=20, max_features=sqrt, min_samples_leaf=2, min_samples_split=4, n_estimators=59; total time=   0.1s\n",
      "[CV] END bootstrap=True, max_depth=85, max_features=sqrt, min_samples_leaf=4, min_samples_split=10, n_estimators=40; total time=   0.0s\n",
      "[CV] END bootstrap=True, max_depth=85, max_features=sqrt, min_samples_leaf=4, min_samples_split=10, n_estimators=40; total time=   0.0s\n",
      "[CV] END bootstrap=False, max_depth=117, max_features=sqrt, min_samples_leaf=1, min_samples_split=5, n_estimators=69; total time=   0.1s\n",
      "[CV] END bootstrap=False, max_depth=117, max_features=sqrt, min_samples_leaf=1, min_samples_split=5, n_estimators=69; total time=   0.1s\n",
      "[CV] END bootstrap=True, max_depth=85, max_features=sqrt, min_samples_leaf=4, min_samples_split=10, n_estimators=16; total time=   0.0s\n",
      "[CV] END bootstrap=True, max_depth=85, max_features=sqrt, min_samples_leaf=4, min_samples_split=10, n_estimators=16; total time=   0.0s\n",
      "[CV] END bootstrap=True, max_depth=20, max_features=sqrt, min_samples_leaf=1, min_samples_split=4, n_estimators=19; total time=   0.0s\n",
      "[CV] END bootstrap=True, max_depth=20, max_features=sqrt, min_samples_leaf=1, min_samples_split=4, n_estimators=19; total time=   0.0s\n",
      "[CV] END bootstrap=True, max_depth=20, max_features=sqrt, min_samples_leaf=1, min_samples_split=4, n_estimators=19; total time=   0.0s\n",
      "[CV] END bootstrap=False, max_depth=85, max_features=sqrt, min_samples_leaf=4, min_samples_split=4, n_estimators=48; total time=   0.0s\n",
      "[CV] END bootstrap=False, max_depth=117, max_features=sqrt, min_samples_leaf=3, min_samples_split=10, n_estimators=82; total time=   0.1s\n",
      "[CV] END bootstrap=False, max_depth=117, max_features=sqrt, min_samples_leaf=3, min_samples_split=10, n_estimators=82; total time=   0.1s\n",
      "[CV] END bootstrap=True, max_depth=20, max_features=sqrt, min_samples_leaf=4, min_samples_split=5, n_estimators=19; total time=   0.0s\n",
      "[CV] END bootstrap=True, max_depth=20, max_features=sqrt, min_samples_leaf=4, min_samples_split=5, n_estimators=19; total time=   0.0s\n",
      "[CV] END bootstrap=True, max_depth=150, max_features=sqrt, min_samples_leaf=4, min_samples_split=7, n_estimators=17; total time=   0.0s\n",
      "[CV] END bootstrap=True, max_depth=150, max_features=sqrt, min_samples_leaf=4, min_samples_split=7, n_estimators=17; total time=   0.0s\n",
      "[CV] END bootstrap=True, max_depth=150, max_features=sqrt, min_samples_leaf=4, min_samples_split=7, n_estimators=17; total time=   0.0s\n",
      "[CV] END bootstrap=True, max_depth=150, max_features=sqrt, min_samples_leaf=4, min_samples_split=7, n_estimators=17; total time=   0.0s\n",
      "[CV] END bootstrap=True, max_depth=150, max_features=sqrt, min_samples_leaf=4, min_samples_split=7, n_estimators=17; total time=   0.0s\n",
      "[CV] END bootstrap=True, max_depth=150, max_features=sqrt, min_samples_leaf=1, min_samples_split=3, n_estimators=72; total time=   0.1s\n",
      "[CV] END bootstrap=True, max_depth=150, max_features=sqrt, min_samples_leaf=1, min_samples_split=3, n_estimators=72; total time=   0.1s\n",
      "[CV] END bootstrap=True, max_depth=150, max_features=sqrt, min_samples_leaf=1, min_samples_split=3, n_estimators=72; total time=   0.1s\n",
      "[CV] END bootstrap=True, max_depth=None, max_features=sqrt, min_samples_leaf=1, min_samples_split=4, n_estimators=46; total time=   0.0s\n",
      "[CV] END bootstrap=True, max_depth=None, max_features=sqrt, min_samples_leaf=1, min_samples_split=4, n_estimators=46; total time=   0.0s\n",
      "[CV] END bootstrap=True, max_depth=None, max_features=sqrt, min_samples_leaf=1, min_samples_split=4, n_estimators=46; total time=   0.0s\n",
      "[CV] END bootstrap=False, max_depth=None, max_features=sqrt, min_samples_leaf=1, min_samples_split=3, n_estimators=57; total time=   0.1s\n",
      "[CV] END bootstrap=False, max_depth=None, max_features=sqrt, min_samples_leaf=1, min_samples_split=3, n_estimators=57; total time=   0.0s\n",
      "[CV] END bootstrap=False, max_depth=None, max_features=sqrt, min_samples_leaf=1, min_samples_split=3, n_estimators=57; total time=   0.0s\n",
      "[CV] END bootstrap=False, max_depth=None, max_features=sqrt, min_samples_leaf=1, min_samples_split=3, n_estimators=57; total time=   0.1s\n",
      "[CV] END bootstrap=False, max_depth=None, max_features=sqrt, min_samples_leaf=1, min_samples_split=3, n_estimators=57; total time=   0.0s\n",
      "[CV] END bootstrap=True, max_depth=20, max_features=sqrt, min_samples_leaf=3, min_samples_split=10, n_estimators=65; total time=   0.1s\n",
      "[CV] END bootstrap=True, max_depth=20, max_features=sqrt, min_samples_leaf=3, min_samples_split=10, n_estimators=65; total time=   0.0s\n",
      "[CV] END bootstrap=True, max_depth=20, max_features=sqrt, min_samples_leaf=3, min_samples_split=10, n_estimators=65; total time=   0.0s\n",
      "[CV] END bootstrap=True, max_depth=20, max_features=sqrt, min_samples_leaf=3, min_samples_split=10, n_estimators=65; total time=   0.0s\n",
      "[CV] END bootstrap=True, max_depth=52, max_features=sqrt, min_samples_leaf=4, min_samples_split=3, n_estimators=83; total time=   0.1s\n",
      "[CV] END bootstrap=True, max_depth=52, max_features=sqrt, min_samples_leaf=4, min_samples_split=3, n_estimators=83; total time=   0.1s\n",
      "[CV] END bootstrap=True, max_depth=52, max_features=sqrt, min_samples_leaf=4, min_samples_split=3, n_estimators=83; total time=   0.1s\n",
      "[CV] END bootstrap=True, max_depth=52, max_features=sqrt, min_samples_leaf=4, min_samples_split=3, n_estimators=83; total time=   0.1s\n",
      "[CV] END bootstrap=True, max_depth=20, max_features=sqrt, min_samples_leaf=2, min_samples_split=10, n_estimators=15; total time=   0.0s\n",
      "[CV] END bootstrap=True, max_depth=20, max_features=sqrt, min_samples_leaf=2, min_samples_split=10, n_estimators=15; total time=   0.0s\n",
      "[CV] END bootstrap=True, max_depth=20, max_features=sqrt, min_samples_leaf=2, min_samples_split=10, n_estimators=15; total time=   0.0s\n",
      "[CV] END bootstrap=True, max_depth=20, max_features=sqrt, min_samples_leaf=2, min_samples_split=10, n_estimators=15; total time=   0.0s\n",
      "[CV] END bootstrap=True, max_depth=None, max_features=sqrt, min_samples_leaf=2, min_samples_split=4, n_estimators=24; total time=   0.0s\n",
      "[CV] END bootstrap=True, max_depth=None, max_features=sqrt, min_samples_leaf=2, min_samples_split=4, n_estimators=24; total time=   0.0s\n",
      "[CV] END bootstrap=True, max_depth=None, max_features=sqrt, min_samples_leaf=2, min_samples_split=4, n_estimators=24; total time=   0.0s\n",
      "[CV] END bootstrap=True, max_depth=None, max_features=sqrt, min_samples_leaf=2, min_samples_split=4, n_estimators=24; total time=   0.0s\n",
      "[CV] END bootstrap=False, max_depth=150, max_features=sqrt, min_samples_leaf=3, min_samples_split=3, n_estimators=63; total time=   0.3s\n",
      "[CV] END bootstrap=False, max_depth=None, max_features=sqrt, min_samples_leaf=1, min_samples_split=10, n_estimators=76; total time=   0.1s\n",
      "[CV] END bootstrap=False, max_depth=150, max_features=sqrt, min_samples_leaf=4, min_samples_split=2, n_estimators=37; total time=   0.0s\n",
      "[CV] END bootstrap=False, max_depth=150, max_features=sqrt, min_samples_leaf=4, min_samples_split=2, n_estimators=37; total time=   0.0s\n",
      "[CV] END bootstrap=False, max_depth=None, max_features=sqrt, min_samples_leaf=2, min_samples_split=2, n_estimators=10; total time=   0.0s\n",
      "[CV] END bootstrap=False, max_depth=None, max_features=sqrt, min_samples_leaf=2, min_samples_split=2, n_estimators=10; total time=   0.0s\n",
      "[CV] END bootstrap=True, max_depth=117, max_features=sqrt, min_samples_leaf=4, min_samples_split=7, n_estimators=79; total time=   0.1s\n",
      "[CV] END bootstrap=False, max_depth=52, max_features=sqrt, min_samples_leaf=4, min_samples_split=10, n_estimators=82; total time=   0.2s\n",
      "[CV] END bootstrap=False, max_depth=117, max_features=sqrt, min_samples_leaf=4, min_samples_split=4, n_estimators=41; total time=   0.0s\n",
      "[CV] END bootstrap=True, max_depth=None, max_features=sqrt, min_samples_leaf=3, min_samples_split=5, n_estimators=45; total time=   0.0s\n",
      "[CV] END bootstrap=True, max_depth=85, max_features=sqrt, min_samples_leaf=4, min_samples_split=7, n_estimators=41; total time=   0.0s\n",
      "[CV] END bootstrap=False, max_depth=150, max_features=sqrt, min_samples_leaf=4, min_samples_split=7, n_estimators=84; total time=   0.1s\n",
      "[CV] END bootstrap=False, max_depth=52, max_features=sqrt, min_samples_leaf=2, min_samples_split=3, n_estimators=55; total time=   0.1s\n",
      "[CV] END bootstrap=True, max_depth=85, max_features=sqrt, min_samples_leaf=2, min_samples_split=10, n_estimators=90; total time=   0.1s\n",
      "[CV] END bootstrap=True, max_depth=85, max_features=sqrt, min_samples_leaf=2, min_samples_split=10, n_estimators=90; total time=   0.1s\n",
      "[CV] END bootstrap=True, max_depth=85, max_features=sqrt, min_samples_leaf=4, min_samples_split=5, n_estimators=65; total time=   0.1s\n",
      "[CV] END bootstrap=True, max_depth=85, max_features=sqrt, min_samples_leaf=4, min_samples_split=5, n_estimators=65; total time=   0.1s\n",
      "[CV] END bootstrap=False, max_depth=52, max_features=sqrt, min_samples_leaf=2, min_samples_split=7, n_estimators=13; total time=   0.0s\n",
      "[CV] END bootstrap=False, max_depth=52, max_features=sqrt, min_samples_leaf=2, min_samples_split=7, n_estimators=13; total time=   0.0s\n",
      "RandomForestClassifier(bootstrap=False, max_depth=52, min_samples_leaf=2,\n",
      "                       min_samples_split=7, n_estimators=13, random_state=0)\n",
      "Accuracy: 0.9120879120879121\n",
      "Recall: 0.9411764705882353\n",
      "Precision: 0.8421052631578947\n",
      "Accuracy: 0.9473684210526315\n",
      "Recall: 0.8809523809523809\n",
      "Precision: 0.9736842105263158\n"
     ]
    }
   ],
   "source": [
    "rf_random = RandomizedSearchCV(estimator = rfc, param_distributions = random_grid, n_iter = 100, cv = 5, verbose=2, random_state=42, n_jobs = -1)\n",
    "rf_random.fit(x_train, y_train)\n",
    "rfc = rf_random.best_estimator_\n",
    "#validation set\n",
    "y_pred = rfc.predict(x_val)\n",
    "print(rf_random.best_estimator_)\n",
    "print(f'Accuracy: {accuracy_score(y_val, y_pred)}')\n",
    "print(f'Recall: {recall_score(y_val, y_pred)}')\n",
    "print(f'Precision: {precision_score(y_val, y_pred)}')\n",
    "#actual test set\n",
    "y_real_pred = rfc.predict(x_test)\n",
    "print(f'Accuracy: {accuracy_score(y_test, y_real_pred)}')\n",
    "print(f'Recall: {recall_score(y_test, y_real_pred)}')\n",
    "print(f'Precision: {precision_score(y_test, y_real_pred)}')"
   ],
   "metadata": {
    "collapsed": false
   }
  },
  {
   "cell_type": "markdown",
   "source": [
    "We will reduce the number of n_estimators (the number of trees in the forest) , as increasing them while reducing overfitting would increase our precision at the cost of our recall. Min_samples_leaf cannot be too small, as this will increase overfitting."
   ],
   "metadata": {
    "collapsed": false
   }
  },
  {
   "cell_type": "markdown",
   "source": [
    "# Test for over/ underfitting"
   ],
   "metadata": {
    "collapsed": false
   }
  },
  {
   "cell_type": "code",
   "execution_count": 113,
   "outputs": [
    {
     "data": {
      "text/plain": "<Figure size 1000x500 with 2 Axes>",
      "image/png": "[encoded data removed]"
     },
     "metadata": {},
     "output_type": "display_data"
    }
   ],
   "source": [
    "train_sizes_abs_accuracy, train_accuracy, test_accuracy = learning_curve(estimator=rfc, X=x_train, y=y_train, scoring='accuracy', cv=5)\n",
    "\n",
    "train_sizes_abs_error, train_error, test_error = learning_curve(estimator=rfc, X=x_train, y=y_train, scoring='recall', cv=5)\n",
    "\n",
    "fig, ax = plt.subplots(1, 2, figsize=(10, 5))\n",
    "train_avg_accuracy, test_avg_accuracy, train_avg_error, test_avg_error = [], [], [], []\n",
    "\n",
    "for i in range(len(train_sizes_abs_accuracy)):\n",
    "    train_avg_accuracy.append(np.average(train_accuracy[i]))\n",
    "    test_avg_accuracy.append(np.average(test_accuracy[i]))\n",
    "\n",
    "for i in range(len(train_sizes_abs_error)):\n",
    "    train_avg_error.append(np.average(train_error[i]))\n",
    "    test_avg_error.append(np.average(test_error[i]))\n",
    "\n",
    "# Accuracy learning curve\n",
    "ax[0].plot(train_sizes_abs_accuracy, train_avg_accuracy)\n",
    "ax[0].plot(train_sizes_abs_accuracy, test_avg_accuracy)\n",
    "ax[0].legend(['Train', 'Test'])\n",
    "ax[0].set_ylabel('Accuracy')\n",
    "ax[0].set_xlabel('Num. samples')\n",
    "\n",
    "# Error learning curve\n",
    "ax[1].plot(train_sizes_abs_error, train_avg_error)\n",
    "ax[1].plot(train_sizes_abs_error, test_avg_error)\n",
    "ax[1].legend(['Train', 'Test'])\n",
    "ax[1].set_xlabel('Num. of training samples')\n",
    "ax[1].set_ylabel('Recall')\n",
    "plt.show()"
   ],
   "metadata": {
    "collapsed": false
   }
  },
  {
   "cell_type": "markdown",
   "source": [
    "##### before was\n",
    "100% accuracy and not changing with the number of samples is clearly overfitting, so we will manually remove the least significant variables we calculated to simplify our model - so that we can make up for our lack of instances. When writing up this report, we can do these graphs twice - once with many variable and second with few. We get a higher recall, even though we get a lower precision and accuracy when we use less variables. #When writing up explain why each one"
   ],
   "metadata": {
    "collapsed": false
   }
  },
  {
   "cell_type": "code",
   "execution_count": 114,
   "outputs": [
    {
     "data": {
      "text/plain": "<Figure size 640x480 with 1 Axes>",
      "image/png": "[encoded data removed]"
     },
     "metadata": {},
     "output_type": "display_data"
    }
   ],
   "source": [
    "# After hyperparameter tuning* and feature selection*\n",
    "y_real_pred = rfc.predict(x_test)\n",
    "auc = roc_auc_score(y_test, y_real_pred)\n",
    "\n",
    "y_pred_prob = rfc.predict_proba(x_test)\n",
    "\n",
    "fpr, tpr, thresholds = roc_curve(y_test, y_pred_prob[:, 1])\n",
    "plt.plot(fpr, tpr)\n",
    "plt.title('ROC curve')\n",
    "plt.xlabel('False positive rate')\n",
    "plt.ylabel('True Positive Rate')\n",
    "plt.show()\n"
   ],
   "metadata": {
    "collapsed": false
   }
  },
  {
   "cell_type": "markdown",
   "source": [
    "We want to minimise false positives..\n",
    "\n",
    "How does this graph help us? IG I could manually calculate (using the graph) the precesion, accuracy and  recall stats to determine which point is best."
   ],
   "metadata": {
    "collapsed": false
   }
  }
 ],
 "metadata": {
  "kernelspec": {
   "display_name": "Python 3",
   "language": "python",
   "name": "python3"
  },
  "language_info": {
   "codemirror_mode": {
    "name": "ipython",
    "version": 2
   },
   "file_extension": ".py",
   "mimetype": "text/x-python",
   "name": "python",
   "nbconvert_exporter": "python",
   "pygments_lexer": "ipython2",
   "version": "2.7.6"
  }
 },
 "nbformat": 4,
 "nbformat_minor": 0
}
