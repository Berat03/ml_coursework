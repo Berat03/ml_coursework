{
 "cells": [
  {
   "cell_type": "code",
   "execution_count": 18,
   "outputs": [],
   "source": [
    "import pandas as pd\n",
    "import matplotlib.pyplot as plt\n",
    "from sklearn.preprocessing import LabelEncoder\n",
    "from sklearn.feature_selection import RFECV\n",
    "from sklearn.model_selection import train_test_split, learning_curve\n",
    "from sklearn.ensemble import RandomForestClassifier\n",
    "from sklearn.metrics import confusion_matrix, precision_score, recall_score, accuracy_score, classification_report, roc_curve\n",
    "from sklearn.model_selection import RandomizedSearchCV\n",
    "\n",
    "import numpy as np\n",
    "from sklearn.metrics import roc_auc_score\n",
    "import warnings\n",
    "from sklearn.dummy import DummyClassifier\n",
    "warnings.filterwarnings(\"ignore\")"
   ],
   "metadata": {
    "collapsed": false
   }
  },
  {
   "cell_type": "markdown",
   "source": [
    "## 1 Get data & split into train/test/validation sets"
   ],
   "metadata": {
    "collapsed": false
   }
  },
  {
   "cell_type": "code",
   "execution_count": 19,
   "outputs": [],
   "source": [
    "df = pd.read_csv('./Data Exploration/wdbc.csv')\n",
    "df = df.drop([\"Area\", \"AreaSE\", \"AreaWorst\",\"Perimeter\", \"PerimeterSE\", \"PerimeterWorst\"], axis = 1)\n",
    "encoder = LabelEncoder().fit(df[\"B/M\"])\n",
    "df['B/M'] = encoder.transform(df[\"B/M\"])\n",
    "not_data = [\"ID\", \"B/M\"]\n",
    "label = df[\"B/M\"]\n",
    "feature = df.drop(not_data, axis = 1)\n",
    "data = pd.concat([label, feature], axis=1)"
   ],
   "metadata": {
    "collapsed": false
   }
  },
  {
   "cell_type": "markdown",
   "source": [
    "##  1.1 Split into train / validation / test sets"
   ],
   "metadata": {
    "collapsed": false
   }
  },
  {
   "cell_type": "code",
   "execution_count": 20,
   "outputs": [],
   "source": [
    "x_train, x_test, y_train, y_test = train_test_split(feature, label, test_size=0.25, stratify=label, random_state=12)\n",
    "x_train, x_val, y_train, y_val = train_test_split(x_train, y_train, test_size=0.25, stratify=y_train, random_state = 12)"
   ],
   "metadata": {
    "collapsed": false
   }
  },
  {
   "cell_type": "markdown",
   "source": [
    "## 2 Create & Train Initial Model\n",
    "\n",
    "Our initial model that we train, before hyperparameter tuning. We want a higher Recall, as it accounts for false negatives - and gives us a lower proportion of them, which we desire. We get a very high accuracy and recall and precision - which makes me suspect of overfitting, especially because we have such a small sample size respective to the number of features."
   ],
   "metadata": {
    "collapsed": false
   }
  },
  {
   "cell_type": "code",
   "execution_count": 21,
   "outputs": [
    {
     "name": "stdout",
     "output_type": "stream",
     "text": [
      "Validation\n",
      "              precision    recall  f1-score   support\n",
      "\n",
      "           0       0.97      0.99      0.98        67\n",
      "           1       0.97      0.95      0.96        40\n",
      "\n",
      "    accuracy                           0.97       107\n",
      "   macro avg       0.97      0.97      0.97       107\n",
      "weighted avg       0.97      0.97      0.97       107\n",
      "\n",
      "[[66  1]\n",
      " [ 2 38]]\n",
      "Accuracy: 0.9719626168224299\n",
      "Recall: 0.95\n",
      "Precision: 0.9743589743589743\n"
     ]
    }
   ],
   "source": [
    "def bench_marks(y_test, y_pred):\n",
    "    print(classification_report(y_test, y_pred))\n",
    "    print(confusion_matrix(y_test, y_pred))\n",
    "    print(f'Accuracy: {accuracy_score(y_test, y_pred)}')\n",
    "    print(f'Recall: {recall_score(y_test, y_pred)}')\n",
    "    print(f'Precision: {precision_score(y_test, y_pred)}')\n",
    "\n",
    "rfc_og = RandomForestClassifier(n_estimators=100, oob_score=True, bootstrap=True, random_state=12)\n",
    "rfc_og.fit(x_train, y_train)\n",
    "\n",
    "\n",
    "print(\"Validation\")\n",
    "y_pred = rfc_og.predict(x_val)\n",
    "bench_marks(y_val, y_pred)\n"
   ],
   "metadata": {
    "collapsed": false
   }
  },
  {
   "cell_type": "markdown",
   "source": [
    "## 3 Feature Selection\n",
    "Determine importance of each feature, and use recursive feature elimination to determine how many of our features to keep. Then adjust our feature set."
   ],
   "metadata": {
    "collapsed": false
   }
  },
  {
   "cell_type": "code",
   "execution_count": 22,
   "outputs": [
    {
     "name": "stdout",
     "output_type": "stream",
     "text": [
      "ConcavePointsWorst       0.207396\n",
      "RadiusWorst              0.152322\n",
      "ConcavePoints            0.142657\n",
      "Concavity                0.113919\n",
      "ConcavityWorst           0.077798\n",
      "Radius                   0.061077\n",
      "Compactness              0.037406\n",
      "CompactnessWorst         0.035937\n",
      "RadiusSE                 0.028071\n",
      "TextureWorst             0.017904\n",
      "Texture                  0.017431\n",
      "ConcavitySE              0.016186\n",
      "ConcavePointsSE          0.013993\n",
      "SymmetryWorst            0.010617\n",
      "SmoothnessWorst          0.010396\n",
      "FractalDimensionWorst    0.009966\n",
      "FractalDimension         0.008799\n",
      "TextureSE                0.008628\n",
      "Smoothness               0.007033\n",
      "FractalDimensionSE       0.006331\n",
      "CompactnessSE            0.005240\n",
      "SymmetrySE               0.004547\n",
      "SmoothnessSE             0.003914\n",
      "Symmetry                 0.002433\n",
      "dtype: float64\n"
     ]
    }
   ],
   "source": [
    "feature_scores = pd.Series(rfc_og.feature_importances_, index=x_train.columns).sort_values(ascending=False)\n",
    "print(feature_scores)\n",
    "feature_scores = feature_scores.index.tolist()"
   ],
   "metadata": {
    "collapsed": false
   }
  },
  {
   "cell_type": "markdown",
   "source": [
    "To get a better of idea of how removing feature affects our result, we plot the graph of our OOB error against the number of features, which we remove accordingly to the previously established series of importance, in order. Done to both val and whole, maybe its okay tot est against whole set as OOB CV have something going on."
   ],
   "metadata": {
    "collapsed": false
   }
  },
  {
   "cell_type": "code",
   "execution_count": 43,
   "outputs": [
    {
     "data": {
      "text/plain": "<Figure size 640x480 with 1 Axes>",
      "image/png": "[encoded data removed]"
     },
     "metadata": {},
     "output_type": "display_data"
    }
   ],
   "source": [
    "idx = []\n",
    "error_rate = []\n",
    "tempx = x_val\n",
    "f_rm = 0\n",
    "rfc_og = RandomForestClassifier(n_estimators=100, oob_score=True, bootstrap=True, random_state=3)\n",
    "\n",
    "for i in feature_scores:\n",
    "    rfc_og.fit(tempx, y_val)\n",
    "    oob_error = 1 - rfc_og.oob_score_\n",
    "    error_rate.append(oob_error)\n",
    "\n",
    "    f_rm += 1\n",
    "    idx.append(f_rm)\n",
    "\n",
    "    tempx = tempx.drop(i, axis = 1)\n",
    "    if len(tempx.columns) <= 1:\n",
    "        break\n",
    "plt.plot(idx, error_rate)\n",
    "plt.xlabel(\"Number of Feature\")\n",
    "plt.ylabel(\"OOB error rate\")\n",
    "plt.gca().invert_xaxis()\n",
    "plt.show()"
   ],
   "metadata": {
    "collapsed": false
   }
  },
  {
   "cell_type": "code",
   "execution_count": 44,
   "outputs": [
    {
     "data": {
      "text/plain": "<Figure size 640x480 with 1 Axes>",
      "image/png": "[encoded data removed]"
     },
     "metadata": {},
     "output_type": "display_data"
    }
   ],
   "source": [
    "idx = []\n",
    "error_rate = []\n",
    "tempx = feature\n",
    "\n",
    "f_rm = 0\n",
    "for i in feature_scores:\n",
    "    rfc_og.fit(tempx, label)\n",
    "    oob_error = 1 - rfc_og.oob_score_\n",
    "    error_rate.append(oob_error)\n",
    "\n",
    "    f_rm += 1\n",
    "    idx.append(f_rm)\n",
    "\n",
    "    tempx = tempx.drop(i, axis = 1)\n",
    "    if len(tempx.columns) <= 1:\n",
    "        break\n",
    "\n",
    "plt.plot(idx, error_rate)\n",
    "plt.xlabel(\"Number of Feature\")\n",
    "plt.ylabel(\"OOB error rate\")\n",
    "plt.gca().invert_xaxis()\n",
    "plt.show()"
   ],
   "metadata": {
    "collapsed": false
   }
  },
  {
   "cell_type": "code",
   "execution_count": 45,
   "outputs": [
    {
     "name": "stdout",
     "output_type": "stream",
     "text": [
      "Removed n features: 8\n",
      "Index(['Radius', 'Concavity', 'ConcavePoints', 'RadiusSE', 'RadiusWorst',\n",
      "       'TextureWorst', 'ConcavityWorst', 'ConcavePointsWorst'],\n",
      "      dtype='object')\n"
     ]
    }
   ],
   "source": [
    "# Feature Elimination\n",
    "rfecv = RFECV(estimator=rfc_og, step=1, cv=5,scoring='accuracy')\n",
    "rfecv = rfecv.fit(x_train, y_train)\n",
    "print(\"Removed n features:\", rfecv.n_features_)\n",
    "print(x_train.columns[rfecv.support_])\n",
    "feature_select = feature[x_train.columns[rfecv.support_]]\n",
    "# Redo sets as easier than dropping\n",
    "x_train, x_test, y_train, y_test = train_test_split(feature_select, label, test_size=0.25, stratify=label, random_state=3)\n",
    "x_train, x_val, y_train, y_val = train_test_split(x_train, y_train, test_size=0.25, stratify=y_train, random_state=3)"
   ],
   "metadata": {
    "collapsed": false
   }
  },
  {
   "cell_type": "code",
   "execution_count": 46,
   "outputs": [
    {
     "name": "stdout",
     "output_type": "stream",
     "text": [
      "              precision    recall  f1-score   support\n",
      "\n",
      "           0       0.96      0.99      0.97        67\n",
      "           1       0.97      0.93      0.95        40\n",
      "\n",
      "    accuracy                           0.96       107\n",
      "   macro avg       0.97      0.96      0.96       107\n",
      "weighted avg       0.96      0.96      0.96       107\n",
      "\n",
      "[[66  1]\n",
      " [ 3 37]]\n",
      "Accuracy: 0.9626168224299065\n",
      "Recall: 0.925\n",
      "Precision: 0.9736842105263158\n",
      "              precision    recall  f1-score   support\n",
      "\n",
      "           0       0.97      0.97      0.97        90\n",
      "           1       0.94      0.94      0.94        53\n",
      "\n",
      "    accuracy                           0.96       143\n",
      "   macro avg       0.96      0.96      0.96       143\n",
      "weighted avg       0.96      0.96      0.96       143\n",
      "\n",
      "[[87  3]\n",
      " [ 3 50]]\n",
      "Accuracy: 0.958041958041958\n",
      "Recall: 0.9433962264150944\n",
      "Precision: 0.9433962264150944\n"
     ]
    }
   ],
   "source": [
    "rfc_og.fit(x_train, y_train)\n",
    "\n",
    "y_pred = rfc_og.predict(x_val)\n",
    "bench_marks(y_val, y_pred)\n",
    "\n",
    "y_pred_real = rfc_og.predict(x_test)\n",
    "bench_marks(y_test, y_pred_real)"
   ],
   "metadata": {
    "collapsed": false
   }
  },
  {
   "cell_type": "markdown",
   "source": [
    "## 4 Hyperparameter Tuning\n",
    "\n",
    "We will use a random grib with a randomized search to try different iterations of the trees and brute force our way to a optimal solution. We will repeat the code below, adjusting the parameters each iteration. Iterate by running this code while changing values in first box."
   ],
   "metadata": {
    "collapsed": false
   }
  },
  {
   "cell_type": "code",
   "execution_count": 47,
   "outputs": [],
   "source": [
    "n_estimators = [200] #Usually more is better and reduce overfitting, but higher computational cost and diminishing returns after ~128\n",
    "max_depth = [5, 6, 7,8, 9, 10, 11, 12,13, 14, 15, 16, 17] # Increase leads to increase in variance and decrease in bias\n",
    "max_features = [\"sqrt\", \"log2\", None]\n",
    "min_samples_split = [2, 3, 4, 5, 6, 7, 8, 9, 10]\n",
    "min_samples_leaf = [1, 2, 3, 4, 5, 7]#Increase leads to increase in bias and decrease in variance\n",
    "#bootstrap = [True, False] always true for oob\n",
    "criterion=['gini', 'entropy']\n",
    "\n",
    "random_grid = {'n_estimators': n_estimators,\n",
    "               'max_features': max_features,\n",
    "               'max_depth': max_depth,\n",
    "               'min_samples_split': min_samples_split,\n",
    "               'min_samples_leaf': min_samples_leaf,\n",
    "               #'bootstrap': bootstrap,\n",
    "               'criterion': criterion}"
   ],
   "metadata": {
    "collapsed": false
   }
  },
  {
   "cell_type": "code",
   "execution_count": 48,
   "outputs": [
    {
     "name": "stdout",
     "output_type": "stream",
     "text": [
      "Fitting 3 folds for each of 200 candidates, totalling 600 fits\n",
      "RandomForestClassifier(max_depth=7, max_features=None, min_samples_leaf=3,\n",
      "                       min_samples_split=10, n_estimators=200, oob_score=True,\n",
      "                       random_state=3)\n",
      "Accuracy: 0.9626168224299065\n",
      "Recall: 0.925\n",
      "Precision: 0.9736842105263158\n",
      "\n",
      "\n",
      "For actual test set we get:\n",
      "Accuracy: 0.951048951048951\n",
      "Recall: 0.9433962264150944\n",
      "Precision: 0.9259259259259259\n"
     ]
    }
   ],
   "source": [
    "rf_random = RandomizedSearchCV(estimator = rfc_og, param_distributions = random_grid, n_iter = 200, cv = 3, verbose=2, n_jobs = -1, random_state=3)\n",
    "rf_random.fit(x_train, y_train)\n",
    "rfc_best = rf_random.best_estimator_\n",
    "\n",
    "#ressults with validation set\n",
    "y_pred = rfc_best.predict(x_val)\n",
    "print(rf_random.best_estimator_)\n",
    "print(f'Accuracy: {accuracy_score(y_val, y_pred)}')\n",
    "print(f'Recall: {recall_score(y_val, y_pred)}')\n",
    "print(f'Precision: {precision_score(y_val, y_pred)}')\n",
    "print(\"\\n\")\n",
    "\n",
    "#results with actual test set\n",
    "y_real_pred = rfc_best.predict(x_test)\n",
    "print(\"For actual test set we get:\")\n",
    "print(f'Accuracy: {accuracy_score(y_test, y_real_pred)}')\n",
    "print(f'Recall: {recall_score(y_test, y_real_pred)}')\n",
    "print(f'Precision: {precision_score(y_test, y_real_pred)}')\n",
    "\n"
   ],
   "metadata": {
    "collapsed": false
   }
  },
  {
   "cell_type": "markdown",
   "source": [],
   "metadata": {
    "collapsed": false
   }
  },
  {
   "cell_type": "code",
   "execution_count": null,
   "outputs": [],
   "source": [
    "idx = []\n",
    "idx2 = []\n",
    "\n",
    "error_rate = []\n",
    "error_rate_2 = []\n",
    "\n",
    "min_estimators = 10\n",
    "max_estimators = max(n_estimators)\n",
    "\n",
    "for i in range(min_estimators, max_estimators - 1, 1):\n",
    "    rfc_best.set_params(n_estimators=i)\n",
    "    rfc_best.fit(x_test, y_test)\n",
    "    oob_error = 1 - rfc_best.oob_score_\n",
    "    idx.append(i)\n",
    "    error_rate.append(oob_error)\n",
    "\n",
    "for i in range(min_estimators, max_estimators - 1, 1):\n",
    "    rfc_best.set_params(n_estimators=i)\n",
    "    rfc_best.fit(x_val, y_val)\n",
    "    oob_error = 1 - rfc_best.oob_score_\n",
    "    idx2.append(i)\n",
    "    error_rate_2.append(oob_error)\n",
    "\n",
    "\n",
    "plt.plot(idx, error_rate)\n",
    "\n",
    "plt.xlabel(\"n_estimators\")\n",
    "plt.ylabel(\"OOB error rate\")\n",
    "plt.show()\n",
    "\n",
    "plt.plot(idx2, error_rate_2,\"-r\")\n",
    "plt.xlabel(\"n_estimators\")\n",
    "plt.ylabel(\"OOB error rate\")\n",
    "plt.show()"
   ],
   "metadata": {
    "collapsed": false,
    "pycharm": {
     "is_executing": true
    }
   }
  },
  {
   "cell_type": "markdown",
   "source": [
    "## 5 Test for over/ under fitting"
   ],
   "metadata": {
    "collapsed": false
   }
  },
  {
   "cell_type": "markdown",
   "source": [
    "Secondly it does not make much sense to diagnose training explained accuracy for a random forest. Samples take the same paths through the trees when training and predicting, so of course a near perfect fit is obtained. That is why out-of-bag training accuracy/error is used.\n",
    "\n",
    "The cross-validated score increases a little because more samples both lowers bias(deeper trees + denser sampling from data structure) and lowers variance(decreased tree correlation + less sample error).\n",
    "\n",
    "https://stats.stackexchange.com/questions/192734/random-forest-learning-curve"
   ],
   "metadata": {
    "collapsed": false
   }
  },
  {
   "cell_type": "code",
   "execution_count": 50,
   "outputs": [
    {
     "data": {
      "text/plain": "<Figure size 1000x500 with 2 Axes>",
      "image/png": "[encoded data removed]"
     },
     "metadata": {},
     "output_type": "display_data"
    }
   ],
   "source": [
    "# DO NOT USE\n",
    "train_sizes_abs_accuracy, train_accuracy, test_accuracy = learning_curve(estimator=rfc_best, X=x_val, y=y_val, scoring='accuracy', cv=5, random_state=3)\n",
    "train_sizes_abs_error, train_error, test_error = learning_curve(estimator=rfc_best, X=x_val, y=y_val, scoring='recall', cv=5, random_state=3)\n",
    "train_avg_accuracy, test_avg_accuracy, train_avg_error, test_avg_error = [], [], [], []\n",
    "\n",
    "\n",
    "for i in range(len(train_sizes_abs_accuracy)):\n",
    "    train_avg_accuracy.append(np.average(train_accuracy[i]))\n",
    "    test_avg_accuracy.append(np.average(test_accuracy[i]))\n",
    "\n",
    "for i in range(len(train_sizes_abs_error)):\n",
    "    train_avg_error.append(np.average(train_error[i]))\n",
    "    test_avg_error.append(np.average(test_error[i]))\n",
    "\n",
    "fig, ax = plt.subplots(1, 2, figsize=(10, 5))\n",
    "\n",
    "# Accuracy learning curve\n",
    "ax[0].plot(train_sizes_abs_accuracy, train_avg_accuracy)\n",
    "ax[0].plot(train_sizes_abs_accuracy, test_avg_accuracy)\n",
    "ax[0].legend(['Train', 'Validation'])\n",
    "ax[0].set_ylabel('Accuracy')\n",
    "ax[0].set_xlabel('Num. samples')\n",
    "\n",
    "# Error learning curve\n",
    "ax[1].plot(train_sizes_abs_error, train_avg_error)\n",
    "ax[1].plot(train_sizes_abs_error, test_avg_error)\n",
    "ax[1].legend(['Train', 'Validation'])\n",
    "ax[1].set_xlabel('Num. of training samples')\n",
    "ax[1].set_ylabel('Recall')\n",
    "plt.show()"
   ],
   "metadata": {
    "collapsed": false
   }
  },
  {
   "cell_type": "markdown",
   "source": [],
   "metadata": {
    "collapsed": false
   }
  },
  {
   "cell_type": "markdown",
   "source": [
    "Could plot against test set, but best to do again validation as it shows us how our model changes.\n",
    "\n",
    "The learning curve changes a lot each time. This may be because there isn't much relationship between the variables and label, but we used cross validation to get rid of this issue - another reason may be because our dataset is too small. There is a fairly large gap between my train and validation sets, so I increased the train/test/validation split as I feel the graph could trend towards a more accurate union between the two sets."
   ],
   "metadata": {
    "collapsed": false
   }
  },
  {
   "cell_type": "code",
   "execution_count": 51,
   "outputs": [
    {
     "data": {
      "text/plain": "<Figure size 640x480 with 1 Axes>",
      "image/png": "[encoded data removed]"
     },
     "metadata": {},
     "output_type": "display_data"
    }
   ],
   "source": [
    "# After hyperparameter tuning* and feature selection*\n",
    "y_real_pred = rfc_best.predict(x_test)\n",
    "auc = roc_auc_score(y_test, y_real_pred)\n",
    "\n",
    "y_pred_prob = rfc_best.predict_proba(x_test)\n",
    "\n",
    "fpr, tpr, thresholds = roc_curve(y_test, y_pred_prob[:, 1])\n",
    "plt.plot(fpr, tpr)\n",
    "plt.title('ROC curve')\n",
    "plt.xlabel('False positive rate')\n",
    "plt.ylabel('True Positive Rate')\n",
    "plt.show()"
   ],
   "metadata": {
    "collapsed": false
   }
  },
  {
   "cell_type": "code",
   "execution_count": 52,
   "outputs": [
    {
     "name": "stdout",
     "output_type": "stream",
     "text": [
      "\n",
      "    TPR: 0.22641509433962265\n",
      "    FPR: 0.0\n",
      "    threshold: 1.0\n",
      "    threshold_idx: 1\n",
      "    \n",
      "\n",
      "    TPR: 0.3018867924528302\n",
      "    FPR: 0.0\n",
      "    threshold: 0.9932659932659934\n",
      "    threshold_idx: 2\n",
      "    \n",
      "\n",
      "    TPR: 0.3584905660377358\n",
      "    FPR: 0.0\n",
      "    threshold: 0.992087542087542\n",
      "    threshold_idx: 3\n",
      "    \n",
      "\n",
      "    TPR: 0.37735849056603776\n",
      "    FPR: 0.0\n",
      "    threshold: 0.9917508417508416\n",
      "    threshold_idx: 4\n",
      "    \n",
      "\n",
      "    TPR: 0.41509433962264153\n",
      "    FPR: 0.0\n",
      "    threshold: 0.9915704665704665\n",
      "    threshold_idx: 5\n",
      "    \n",
      "\n",
      "    TPR: 0.7735849056603774\n",
      "    FPR: 0.0\n",
      "    threshold: 0.8089956199804685\n",
      "    threshold_idx: 6\n",
      "    \n",
      "\n",
      "    TPR: 0.7735849056603774\n",
      "    FPR: 0.022222222222222223\n",
      "    threshold: 0.6989939073272406\n",
      "    threshold_idx: 7\n",
      "    \n",
      "\n",
      "    TPR: 0.8490566037735849\n",
      "    FPR: 0.022222222222222223\n",
      "    threshold: 0.6029942279942281\n",
      "    threshold_idx: 8\n",
      "    \n",
      "\n",
      "    TPR: 0.8490566037735849\n",
      "    FPR: 0.03333333333333333\n",
      "    threshold: 0.5852553310886646\n",
      "    threshold_idx: 9\n",
      "    \n",
      "\n",
      "    TPR: 0.8679245283018868\n",
      "    FPR: 0.03333333333333333\n",
      "    threshold: 0.5777417027417029\n",
      "    threshold_idx: 10\n",
      "    \n",
      "\n",
      "    TPR: 0.8679245283018868\n",
      "    FPR: 0.05555555555555555\n",
      "    threshold: 0.557057588875771\n",
      "    threshold_idx: 11\n",
      "    \n",
      "\n",
      "    TPR: 0.9433962264150944\n",
      "    FPR: 0.05555555555555555\n",
      "    threshold: 0.5059042809042811\n",
      "    threshold_idx: 12\n",
      "    \n",
      "\n",
      "    TPR: 0.9433962264150944\n",
      "    FPR: 0.06666666666666667\n",
      "    threshold: 0.48883477633477634\n",
      "    threshold_idx: 13\n",
      "    \n",
      "\n",
      "    TPR: 0.9811320754716981\n",
      "    FPR: 0.06666666666666667\n",
      "    threshold: 0.47235249318582656\n",
      "    threshold_idx: 14\n",
      "    \n",
      "\n",
      "    TPR: 0.9811320754716981\n",
      "    FPR: 0.08888888888888889\n",
      "    threshold: 0.4228160027402451\n",
      "    threshold_idx: 15\n",
      "    \n",
      "\n",
      "    TPR: 1.0\n",
      "    FPR: 0.08888888888888889\n",
      "    threshold: 0.39537437870771214\n",
      "    threshold_idx: 16\n",
      "    \n",
      "\n",
      "    TPR: 1.0\n",
      "    FPR: 0.5666666666666667\n",
      "    threshold: 0.006734006734006734\n",
      "    threshold_idx: 17\n",
      "    \n",
      "\n",
      "    TPR: 1.0\n",
      "    FPR: 0.6\n",
      "    threshold: 0.0037386855568673745\n",
      "    threshold_idx: 18\n",
      "    \n",
      "\n",
      "    TPR: 1.0\n",
      "    FPR: 0.6333333333333333\n",
      "    threshold: 0.0012626262626262627\n",
      "    threshold_idx: 19\n",
      "    \n",
      "\n",
      "    TPR: 1.0\n",
      "    FPR: 0.7111111111111111\n",
      "    threshold: 0.0008417508417508417\n",
      "    threshold_idx: 20\n",
      "    \n",
      "\n",
      "    TPR: 1.0\n",
      "    FPR: 1.0\n",
      "    threshold: 0.0\n",
      "    threshold_idx: 21\n",
      "    \n"
     ]
    }
   ],
   "source": [
    "for idx, metric in enumerate(list(zip(tpr, fpr, thresholds))[1::]):\n",
    "    tpr_, fpr_, threshold =  metric[0], metric[1], metric[2]\n",
    "    print(f'''\n",
    "    TPR: {tpr_}\n",
    "    FPR: {fpr_}\n",
    "    threshold: {threshold}\n",
    "    threshold_idx: {idx + 1}\n",
    "    ''')"
   ],
   "metadata": {
    "collapsed": false
   }
  },
  {
   "cell_type": "markdown",
   "source": [
    "We want to minimise false positives..\n",
    "\n",
    "How does this graph help us? IG I could manually calculate (using the graph) the precesion, accuracy and  recall stats to determine which point is best."
   ],
   "metadata": {
    "collapsed": false
   }
  },
  {
   "cell_type": "code",
   "execution_count": 53,
   "outputs": [
    {
     "name": "stdout",
     "output_type": "stream",
     "text": [
      "Our model beats the dummy model\n"
     ]
    }
   ],
   "source": [
    "dm = DummyClassifier()\n",
    "dm.fit(x_train, y_train)\n",
    "dummy_score = dm.score(x_test, y_test)\n",
    "y_pred = rfc_best.predict(x_test)  # Model classifications\n",
    "accuracy = accuracy_score(y_test, y_pred)\n",
    "\n",
    "print(f'{\"Our model beats the dummy model\" if accuracy > dummy_score else \"Our model does not beat the dummy model.\"}')"
   ],
   "metadata": {
    "collapsed": false
   }
  },
  {
   "cell_type": "code",
   "execution_count": 54,
   "outputs": [
    {
     "name": "stdout",
     "output_type": "stream",
     "text": [
      "              precision    recall  f1-score   support\n",
      "\n",
      "           0       0.97      0.94      0.96        90\n",
      "           1       0.91      0.94      0.93        53\n",
      "\n",
      "    accuracy                           0.94       143\n",
      "   macro avg       0.94      0.94      0.94       143\n",
      "weighted avg       0.94      0.94      0.94       143\n",
      "\n",
      "True negatives: 87\n",
      "False negatives: 3\n",
      "True positives: 50\n",
      "False positives: 3\n"
     ]
    }
   ],
   "source": [
    "print(classification_report(y_test, y_real_pred))\n",
    "c = confusion_matrix(y_test, y_pred_real)\n",
    "print(f'True negatives: {c[0][0]}')\n",
    "print(f'False negatives: {c[1][0]}')\n",
    "print(f'True positives: {c[1][1]}')\n",
    "print(f'False positives: {c[0][1]}')"
   ],
   "metadata": {
    "collapsed": false
   }
  },
  {
   "cell_type": "code",
   "execution_count": null,
   "outputs": [],
   "source": [],
   "metadata": {
    "collapsed": false
   }
  }
 ],
 "metadata": {
  "kernelspec": {
   "display_name": "Python 3",
   "language": "python",
   "name": "python3"
  },
  "language_info": {
   "codemirror_mode": {
    "name": "ipython",
    "version": 2
   },
   "file_extension": ".py",
   "mimetype": "text/x-python",
   "name": "python",
   "nbconvert_exporter": "python",
   "pygments_lexer": "ipython2",
   "version": "2.7.6"
  }
 },
 "nbformat": 4,
 "nbformat_minor": 0
}
