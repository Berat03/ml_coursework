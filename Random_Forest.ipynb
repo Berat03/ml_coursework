{
 "cells": [
  {
   "cell_type": "markdown",
   "source": [
    "Pros:\n",
    "    Very accurate and robust\n",
    "    Does not suffer from overfitting\n",
    "    Can do feature selection\n",
    "Cons:\n",
    "    Computational complexity\n",
    "    Difficult to interpret?\n"
   ],
   "metadata": {
    "collapsed": false
   }
  },
  {
   "cell_type": "code",
   "execution_count": 1,
   "outputs": [],
   "source": [
    "import seaborn as sns\n",
    "import pandas as pd\n",
    "import matplotlib.pyplot as plt\n",
    "from sklearn.model_selection import train_test_split\n",
    "from sklearn.preprocessing import LabelEncoder, StandardScaler\n",
    "import warnings\n",
    "warnings.filterwarnings(\"ignore\")\n",
    "from sklearn.ensemble import RandomForestClassifier\n",
    "from sklearn.metrics import accuracy_score\n",
    "from sklearn.metrics import confusion_matrix\n",
    "from sklearn.metrics import classification_report\n",
    "\n"
   ],
   "metadata": {
    "collapsed": false
   }
  },
  {
   "cell_type": "code",
   "execution_count": 6,
   "outputs": [],
   "source": [
    "df = pd.read_csv('./Data Exploration/wdbc.csv')\n",
    "df = df.drop([\"Area\", \"AreaSE\", \"AreaWorst\", \"Perimeter\", \"PerimeterSE\", \"PerimeterWorst\"], axis = 1)\n",
    "encoder = LabelEncoder().fit(df[\"B/M\"])\n",
    "df['B/M'] = encoder.transform(df[\"B/M\"])\n",
    "not_data = [\"ID\", \"B/M\"]\n",
    "label = df[\"B/M\"]\n",
    "feature = df.drop(not_data, axis = 1)\n",
    "data = pd.concat([label, feature], axis=1)"
   ],
   "metadata": {
    "collapsed": false
   }
  },
  {
   "cell_type": "markdown",
   "source": [
    "No need to standardise as not sensitive to magnitude"
   ],
   "metadata": {
    "collapsed": false
   }
  },
  {
   "cell_type": "code",
   "execution_count": 7,
   "outputs": [],
   "source": [
    "x_train, x_test, y_train, y_test = train_test_split(feature, label, test_size=0.25, stratify=label)"
   ],
   "metadata": {
    "collapsed": false
   }
  },
  {
   "cell_type": "code",
   "execution_count": 8,
   "outputs": [
    {
     "name": "stdout",
     "output_type": "stream",
     "text": [
      "0.972027972027972\n",
      "RadiusWorst              0.298765\n",
      "Concavity                0.270377\n",
      "ConcavePointsWorst       0.089226\n",
      "Compactness              0.086639\n",
      "RadiusSE                 0.041497\n",
      "ConcavityWorst           0.037414\n",
      "TextureWorst             0.021240\n",
      "Radius                   0.017632\n",
      "CompactnessSE            0.014151\n",
      "SymmetryWorst            0.014064\n",
      "FractalDimension         0.014028\n",
      "CompactnessWorst         0.013062\n",
      "FractalDimensionSE       0.011705\n",
      "SmoothnessWorst          0.010222\n",
      "ConcavePoints            0.010179\n",
      "Smoothness               0.009698\n",
      "Symmetry                 0.008758\n",
      "SmoothnessSE             0.008260\n",
      "ConcavePointsSE          0.005820\n",
      "Texture                  0.005295\n",
      "FractalDimensionWorst    0.004146\n",
      "ConcavitySE              0.003501\n",
      "TextureSE                0.002812\n",
      "SymmetrySE               0.001510\n",
      "dtype: float64\n"
     ]
    }
   ],
   "source": [
    "# ROC ROC CURE, AUC CURVE\n",
    "\n",
    "rfc = RandomForestClassifier(random_state=0, n_estimators=10)\n",
    "rfc.fit(x_train, y_train)\n",
    "y_pred = rfc.predict(x_test)\n",
    "\n",
    "print(accuracy_score(y_test, y_pred))\n",
    "feature_scores = pd.Series(rfc.feature_importances_, index=x_train.columns).sort_values(ascending=False)\n",
    "print(feature_scores)"
   ],
   "metadata": {
    "collapsed": false
   }
  },
  {
   "cell_type": "code",
   "execution_count": 9,
   "outputs": [
    {
     "name": "stdout",
     "output_type": "stream",
     "text": [
      "Confusion matrix\n",
      "\n",
      " [[88  2]\n",
      " [ 2 51]]\n",
      "              precision    recall  f1-score   support\n",
      "\n",
      "           0       0.98      0.98      0.98        90\n",
      "           1       0.96      0.96      0.96        53\n",
      "\n",
      "    accuracy                           0.97       143\n",
      "   macro avg       0.97      0.97      0.97       143\n",
      "weighted avg       0.97      0.97      0.97       143\n",
      "\n"
     ]
    }
   ],
   "source": [
    "\n",
    "\n",
    "cm = confusion_matrix(y_test, y_pred)\n",
    "\n",
    "print('Confusion matrix\\n\\n', cm)\n",
    "\n",
    "print(classification_report(y_test, y_pred))"
   ],
   "metadata": {
    "collapsed": false
   }
  },
  {
   "cell_type": "code",
   "execution_count": null,
   "outputs": [],
   "source": [
    "feature_scores = feature_scores.index.tolist()\n",
    "important_features = feature_scores[:-10]\n",
    "print(important_features)\n",
    "feature = df[important_features]\n",
    "print(feature)\n",
    "x_train, x_test, y_train, y_test = train_test_split(feature, label, test_size=0.25, stratify=label)\n",
    "\n"
   ],
   "metadata": {
    "collapsed": false
   }
  },
  {
   "cell_type": "code",
   "execution_count": null,
   "outputs": [],
   "source": [
    "rfc = RandomForestClassifier(random_state=0, n_estimators=10)\n",
    "rfc.fit(x_train, y_train)\n",
    "y_pred = rfc.predict(x_test)\n",
    "\n",
    "print(accuracy_score(y_test, y_pred))\n",
    "feature_scores = pd.Series(rfc.feature_importances_, index=x_train.columns).sort_values(ascending=False)\n",
    "\n"
   ],
   "metadata": {
    "collapsed": false
   }
  },
  {
   "cell_type": "code",
   "execution_count": null,
   "outputs": [],
   "source": [],
   "metadata": {
    "collapsed": false
   }
  }
 ],
 "metadata": {
  "kernelspec": {
   "display_name": "Python 3",
   "language": "python",
   "name": "python3"
  },
  "language_info": {
   "codemirror_mode": {
    "name": "ipython",
    "version": 2
   },
   "file_extension": ".py",
   "mimetype": "text/x-python",
   "name": "python",
   "nbconvert_exporter": "python",
   "pygments_lexer": "ipython2",
   "version": "2.7.6"
  }
 },
 "nbformat": 4,
 "nbformat_minor": 0
}
