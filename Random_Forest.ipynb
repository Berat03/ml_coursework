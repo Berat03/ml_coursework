{
 "cells": [
  {
   "cell_type": "code",
   "execution_count": 312,
   "outputs": [],
   "source": [
    "import seaborn as sns\n",
    "import pandas as pd\n",
    "import matplotlib.pyplot as plt\n",
    "from sklearn.model_selection import train_test_split\n",
    "from sklearn.preprocessing import LabelEncoder, StandardScaler\n",
    "import warnings\n",
    "warnings.filterwarnings(\"ignore\")\n",
    "from sklearn import metrics\n",
    "from sklearn.model_selection import train_test_split, learning_curve\n",
    "from sklearn.ensemble import RandomForestClassifier\n",
    "from sklearn.metrics import confusion_matrix, classification_report, accuracy_score\n",
    "from sklearn.model_selection import RandomizedSearchCV\n",
    "import numpy as np\n"
   ],
   "metadata": {
    "collapsed": false
   }
  },
  {
   "cell_type": "markdown",
   "source": [
    "# Get Data"
   ],
   "metadata": {
    "collapsed": false
   }
  },
  {
   "cell_type": "code",
   "execution_count": 313,
   "outputs": [],
   "source": [
    "df = pd.read_csv('./Data Exploration/wdbc.csv')\n",
    "df = df.drop([\"Area\", \"AreaSE\", \"AreaWorst\", \"Perimeter\", \"PerimeterSE\", \"PerimeterWorst\"], axis = 1)\n",
    "# get higher scores if i use this, but shouldnt as too correlated\n",
    "encoder = LabelEncoder().fit(df[\"B/M\"])\n",
    "df['B/M'] = encoder.transform(df[\"B/M\"])\n",
    "not_data = [\"ID\", \"B/M\"]\n",
    "label = df[\"B/M\"]\n",
    "feature = df.drop(not_data, axis = 1)\n",
    "data = pd.concat([label, feature], axis=1)"
   ],
   "metadata": {
    "collapsed": false
   }
  },
  {
   "cell_type": "markdown",
   "source": [
    "No need to standardise as not sensitive to magnitude. So we can now split into test and train sets"
   ],
   "metadata": {
    "collapsed": false
   }
  },
  {
   "cell_type": "code",
   "execution_count": 314,
   "outputs": [],
   "source": [
    "x_train, x_test, y_train, y_test = train_test_split(feature, label, test_size=0.25, stratify=label)"
   ],
   "metadata": {
    "collapsed": false
   }
  },
  {
   "cell_type": "markdown",
   "source": [
    "# Create & Train Model"
   ],
   "metadata": {
    "collapsed": false
   }
  },
  {
   "cell_type": "code",
   "execution_count": 315,
   "outputs": [
    {
     "name": "stdout",
     "output_type": "stream",
     "text": [
      "              precision    recall  f1-score   support\n",
      "\n",
      "           0       0.97      0.96      0.96        90\n",
      "           1       0.93      0.94      0.93        53\n",
      "\n",
      "    accuracy                           0.95       143\n",
      "   macro avg       0.95      0.95      0.95       143\n",
      "weighted avg       0.95      0.95      0.95       143\n",
      "\n",
      "Confusion matrix\n",
      "\n",
      " [[86  4]\n",
      " [ 3 50]]\n",
      "0.951048951048951\n"
     ]
    }
   ],
   "source": [
    "rfc = RandomForestClassifier(random_state=0, n_estimators=10)\n",
    "rfc.fit(x_train, y_train)\n",
    "y_pred = rfc.predict(x_test)\n",
    "\n",
    "cm = confusion_matrix(y_test, y_pred)\n",
    "\n",
    "print(classification_report(y_test, y_pred))\n",
    "print('Confusion matrix\\n\\n', cm)\n",
    "\n",
    "print(accuracy_score(y_test, y_pred))\n"
   ],
   "metadata": {
    "collapsed": false
   }
  },
  {
   "cell_type": "markdown",
   "source": [
    "From the confusion matrix we can see only 4 incorrect guesses (2 FP and 2 FN)."
   ],
   "metadata": {
    "collapsed": false
   }
  },
  {
   "cell_type": "code",
   "execution_count": 316,
   "outputs": [
    {
     "name": "stdout",
     "output_type": "stream",
     "text": [
      "RadiusWorst              0.272910\n",
      "Concavity                0.181427\n",
      "ConcavePointsWorst       0.098388\n",
      "Radius                   0.085794\n",
      "Compactness              0.066867\n",
      "ConcavityWorst           0.043484\n",
      "ConcavePoints            0.042821\n",
      "CompactnessWorst         0.031001\n",
      "TextureWorst             0.020603\n",
      "Texture                  0.020463\n",
      "SmoothnessWorst          0.018919\n",
      "Smoothness               0.015217\n",
      "RadiusSE                 0.013411\n",
      "FractalDimensionSE       0.012769\n",
      "Symmetry                 0.010566\n",
      "SymmetrySE               0.009531\n",
      "SmoothnessSE             0.009304\n",
      "ConcavitySE              0.008868\n",
      "ConcavePointsSE          0.007722\n",
      "FractalDimensionWorst    0.007462\n",
      "TextureSE                0.006139\n",
      "FractalDimension         0.005607\n",
      "CompactnessSE            0.005485\n",
      "SymmetryWorst            0.005242\n",
      "dtype: float64\n",
      "['RadiusWorst', 'Concavity', 'ConcavePointsWorst', 'Radius', 'Compactness', 'ConcavityWorst', 'ConcavePoints', 'CompactnessWorst', 'TextureWorst', 'Texture', 'SmoothnessWorst', 'Smoothness', 'RadiusSE']\n"
     ]
    }
   ],
   "source": [
    "# We use this instead to determine the most important features\n",
    "feature_scores = pd.Series(rfc.feature_importances_, index=x_train.columns).sort_values(ascending=False)\n",
    "print(feature_scores)\n",
    "feature_scores = feature_scores.index.tolist()\n",
    "important_features = feature_scores[:-11]\n",
    "print(important_features)\n",
    "feature = df[important_features]\n",
    "x_train, x_test, y_train, y_test = train_test_split(feature, label, test_size=0.25, stratify=label)\n"
   ],
   "metadata": {
    "collapsed": false
   }
  },
  {
   "cell_type": "code",
   "execution_count": 317,
   "outputs": [
    {
     "name": "stdout",
     "output_type": "stream",
     "text": [
      "0.9790209790209791\n",
      "[[90  0]\n",
      " [ 3 50]]\n"
     ]
    }
   ],
   "source": [
    "# trying it again with different columns\n",
    "rfc = RandomForestClassifier(random_state=0, n_estimators=100)\n",
    "rfc.fit(x_train, y_train)\n",
    "y_pred = rfc.predict(x_test)\n",
    "\n",
    "print(accuracy_score(y_test, y_pred))\n",
    "feature_scores = pd.Series(rfc.feature_importances_, index=x_train.columns).sort_values(ascending=False)\n",
    "print(confusion_matrix(y_test, y_pred))\n",
    "\n"
   ],
   "metadata": {
    "collapsed": false
   }
  },
  {
   "cell_type": "markdown",
   "source": [
    "# Hyperparameter Tuning"
   ],
   "metadata": {
    "collapsed": false
   }
  },
  {
   "cell_type": "code",
   "execution_count": 318,
   "outputs": [],
   "source": [
    "n_estimators = [int(x) for x in range(1,100,1)]\n",
    "max_depth = [int(x) for x in np.linspace(20, 150, num = 5)]\n",
    "max_depth.append(None)\n",
    "max_features = ['sqrt']\n",
    "min_samples_split = [2, 5, 10]\n",
    "min_samples_leaf = [1, 2, 4]\n",
    "bootstrap = [True, False]\n",
    "random_grid = {'n_estimators': n_estimators,\n",
    "               'max_features': max_features,\n",
    "               'max_depth': max_depth,\n",
    "               'min_samples_split': min_samples_split,\n",
    "               'min_samples_leaf': min_samples_leaf,\n",
    "               'bootstrap': bootstrap}"
   ],
   "metadata": {
    "collapsed": false
   }
  },
  {
   "cell_type": "code",
   "execution_count": 319,
   "outputs": [
    {
     "name": "stdout",
     "output_type": "stream",
     "text": [
      "Fitting 3 folds for each of 100 candidates, totalling 300 fits\n",
      "RandomForestClassifier(max_depth=20, min_samples_leaf=2, min_samples_split=5,\n",
      "                       n_estimators=71, random_state=0)\n",
      "0.9790209790209791\n"
     ]
    }
   ],
   "source": [
    "rf_random = RandomizedSearchCV(estimator = rfc, param_distributions = random_grid, n_iter = 100, cv = 3, verbose=2, random_state=42, n_jobs = -1)\n",
    "rf_random.fit(x_train, y_train)\n",
    "best_random = rf_random.best_estimator_\n",
    "y_pred = best_random.predict(x_test)\n",
    "print(rf_random.best_estimator_)\n",
    "print(metrics.accuracy_score(y_test, y_pred))"
   ],
   "metadata": {
    "collapsed": false
   }
  },
  {
   "cell_type": "markdown",
   "source": [
    "# Test for over/ underfitting\n",
    "\n"
   ],
   "metadata": {
    "collapsed": false
   }
  },
  {
   "cell_type": "code",
   "execution_count": 320,
   "outputs": [
    {
     "data": {
      "text/plain": "<Figure size 1000x500 with 2 Axes>",
      "image/png": "[encoded data removed]"
     },
     "metadata": {},
     "output_type": "display_data"
    }
   ],
   "source": [
    "train_sizes_abs_accuracy, train_accuracy, test_accuracy = learning_curve(estimator=best_random, X=x_train, y=y_train, scoring='accuracy', cv=5)\n",
    "\n",
    "train_sizes_abs_error, train_error, test_error = learning_curve(estimator=best_random, X=x_train, y=y_train, scoring='recall', cv=5)\n",
    "\n",
    "fig, ax = plt.subplots(1, 2, figsize=(10, 5))\n",
    "# Array of tuples (train_size, train_score)\n",
    "train_avg_accuracy, test_avg_accuracy, train_avg_error, test_avg_error = [], [], [], []\n",
    "\n",
    "for i in range(len(train_sizes_abs_accuracy)):\n",
    "    train_avg_accuracy.append(np.average(train_accuracy[i]))\n",
    "    test_avg_accuracy.append(np.average(test_accuracy[i]))\n",
    "\n",
    "for i in range(len(train_sizes_abs_error)):\n",
    "    train_avg_error.append(np.average(train_error[i]))\n",
    "    test_avg_error.append(np.average(test_error[i]))\n",
    "\n",
    "# Accuracy learning curve\n",
    "ax[0].plot(train_sizes_abs_accuracy, train_avg_accuracy)\n",
    "ax[0].plot(train_sizes_abs_accuracy, test_avg_accuracy)\n",
    "ax[0].legend(['Train', 'Test'])\n",
    "ax[0].set_ylabel('Accuracy')\n",
    "ax[0].set_xlabel('Num. samples')\n",
    "\n",
    "# Error learning curve\n",
    "ax[1].plot(train_sizes_abs_error, train_avg_error)\n",
    "ax[1].plot(train_sizes_abs_error, test_avg_error)\n",
    "ax[1].legend(['Train', 'Test'])\n",
    "ax[1].set_xlabel('Num. of training samples')\n",
    "ax[1].set_ylabel('Recall')\n",
    "plt.show()"
   ],
   "metadata": {
    "collapsed": false
   }
  },
  {
   "cell_type": "markdown",
   "source": [
    "100% accuracy and not changing with the number of samples is clearly overfitting, so we will manually remove the least significant variables we calculated to simplify our model- so that we can make up for our lack of instances."
   ],
   "metadata": {
    "collapsed": false
   }
  }
 ],
 "metadata": {
  "kernelspec": {
   "display_name": "Python 3",
   "language": "python",
   "name": "python3"
  },
  "language_info": {
   "codemirror_mode": {
    "name": "ipython",
    "version": 2
   },
   "file_extension": ".py",
   "mimetype": "text/x-python",
   "name": "python",
   "nbconvert_exporter": "python",
   "pygments_lexer": "ipython2",
   "version": "2.7.6"
  }
 },
 "nbformat": 4,
 "nbformat_minor": 0
}
